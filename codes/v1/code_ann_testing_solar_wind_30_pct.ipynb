{
 "cells": [
  {
   "cell_type": "markdown",
   "metadata": {},
   "source": [
    "### Import libraries"
   ]
  },
  {
   "cell_type": "code",
   "execution_count": 1,
   "metadata": {},
   "outputs": [],
   "source": [
    "import pandas as pd\n",
    "import os\n",
    "from tensorflow.keras.models import load_model\n",
    "from sklearn.metrics import mean_squared_error"
   ]
  },
  {
   "cell_type": "markdown",
   "metadata": {},
   "source": [
    "### Set the data repository as the working directory "
   ]
  },
  {
   "cell_type": "code",
   "execution_count": 2,
   "metadata": {},
   "outputs": [
    {
     "name": "stdout",
     "output_type": "stream",
     "text": [
      "C:\\Users\\Asus\\Documents\\College\\UP - MS EE\\SY 2022-2023 Second Semester (temporary, final files in new laptop)\\EE 290\\Files (NEW Jun 22) FINAL FINAL\\codes\n"
     ]
    }
   ],
   "source": [
    "print(os.path.abspath(os.curdir))"
   ]
  },
  {
   "cell_type": "code",
   "execution_count": 3,
   "metadata": {},
   "outputs": [
    {
     "name": "stdout",
     "output_type": "stream",
     "text": [
      "C:\\Users\\Asus\\Documents\\College\\UP - MS EE\\SY 2022-2023 Second Semester (temporary, final files in new laptop)\\EE 290\\Files (NEW Jun 22) FINAL FINAL\\data\n"
     ]
    }
   ],
   "source": [
    "os.chdir(\"../data\")\n",
    "print(os.path.abspath(os.curdir))"
   ]
  },
  {
   "cell_type": "markdown",
   "metadata": {},
   "source": [
    "### Import the test set (solar and wind inclusion)"
   ]
  },
  {
   "cell_type": "markdown",
   "metadata": {},
   "source": [
    "##### Test set (solar and wind inclusion)"
   ]
  },
  {
   "cell_type": "code",
   "execution_count": 4,
   "metadata": {
    "scrolled": true
   },
   "outputs": [
    {
     "data": {
      "text/html": [
       "<div>\n",
       "<style scoped>\n",
       "    .dataframe tbody tr th:only-of-type {\n",
       "        vertical-align: middle;\n",
       "    }\n",
       "\n",
       "    .dataframe tbody tr th {\n",
       "        vertical-align: top;\n",
       "    }\n",
       "\n",
       "    .dataframe thead th {\n",
       "        text-align: right;\n",
       "    }\n",
       "</style>\n",
       "<table border=\"1\" class=\"dataframe\">\n",
       "  <thead>\n",
       "    <tr style=\"text-align: right;\">\n",
       "      <th></th>\n",
       "      <th>scenario</th>\n",
       "      <th>pd_2</th>\n",
       "      <th>qd_2</th>\n",
       "      <th>pd_3</th>\n",
       "      <th>qd_3</th>\n",
       "      <th>pd_4</th>\n",
       "      <th>qd_4</th>\n",
       "      <th>pd_5</th>\n",
       "      <th>qd_5</th>\n",
       "      <th>pd_6</th>\n",
       "      <th>...</th>\n",
       "      <th>pd_29</th>\n",
       "      <th>qd_29</th>\n",
       "      <th>pd_30</th>\n",
       "      <th>qd_30</th>\n",
       "      <th>pd_31</th>\n",
       "      <th>qd_31</th>\n",
       "      <th>pd_32</th>\n",
       "      <th>qd_32</th>\n",
       "      <th>pd_33</th>\n",
       "      <th>qd_33</th>\n",
       "    </tr>\n",
       "  </thead>\n",
       "  <tbody>\n",
       "    <tr>\n",
       "      <th>0</th>\n",
       "      <td>1</td>\n",
       "      <td>0.034699</td>\n",
       "      <td>0.007573</td>\n",
       "      <td>0.045639</td>\n",
       "      <td>0.018038</td>\n",
       "      <td>0.041021</td>\n",
       "      <td>0.007125</td>\n",
       "      <td>0.031436</td>\n",
       "      <td>0.009529</td>\n",
       "      <td>0.027359</td>\n",
       "      <td>...</td>\n",
       "      <td>0.063776</td>\n",
       "      <td>0.040361</td>\n",
       "      <td>0.101603</td>\n",
       "      <td>0.058396</td>\n",
       "      <td>0.077677</td>\n",
       "      <td>0.030700</td>\n",
       "      <td>0.117351</td>\n",
       "      <td>0.086486</td>\n",
       "      <td>0.024336</td>\n",
       "      <td>0.002183</td>\n",
       "    </tr>\n",
       "    <tr>\n",
       "      <th>1</th>\n",
       "      <td>2</td>\n",
       "      <td>0.034556</td>\n",
       "      <td>0.007371</td>\n",
       "      <td>0.045064</td>\n",
       "      <td>0.017669</td>\n",
       "      <td>0.039444</td>\n",
       "      <td>0.007077</td>\n",
       "      <td>0.030837</td>\n",
       "      <td>0.009231</td>\n",
       "      <td>0.026833</td>\n",
       "      <td>...</td>\n",
       "      <td>0.062670</td>\n",
       "      <td>0.039661</td>\n",
       "      <td>0.099900</td>\n",
       "      <td>0.057418</td>\n",
       "      <td>0.076220</td>\n",
       "      <td>0.029884</td>\n",
       "      <td>0.115035</td>\n",
       "      <td>0.085078</td>\n",
       "      <td>0.024143</td>\n",
       "      <td>0.002166</td>\n",
       "    </tr>\n",
       "    <tr>\n",
       "      <th>2</th>\n",
       "      <td>3</td>\n",
       "      <td>0.034414</td>\n",
       "      <td>0.007166</td>\n",
       "      <td>0.044490</td>\n",
       "      <td>0.017302</td>\n",
       "      <td>0.036141</td>\n",
       "      <td>0.005897</td>\n",
       "      <td>0.030238</td>\n",
       "      <td>0.009051</td>\n",
       "      <td>0.026307</td>\n",
       "      <td>...</td>\n",
       "      <td>0.061563</td>\n",
       "      <td>0.039122</td>\n",
       "      <td>0.098197</td>\n",
       "      <td>0.056177</td>\n",
       "      <td>0.074763</td>\n",
       "      <td>0.029548</td>\n",
       "      <td>0.112719</td>\n",
       "      <td>0.083659</td>\n",
       "      <td>0.023950</td>\n",
       "      <td>0.002149</td>\n",
       "    </tr>\n",
       "    <tr>\n",
       "      <th>3</th>\n",
       "      <td>4</td>\n",
       "      <td>0.034272</td>\n",
       "      <td>0.006959</td>\n",
       "      <td>0.043915</td>\n",
       "      <td>0.017079</td>\n",
       "      <td>0.034811</td>\n",
       "      <td>0.005607</td>\n",
       "      <td>0.029639</td>\n",
       "      <td>0.008872</td>\n",
       "      <td>0.025781</td>\n",
       "      <td>...</td>\n",
       "      <td>0.060457</td>\n",
       "      <td>0.038577</td>\n",
       "      <td>0.096495</td>\n",
       "      <td>0.055202</td>\n",
       "      <td>0.073306</td>\n",
       "      <td>0.028741</td>\n",
       "      <td>0.110403</td>\n",
       "      <td>0.082227</td>\n",
       "      <td>0.023757</td>\n",
       "      <td>0.002131</td>\n",
       "    </tr>\n",
       "    <tr>\n",
       "      <th>4</th>\n",
       "      <td>5</td>\n",
       "      <td>0.034130</td>\n",
       "      <td>0.006750</td>\n",
       "      <td>0.043340</td>\n",
       "      <td>0.016992</td>\n",
       "      <td>0.033481</td>\n",
       "      <td>0.005016</td>\n",
       "      <td>0.029040</td>\n",
       "      <td>0.008693</td>\n",
       "      <td>0.025255</td>\n",
       "      <td>...</td>\n",
       "      <td>0.059350</td>\n",
       "      <td>0.037716</td>\n",
       "      <td>0.094792</td>\n",
       "      <td>0.054482</td>\n",
       "      <td>0.071848</td>\n",
       "      <td>0.028396</td>\n",
       "      <td>0.108087</td>\n",
       "      <td>0.080502</td>\n",
       "      <td>0.023564</td>\n",
       "      <td>0.002114</td>\n",
       "    </tr>\n",
       "  </tbody>\n",
       "</table>\n",
       "<p>5 rows × 65 columns</p>\n",
       "</div>"
      ],
      "text/plain": [
       "   scenario      pd_2      qd_2      pd_3      qd_3      pd_4      qd_4  \\\n",
       "0         1  0.034699  0.007573  0.045639  0.018038  0.041021  0.007125   \n",
       "1         2  0.034556  0.007371  0.045064  0.017669  0.039444  0.007077   \n",
       "2         3  0.034414  0.007166  0.044490  0.017302  0.036141  0.005897   \n",
       "3         4  0.034272  0.006959  0.043915  0.017079  0.034811  0.005607   \n",
       "4         5  0.034130  0.006750  0.043340  0.016992  0.033481  0.005016   \n",
       "\n",
       "       pd_5      qd_5      pd_6  ...     pd_29     qd_29     pd_30     qd_30  \\\n",
       "0  0.031436  0.009529  0.027359  ...  0.063776  0.040361  0.101603  0.058396   \n",
       "1  0.030837  0.009231  0.026833  ...  0.062670  0.039661  0.099900  0.057418   \n",
       "2  0.030238  0.009051  0.026307  ...  0.061563  0.039122  0.098197  0.056177   \n",
       "3  0.029639  0.008872  0.025781  ...  0.060457  0.038577  0.096495  0.055202   \n",
       "4  0.029040  0.008693  0.025255  ...  0.059350  0.037716  0.094792  0.054482   \n",
       "\n",
       "      pd_31     qd_31     pd_32     qd_32     pd_33     qd_33  \n",
       "0  0.077677  0.030700  0.117351  0.086486  0.024336  0.002183  \n",
       "1  0.076220  0.029884  0.115035  0.085078  0.024143  0.002166  \n",
       "2  0.074763  0.029548  0.112719  0.083659  0.023950  0.002149  \n",
       "3  0.073306  0.028741  0.110403  0.082227  0.023757  0.002131  \n",
       "4  0.071848  0.028396  0.108087  0.080502  0.023564  0.002114  \n",
       "\n",
       "[5 rows x 65 columns]"
      ]
     },
     "execution_count": 4,
     "metadata": {},
     "output_type": "execute_result"
    }
   ],
   "source": [
    "pd_qd_test_solar_wind_30_pct = pd.read_csv('pd_qd_test_solar_wind_30_pct.csv')\n",
    "pd_qd_test_solar_wind_30_pct.head()"
   ]
  },
  {
   "cell_type": "code",
   "execution_count": 5,
   "metadata": {},
   "outputs": [
    {
     "data": {
      "text/html": [
       "<div>\n",
       "<style scoped>\n",
       "    .dataframe tbody tr th:only-of-type {\n",
       "        vertical-align: middle;\n",
       "    }\n",
       "\n",
       "    .dataframe tbody tr th {\n",
       "        vertical-align: top;\n",
       "    }\n",
       "\n",
       "    .dataframe thead th {\n",
       "        text-align: right;\n",
       "    }\n",
       "</style>\n",
       "<table border=\"1\" class=\"dataframe\">\n",
       "  <thead>\n",
       "    <tr style=\"text-align: right;\">\n",
       "      <th></th>\n",
       "      <th>scenario</th>\n",
       "      <th>pg_1</th>\n",
       "      <th>pg_18</th>\n",
       "      <th>v_18</th>\n",
       "      <th>pg_22</th>\n",
       "      <th>v_22</th>\n",
       "      <th>pg_25</th>\n",
       "      <th>v_25</th>\n",
       "      <th>pg_33</th>\n",
       "      <th>v_33</th>\n",
       "    </tr>\n",
       "  </thead>\n",
       "  <tbody>\n",
       "    <tr>\n",
       "      <th>0</th>\n",
       "      <td>1</td>\n",
       "      <td>2.105388e-06</td>\n",
       "      <td>0.352326</td>\n",
       "      <td>1.022860</td>\n",
       "      <td>0.427477</td>\n",
       "      <td>1.004971</td>\n",
       "      <td>0.499906</td>\n",
       "      <td>1.001255</td>\n",
       "      <td>0.500000</td>\n",
       "      <td>1.016953</td>\n",
       "    </tr>\n",
       "    <tr>\n",
       "      <th>1</th>\n",
       "      <td>2</td>\n",
       "      <td>2.884193e-07</td>\n",
       "      <td>0.339475</td>\n",
       "      <td>1.022708</td>\n",
       "      <td>0.408073</td>\n",
       "      <td>1.004684</td>\n",
       "      <td>0.499992</td>\n",
       "      <td>1.001383</td>\n",
       "      <td>0.499990</td>\n",
       "      <td>1.017407</td>\n",
       "    </tr>\n",
       "    <tr>\n",
       "      <th>2</th>\n",
       "      <td>3</td>\n",
       "      <td>6.290558e-07</td>\n",
       "      <td>0.325290</td>\n",
       "      <td>1.022527</td>\n",
       "      <td>0.386188</td>\n",
       "      <td>1.004354</td>\n",
       "      <td>0.499978</td>\n",
       "      <td>1.001532</td>\n",
       "      <td>0.499987</td>\n",
       "      <td>1.017863</td>\n",
       "    </tr>\n",
       "    <tr>\n",
       "      <th>3</th>\n",
       "      <td>4</td>\n",
       "      <td>2.384247e-07</td>\n",
       "      <td>0.312889</td>\n",
       "      <td>1.022411</td>\n",
       "      <td>0.367015</td>\n",
       "      <td>1.004071</td>\n",
       "      <td>0.499990</td>\n",
       "      <td>1.001671</td>\n",
       "      <td>0.499995</td>\n",
       "      <td>1.018324</td>\n",
       "    </tr>\n",
       "    <tr>\n",
       "      <th>4</th>\n",
       "      <td>5</td>\n",
       "      <td>2.741106e-07</td>\n",
       "      <td>0.300615</td>\n",
       "      <td>1.022282</td>\n",
       "      <td>0.348093</td>\n",
       "      <td>1.003797</td>\n",
       "      <td>0.499978</td>\n",
       "      <td>1.001810</td>\n",
       "      <td>0.499666</td>\n",
       "      <td>1.018770</td>\n",
       "    </tr>\n",
       "  </tbody>\n",
       "</table>\n",
       "</div>"
      ],
      "text/plain": [
       "   scenario          pg_1     pg_18      v_18     pg_22      v_22     pg_25  \\\n",
       "0         1  2.105388e-06  0.352326  1.022860  0.427477  1.004971  0.499906   \n",
       "1         2  2.884193e-07  0.339475  1.022708  0.408073  1.004684  0.499992   \n",
       "2         3  6.290558e-07  0.325290  1.022527  0.386188  1.004354  0.499978   \n",
       "3         4  2.384247e-07  0.312889  1.022411  0.367015  1.004071  0.499990   \n",
       "4         5  2.741106e-07  0.300615  1.022282  0.348093  1.003797  0.499978   \n",
       "\n",
       "       v_25     pg_33      v_33  \n",
       "0  1.001255  0.500000  1.016953  \n",
       "1  1.001383  0.499990  1.017407  \n",
       "2  1.001532  0.499987  1.017863  \n",
       "3  1.001671  0.499995  1.018324  \n",
       "4  1.001810  0.499666  1.018770  "
      ]
     },
     "execution_count": 5,
     "metadata": {},
     "output_type": "execute_result"
    }
   ],
   "source": [
    "pg_v_test_solar_wind_30_pct = pd.read_csv('pg_v_test_solar_wind_30_pct.csv')\n",
    "pg_v_test_solar_wind_30_pct.head()"
   ]
  },
  {
   "cell_type": "markdown",
   "metadata": {},
   "source": [
    "### Separate the dependent variables (optimal generator setpoints) and the independent variables (non-dispatchable loads)\n",
    "Non-dispatchable loads: $x = (P_{D_{i}},Q_{D_{i}})\\forall i\\in \\Omega_{D}$\n",
    "<br>\n",
    "Optimal generator setpoints: $y = (P_{G_{j}},V_{j})\\forall j\\in \\Omega_{G}$"
   ]
  },
  {
   "cell_type": "markdown",
   "metadata": {},
   "source": [
    "##### Test set (solar and wind inclusion)"
   ]
  },
  {
   "cell_type": "code",
   "execution_count": 6,
   "metadata": {},
   "outputs": [
    {
     "data": {
      "text/html": [
       "<div>\n",
       "<style scoped>\n",
       "    .dataframe tbody tr th:only-of-type {\n",
       "        vertical-align: middle;\n",
       "    }\n",
       "\n",
       "    .dataframe tbody tr th {\n",
       "        vertical-align: top;\n",
       "    }\n",
       "\n",
       "    .dataframe thead th {\n",
       "        text-align: right;\n",
       "    }\n",
       "</style>\n",
       "<table border=\"1\" class=\"dataframe\">\n",
       "  <thead>\n",
       "    <tr style=\"text-align: right;\">\n",
       "      <th></th>\n",
       "      <th>pd_2</th>\n",
       "      <th>qd_2</th>\n",
       "      <th>pd_3</th>\n",
       "      <th>qd_3</th>\n",
       "      <th>pd_4</th>\n",
       "      <th>qd_4</th>\n",
       "      <th>pd_5</th>\n",
       "      <th>qd_5</th>\n",
       "      <th>pd_6</th>\n",
       "      <th>qd_6</th>\n",
       "      <th>...</th>\n",
       "      <th>pd_29</th>\n",
       "      <th>qd_29</th>\n",
       "      <th>pd_30</th>\n",
       "      <th>qd_30</th>\n",
       "      <th>pd_31</th>\n",
       "      <th>qd_31</th>\n",
       "      <th>pd_32</th>\n",
       "      <th>qd_32</th>\n",
       "      <th>pd_33</th>\n",
       "      <th>qd_33</th>\n",
       "    </tr>\n",
       "  </thead>\n",
       "  <tbody>\n",
       "    <tr>\n",
       "      <th>0</th>\n",
       "      <td>0.034699</td>\n",
       "      <td>0.007573</td>\n",
       "      <td>0.045639</td>\n",
       "      <td>0.018038</td>\n",
       "      <td>0.041021</td>\n",
       "      <td>0.007125</td>\n",
       "      <td>0.031436</td>\n",
       "      <td>0.009529</td>\n",
       "      <td>0.027359</td>\n",
       "      <td>0.019239</td>\n",
       "      <td>...</td>\n",
       "      <td>0.063776</td>\n",
       "      <td>0.040361</td>\n",
       "      <td>0.101603</td>\n",
       "      <td>0.058396</td>\n",
       "      <td>0.077677</td>\n",
       "      <td>0.030700</td>\n",
       "      <td>0.117351</td>\n",
       "      <td>0.086486</td>\n",
       "      <td>0.024336</td>\n",
       "      <td>0.002183</td>\n",
       "    </tr>\n",
       "    <tr>\n",
       "      <th>1</th>\n",
       "      <td>0.034556</td>\n",
       "      <td>0.007371</td>\n",
       "      <td>0.045064</td>\n",
       "      <td>0.017669</td>\n",
       "      <td>0.039444</td>\n",
       "      <td>0.007077</td>\n",
       "      <td>0.030837</td>\n",
       "      <td>0.009231</td>\n",
       "      <td>0.026833</td>\n",
       "      <td>0.018800</td>\n",
       "      <td>...</td>\n",
       "      <td>0.062670</td>\n",
       "      <td>0.039661</td>\n",
       "      <td>0.099900</td>\n",
       "      <td>0.057418</td>\n",
       "      <td>0.076220</td>\n",
       "      <td>0.029884</td>\n",
       "      <td>0.115035</td>\n",
       "      <td>0.085078</td>\n",
       "      <td>0.024143</td>\n",
       "      <td>0.002166</td>\n",
       "    </tr>\n",
       "    <tr>\n",
       "      <th>2</th>\n",
       "      <td>0.034414</td>\n",
       "      <td>0.007166</td>\n",
       "      <td>0.044490</td>\n",
       "      <td>0.017302</td>\n",
       "      <td>0.036141</td>\n",
       "      <td>0.005897</td>\n",
       "      <td>0.030238</td>\n",
       "      <td>0.009051</td>\n",
       "      <td>0.026307</td>\n",
       "      <td>0.018499</td>\n",
       "      <td>...</td>\n",
       "      <td>0.061563</td>\n",
       "      <td>0.039122</td>\n",
       "      <td>0.098197</td>\n",
       "      <td>0.056177</td>\n",
       "      <td>0.074763</td>\n",
       "      <td>0.029548</td>\n",
       "      <td>0.112719</td>\n",
       "      <td>0.083659</td>\n",
       "      <td>0.023950</td>\n",
       "      <td>0.002149</td>\n",
       "    </tr>\n",
       "    <tr>\n",
       "      <th>3</th>\n",
       "      <td>0.034272</td>\n",
       "      <td>0.006959</td>\n",
       "      <td>0.043915</td>\n",
       "      <td>0.017079</td>\n",
       "      <td>0.034811</td>\n",
       "      <td>0.005607</td>\n",
       "      <td>0.029639</td>\n",
       "      <td>0.008872</td>\n",
       "      <td>0.025781</td>\n",
       "      <td>0.018130</td>\n",
       "      <td>...</td>\n",
       "      <td>0.060457</td>\n",
       "      <td>0.038577</td>\n",
       "      <td>0.096495</td>\n",
       "      <td>0.055202</td>\n",
       "      <td>0.073306</td>\n",
       "      <td>0.028741</td>\n",
       "      <td>0.110403</td>\n",
       "      <td>0.082227</td>\n",
       "      <td>0.023757</td>\n",
       "      <td>0.002131</td>\n",
       "    </tr>\n",
       "    <tr>\n",
       "      <th>4</th>\n",
       "      <td>0.034130</td>\n",
       "      <td>0.006750</td>\n",
       "      <td>0.043340</td>\n",
       "      <td>0.016992</td>\n",
       "      <td>0.033481</td>\n",
       "      <td>0.005016</td>\n",
       "      <td>0.029040</td>\n",
       "      <td>0.008693</td>\n",
       "      <td>0.025255</td>\n",
       "      <td>0.017825</td>\n",
       "      <td>...</td>\n",
       "      <td>0.059350</td>\n",
       "      <td>0.037716</td>\n",
       "      <td>0.094792</td>\n",
       "      <td>0.054482</td>\n",
       "      <td>0.071848</td>\n",
       "      <td>0.028396</td>\n",
       "      <td>0.108087</td>\n",
       "      <td>0.080502</td>\n",
       "      <td>0.023564</td>\n",
       "      <td>0.002114</td>\n",
       "    </tr>\n",
       "  </tbody>\n",
       "</table>\n",
       "<p>5 rows × 64 columns</p>\n",
       "</div>"
      ],
      "text/plain": [
       "       pd_2      qd_2      pd_3      qd_3      pd_4      qd_4      pd_5  \\\n",
       "0  0.034699  0.007573  0.045639  0.018038  0.041021  0.007125  0.031436   \n",
       "1  0.034556  0.007371  0.045064  0.017669  0.039444  0.007077  0.030837   \n",
       "2  0.034414  0.007166  0.044490  0.017302  0.036141  0.005897  0.030238   \n",
       "3  0.034272  0.006959  0.043915  0.017079  0.034811  0.005607  0.029639   \n",
       "4  0.034130  0.006750  0.043340  0.016992  0.033481  0.005016  0.029040   \n",
       "\n",
       "       qd_5      pd_6      qd_6  ...     pd_29     qd_29     pd_30     qd_30  \\\n",
       "0  0.009529  0.027359  0.019239  ...  0.063776  0.040361  0.101603  0.058396   \n",
       "1  0.009231  0.026833  0.018800  ...  0.062670  0.039661  0.099900  0.057418   \n",
       "2  0.009051  0.026307  0.018499  ...  0.061563  0.039122  0.098197  0.056177   \n",
       "3  0.008872  0.025781  0.018130  ...  0.060457  0.038577  0.096495  0.055202   \n",
       "4  0.008693  0.025255  0.017825  ...  0.059350  0.037716  0.094792  0.054482   \n",
       "\n",
       "      pd_31     qd_31     pd_32     qd_32     pd_33     qd_33  \n",
       "0  0.077677  0.030700  0.117351  0.086486  0.024336  0.002183  \n",
       "1  0.076220  0.029884  0.115035  0.085078  0.024143  0.002166  \n",
       "2  0.074763  0.029548  0.112719  0.083659  0.023950  0.002149  \n",
       "3  0.073306  0.028741  0.110403  0.082227  0.023757  0.002131  \n",
       "4  0.071848  0.028396  0.108087  0.080502  0.023564  0.002114  \n",
       "\n",
       "[5 rows x 64 columns]"
      ]
     },
     "execution_count": 6,
     "metadata": {},
     "output_type": "execute_result"
    }
   ],
   "source": [
    "x_test_solar_wind_30_pct = pd_qd_test_solar_wind_30_pct.loc[:, pd_qd_test_solar_wind_30_pct.columns != 'scenario']\n",
    "x_test_solar_wind_30_pct.head()"
   ]
  },
  {
   "cell_type": "code",
   "execution_count": 7,
   "metadata": {},
   "outputs": [
    {
     "data": {
      "text/html": [
       "<div>\n",
       "<style scoped>\n",
       "    .dataframe tbody tr th:only-of-type {\n",
       "        vertical-align: middle;\n",
       "    }\n",
       "\n",
       "    .dataframe tbody tr th {\n",
       "        vertical-align: top;\n",
       "    }\n",
       "\n",
       "    .dataframe thead th {\n",
       "        text-align: right;\n",
       "    }\n",
       "</style>\n",
       "<table border=\"1\" class=\"dataframe\">\n",
       "  <thead>\n",
       "    <tr style=\"text-align: right;\">\n",
       "      <th></th>\n",
       "      <th>pg_1</th>\n",
       "      <th>pg_18</th>\n",
       "      <th>v_18</th>\n",
       "      <th>pg_22</th>\n",
       "      <th>v_22</th>\n",
       "      <th>pg_25</th>\n",
       "      <th>v_25</th>\n",
       "      <th>pg_33</th>\n",
       "      <th>v_33</th>\n",
       "    </tr>\n",
       "  </thead>\n",
       "  <tbody>\n",
       "    <tr>\n",
       "      <th>0</th>\n",
       "      <td>2.105388e-06</td>\n",
       "      <td>0.352326</td>\n",
       "      <td>1.022860</td>\n",
       "      <td>0.427477</td>\n",
       "      <td>1.004971</td>\n",
       "      <td>0.499906</td>\n",
       "      <td>1.001255</td>\n",
       "      <td>0.500000</td>\n",
       "      <td>1.016953</td>\n",
       "    </tr>\n",
       "    <tr>\n",
       "      <th>1</th>\n",
       "      <td>2.884193e-07</td>\n",
       "      <td>0.339475</td>\n",
       "      <td>1.022708</td>\n",
       "      <td>0.408073</td>\n",
       "      <td>1.004684</td>\n",
       "      <td>0.499992</td>\n",
       "      <td>1.001383</td>\n",
       "      <td>0.499990</td>\n",
       "      <td>1.017407</td>\n",
       "    </tr>\n",
       "    <tr>\n",
       "      <th>2</th>\n",
       "      <td>6.290558e-07</td>\n",
       "      <td>0.325290</td>\n",
       "      <td>1.022527</td>\n",
       "      <td>0.386188</td>\n",
       "      <td>1.004354</td>\n",
       "      <td>0.499978</td>\n",
       "      <td>1.001532</td>\n",
       "      <td>0.499987</td>\n",
       "      <td>1.017863</td>\n",
       "    </tr>\n",
       "    <tr>\n",
       "      <th>3</th>\n",
       "      <td>2.384247e-07</td>\n",
       "      <td>0.312889</td>\n",
       "      <td>1.022411</td>\n",
       "      <td>0.367015</td>\n",
       "      <td>1.004071</td>\n",
       "      <td>0.499990</td>\n",
       "      <td>1.001671</td>\n",
       "      <td>0.499995</td>\n",
       "      <td>1.018324</td>\n",
       "    </tr>\n",
       "    <tr>\n",
       "      <th>4</th>\n",
       "      <td>2.741106e-07</td>\n",
       "      <td>0.300615</td>\n",
       "      <td>1.022282</td>\n",
       "      <td>0.348093</td>\n",
       "      <td>1.003797</td>\n",
       "      <td>0.499978</td>\n",
       "      <td>1.001810</td>\n",
       "      <td>0.499666</td>\n",
       "      <td>1.018770</td>\n",
       "    </tr>\n",
       "  </tbody>\n",
       "</table>\n",
       "</div>"
      ],
      "text/plain": [
       "           pg_1     pg_18      v_18     pg_22      v_22     pg_25      v_25  \\\n",
       "0  2.105388e-06  0.352326  1.022860  0.427477  1.004971  0.499906  1.001255   \n",
       "1  2.884193e-07  0.339475  1.022708  0.408073  1.004684  0.499992  1.001383   \n",
       "2  6.290558e-07  0.325290  1.022527  0.386188  1.004354  0.499978  1.001532   \n",
       "3  2.384247e-07  0.312889  1.022411  0.367015  1.004071  0.499990  1.001671   \n",
       "4  2.741106e-07  0.300615  1.022282  0.348093  1.003797  0.499978  1.001810   \n",
       "\n",
       "      pg_33      v_33  \n",
       "0  0.500000  1.016953  \n",
       "1  0.499990  1.017407  \n",
       "2  0.499987  1.017863  \n",
       "3  0.499995  1.018324  \n",
       "4  0.499666  1.018770  "
      ]
     },
     "execution_count": 7,
     "metadata": {},
     "output_type": "execute_result"
    }
   ],
   "source": [
    "y_test_solar_wind_30_pct = pg_v_test_solar_wind_30_pct.loc[:, pg_v_test_solar_wind_30_pct.columns != 'scenario']\n",
    "y_test_solar_wind_30_pct.head()"
   ]
  },
  {
   "cell_type": "markdown",
   "metadata": {},
   "source": [
    "### Test the trained models on the test set (solar and wind inclusion)"
   ]
  },
  {
   "cell_type": "code",
   "execution_count": 8,
   "metadata": {},
   "outputs": [],
   "source": [
    "model_1 = load_model('model_1.h5')\n",
    "model_2 = load_model('model_2.h5')\n",
    "model_3 = load_model('model_3.h5')"
   ]
  },
  {
   "cell_type": "markdown",
   "metadata": {},
   "source": [
    "##### Using model 1 that was trained using training group 1"
   ]
  },
  {
   "cell_type": "code",
   "execution_count": 9,
   "metadata": {},
   "outputs": [
    {
     "data": {
      "text/html": [
       "<div>\n",
       "<style scoped>\n",
       "    .dataframe tbody tr th:only-of-type {\n",
       "        vertical-align: middle;\n",
       "    }\n",
       "\n",
       "    .dataframe tbody tr th {\n",
       "        vertical-align: top;\n",
       "    }\n",
       "\n",
       "    .dataframe thead th {\n",
       "        text-align: right;\n",
       "    }\n",
       "</style>\n",
       "<table border=\"1\" class=\"dataframe\">\n",
       "  <thead>\n",
       "    <tr style=\"text-align: right;\">\n",
       "      <th></th>\n",
       "      <th>pg_1</th>\n",
       "      <th>pg_18</th>\n",
       "      <th>v_18</th>\n",
       "      <th>pg_22</th>\n",
       "      <th>v_22</th>\n",
       "      <th>pg_25</th>\n",
       "      <th>v_25</th>\n",
       "      <th>pg_33</th>\n",
       "      <th>v_33</th>\n",
       "    </tr>\n",
       "  </thead>\n",
       "  <tbody>\n",
       "    <tr>\n",
       "      <th>0</th>\n",
       "      <td>0.000206</td>\n",
       "      <td>0.345587</td>\n",
       "      <td>1.023130</td>\n",
       "      <td>0.430712</td>\n",
       "      <td>1.004909</td>\n",
       "      <td>0.499983</td>\n",
       "      <td>1.001009</td>\n",
       "      <td>0.499929</td>\n",
       "      <td>1.017654</td>\n",
       "    </tr>\n",
       "    <tr>\n",
       "      <th>1</th>\n",
       "      <td>0.000206</td>\n",
       "      <td>0.332836</td>\n",
       "      <td>1.022993</td>\n",
       "      <td>0.411231</td>\n",
       "      <td>1.004615</td>\n",
       "      <td>0.499990</td>\n",
       "      <td>1.001135</td>\n",
       "      <td>0.499927</td>\n",
       "      <td>1.018120</td>\n",
       "    </tr>\n",
       "    <tr>\n",
       "      <th>2</th>\n",
       "      <td>0.000216</td>\n",
       "      <td>0.318102</td>\n",
       "      <td>1.022841</td>\n",
       "      <td>0.389619</td>\n",
       "      <td>1.004294</td>\n",
       "      <td>0.500002</td>\n",
       "      <td>1.001266</td>\n",
       "      <td>0.499938</td>\n",
       "      <td>1.018618</td>\n",
       "    </tr>\n",
       "    <tr>\n",
       "      <th>3</th>\n",
       "      <td>0.000221</td>\n",
       "      <td>0.305838</td>\n",
       "      <td>1.022723</td>\n",
       "      <td>0.370733</td>\n",
       "      <td>1.004027</td>\n",
       "      <td>0.500013</td>\n",
       "      <td>1.001393</td>\n",
       "      <td>0.499521</td>\n",
       "      <td>1.019052</td>\n",
       "    </tr>\n",
       "    <tr>\n",
       "      <th>4</th>\n",
       "      <td>0.000194</td>\n",
       "      <td>0.295541</td>\n",
       "      <td>1.022645</td>\n",
       "      <td>0.354946</td>\n",
       "      <td>1.003838</td>\n",
       "      <td>0.500012</td>\n",
       "      <td>1.001494</td>\n",
       "      <td>0.495749</td>\n",
       "      <td>1.019345</td>\n",
       "    </tr>\n",
       "  </tbody>\n",
       "</table>\n",
       "</div>"
      ],
      "text/plain": [
       "       pg_1     pg_18      v_18     pg_22      v_22     pg_25      v_25  \\\n",
       "0  0.000206  0.345587  1.023130  0.430712  1.004909  0.499983  1.001009   \n",
       "1  0.000206  0.332836  1.022993  0.411231  1.004615  0.499990  1.001135   \n",
       "2  0.000216  0.318102  1.022841  0.389619  1.004294  0.500002  1.001266   \n",
       "3  0.000221  0.305838  1.022723  0.370733  1.004027  0.500013  1.001393   \n",
       "4  0.000194  0.295541  1.022645  0.354946  1.003838  0.500012  1.001494   \n",
       "\n",
       "      pg_33      v_33  \n",
       "0  0.499929  1.017654  \n",
       "1  0.499927  1.018120  \n",
       "2  0.499938  1.018618  \n",
       "3  0.499521  1.019052  \n",
       "4  0.495749  1.019345  "
      ]
     },
     "execution_count": 9,
     "metadata": {},
     "output_type": "execute_result"
    }
   ],
   "source": [
    "y_test_solar_wind_30_pct_pred_1 = model_1.predict(x_test_solar_wind_30_pct)\n",
    "y_test_solar_wind_30_pct_pred_1 = pd.DataFrame(data = y_test_solar_wind_30_pct_pred_1,\n",
    "                                 columns = ['pg_1', 'pg_18', 'v_18', 'pg_22', 'v_22', 'pg_25', 'v_25', 'pg_33', 'v_33'])\n",
    "y_test_solar_wind_30_pct_pred_1.head()"
   ]
  },
  {
   "cell_type": "code",
   "execution_count": 10,
   "metadata": {},
   "outputs": [
    {
     "data": {
      "text/html": [
       "<div>\n",
       "<style scoped>\n",
       "    .dataframe tbody tr th:only-of-type {\n",
       "        vertical-align: middle;\n",
       "    }\n",
       "\n",
       "    .dataframe tbody tr th {\n",
       "        vertical-align: top;\n",
       "    }\n",
       "\n",
       "    .dataframe thead th {\n",
       "        text-align: right;\n",
       "    }\n",
       "</style>\n",
       "<table border=\"1\" class=\"dataframe\">\n",
       "  <thead>\n",
       "    <tr style=\"text-align: right;\">\n",
       "      <th></th>\n",
       "      <th>scenario</th>\n",
       "      <th>pg_1</th>\n",
       "      <th>pg_18</th>\n",
       "      <th>v_18</th>\n",
       "      <th>pg_22</th>\n",
       "      <th>v_22</th>\n",
       "      <th>pg_25</th>\n",
       "      <th>v_25</th>\n",
       "      <th>pg_33</th>\n",
       "      <th>v_33</th>\n",
       "    </tr>\n",
       "  </thead>\n",
       "  <tbody>\n",
       "    <tr>\n",
       "      <th>0</th>\n",
       "      <td>1</td>\n",
       "      <td>0.000206</td>\n",
       "      <td>0.345587</td>\n",
       "      <td>1.023130</td>\n",
       "      <td>0.430712</td>\n",
       "      <td>1.004909</td>\n",
       "      <td>0.499983</td>\n",
       "      <td>1.001009</td>\n",
       "      <td>0.499929</td>\n",
       "      <td>1.017654</td>\n",
       "    </tr>\n",
       "    <tr>\n",
       "      <th>1</th>\n",
       "      <td>2</td>\n",
       "      <td>0.000206</td>\n",
       "      <td>0.332836</td>\n",
       "      <td>1.022993</td>\n",
       "      <td>0.411231</td>\n",
       "      <td>1.004615</td>\n",
       "      <td>0.499990</td>\n",
       "      <td>1.001135</td>\n",
       "      <td>0.499927</td>\n",
       "      <td>1.018120</td>\n",
       "    </tr>\n",
       "    <tr>\n",
       "      <th>2</th>\n",
       "      <td>3</td>\n",
       "      <td>0.000216</td>\n",
       "      <td>0.318102</td>\n",
       "      <td>1.022841</td>\n",
       "      <td>0.389619</td>\n",
       "      <td>1.004294</td>\n",
       "      <td>0.500002</td>\n",
       "      <td>1.001266</td>\n",
       "      <td>0.499938</td>\n",
       "      <td>1.018618</td>\n",
       "    </tr>\n",
       "    <tr>\n",
       "      <th>3</th>\n",
       "      <td>4</td>\n",
       "      <td>0.000221</td>\n",
       "      <td>0.305838</td>\n",
       "      <td>1.022723</td>\n",
       "      <td>0.370733</td>\n",
       "      <td>1.004027</td>\n",
       "      <td>0.500013</td>\n",
       "      <td>1.001393</td>\n",
       "      <td>0.499521</td>\n",
       "      <td>1.019052</td>\n",
       "    </tr>\n",
       "    <tr>\n",
       "      <th>4</th>\n",
       "      <td>5</td>\n",
       "      <td>0.000194</td>\n",
       "      <td>0.295541</td>\n",
       "      <td>1.022645</td>\n",
       "      <td>0.354946</td>\n",
       "      <td>1.003838</td>\n",
       "      <td>0.500012</td>\n",
       "      <td>1.001494</td>\n",
       "      <td>0.495749</td>\n",
       "      <td>1.019345</td>\n",
       "    </tr>\n",
       "  </tbody>\n",
       "</table>\n",
       "</div>"
      ],
      "text/plain": [
       "   scenario      pg_1     pg_18      v_18     pg_22      v_22     pg_25  \\\n",
       "0         1  0.000206  0.345587  1.023130  0.430712  1.004909  0.499983   \n",
       "1         2  0.000206  0.332836  1.022993  0.411231  1.004615  0.499990   \n",
       "2         3  0.000216  0.318102  1.022841  0.389619  1.004294  0.500002   \n",
       "3         4  0.000221  0.305838  1.022723  0.370733  1.004027  0.500013   \n",
       "4         5  0.000194  0.295541  1.022645  0.354946  1.003838  0.500012   \n",
       "\n",
       "       v_25     pg_33      v_33  \n",
       "0  1.001009  0.499929  1.017654  \n",
       "1  1.001135  0.499927  1.018120  \n",
       "2  1.001266  0.499938  1.018618  \n",
       "3  1.001393  0.499521  1.019052  \n",
       "4  1.001494  0.495749  1.019345  "
      ]
     },
     "execution_count": 10,
     "metadata": {},
     "output_type": "execute_result"
    }
   ],
   "source": [
    "pg_v_test_solar_wind_30_pct_pred_1 = pd.concat([pg_v_test_solar_wind_30_pct.scenario, y_test_solar_wind_30_pct_pred_1], axis = 1)\n",
    "pg_v_test_solar_wind_30_pct_pred_1.head()"
   ]
  },
  {
   "cell_type": "code",
   "execution_count": 11,
   "metadata": {},
   "outputs": [],
   "source": [
    "pg_v_test_solar_wind_30_pct_pred_1.to_csv('pg_v_test_solar_wind_30_pct_pred_1.csv', index = False, float_format = '%0.20f')"
   ]
  },
  {
   "cell_type": "markdown",
   "metadata": {},
   "source": [
    "##### Using model 2 that was trained using training group 2"
   ]
  },
  {
   "cell_type": "code",
   "execution_count": 12,
   "metadata": {},
   "outputs": [
    {
     "data": {
      "text/html": [
       "<div>\n",
       "<style scoped>\n",
       "    .dataframe tbody tr th:only-of-type {\n",
       "        vertical-align: middle;\n",
       "    }\n",
       "\n",
       "    .dataframe tbody tr th {\n",
       "        vertical-align: top;\n",
       "    }\n",
       "\n",
       "    .dataframe thead th {\n",
       "        text-align: right;\n",
       "    }\n",
       "</style>\n",
       "<table border=\"1\" class=\"dataframe\">\n",
       "  <thead>\n",
       "    <tr style=\"text-align: right;\">\n",
       "      <th></th>\n",
       "      <th>pg_1</th>\n",
       "      <th>pg_18</th>\n",
       "      <th>v_18</th>\n",
       "      <th>pg_22</th>\n",
       "      <th>v_22</th>\n",
       "      <th>pg_25</th>\n",
       "      <th>v_25</th>\n",
       "      <th>pg_33</th>\n",
       "      <th>v_33</th>\n",
       "    </tr>\n",
       "  </thead>\n",
       "  <tbody>\n",
       "    <tr>\n",
       "      <th>0</th>\n",
       "      <td>-0.000010</td>\n",
       "      <td>0.352540</td>\n",
       "      <td>1.022640</td>\n",
       "      <td>0.427986</td>\n",
       "      <td>1.005006</td>\n",
       "      <td>0.499851</td>\n",
       "      <td>1.001225</td>\n",
       "      <td>0.499772</td>\n",
       "      <td>1.016790</td>\n",
       "    </tr>\n",
       "    <tr>\n",
       "      <th>1</th>\n",
       "      <td>-0.000004</td>\n",
       "      <td>0.339919</td>\n",
       "      <td>1.022495</td>\n",
       "      <td>0.408451</td>\n",
       "      <td>1.004726</td>\n",
       "      <td>0.499843</td>\n",
       "      <td>1.001346</td>\n",
       "      <td>0.499770</td>\n",
       "      <td>1.017236</td>\n",
       "    </tr>\n",
       "    <tr>\n",
       "      <th>2</th>\n",
       "      <td>0.000003</td>\n",
       "      <td>0.325724</td>\n",
       "      <td>1.022302</td>\n",
       "      <td>0.386608</td>\n",
       "      <td>1.004407</td>\n",
       "      <td>0.499836</td>\n",
       "      <td>1.001488</td>\n",
       "      <td>0.499770</td>\n",
       "      <td>1.017679</td>\n",
       "    </tr>\n",
       "    <tr>\n",
       "      <th>3</th>\n",
       "      <td>0.000009</td>\n",
       "      <td>0.313346</td>\n",
       "      <td>1.022176</td>\n",
       "      <td>0.367557</td>\n",
       "      <td>1.004136</td>\n",
       "      <td>0.499778</td>\n",
       "      <td>1.001618</td>\n",
       "      <td>0.499714</td>\n",
       "      <td>1.018125</td>\n",
       "    </tr>\n",
       "    <tr>\n",
       "      <th>4</th>\n",
       "      <td>0.000017</td>\n",
       "      <td>0.301337</td>\n",
       "      <td>1.022031</td>\n",
       "      <td>0.349028</td>\n",
       "      <td>1.003883</td>\n",
       "      <td>0.499861</td>\n",
       "      <td>1.001743</td>\n",
       "      <td>0.498648</td>\n",
       "      <td>1.018516</td>\n",
       "    </tr>\n",
       "  </tbody>\n",
       "</table>\n",
       "</div>"
      ],
      "text/plain": [
       "       pg_1     pg_18      v_18     pg_22      v_22     pg_25      v_25  \\\n",
       "0 -0.000010  0.352540  1.022640  0.427986  1.005006  0.499851  1.001225   \n",
       "1 -0.000004  0.339919  1.022495  0.408451  1.004726  0.499843  1.001346   \n",
       "2  0.000003  0.325724  1.022302  0.386608  1.004407  0.499836  1.001488   \n",
       "3  0.000009  0.313346  1.022176  0.367557  1.004136  0.499778  1.001618   \n",
       "4  0.000017  0.301337  1.022031  0.349028  1.003883  0.499861  1.001743   \n",
       "\n",
       "      pg_33      v_33  \n",
       "0  0.499772  1.016790  \n",
       "1  0.499770  1.017236  \n",
       "2  0.499770  1.017679  \n",
       "3  0.499714  1.018125  \n",
       "4  0.498648  1.018516  "
      ]
     },
     "execution_count": 12,
     "metadata": {},
     "output_type": "execute_result"
    }
   ],
   "source": [
    "y_test_solar_wind_30_pct_pred_2 = model_2.predict(x_test_solar_wind_30_pct)\n",
    "y_test_solar_wind_30_pct_pred_2 = pd.DataFrame(data = y_test_solar_wind_30_pct_pred_2,\n",
    "                             columns = ['pg_1', 'pg_18', 'v_18', 'pg_22', 'v_22', 'pg_25', 'v_25', 'pg_33', 'v_33'])\n",
    "y_test_solar_wind_30_pct_pred_2.head()"
   ]
  },
  {
   "cell_type": "code",
   "execution_count": 13,
   "metadata": {},
   "outputs": [
    {
     "data": {
      "text/html": [
       "<div>\n",
       "<style scoped>\n",
       "    .dataframe tbody tr th:only-of-type {\n",
       "        vertical-align: middle;\n",
       "    }\n",
       "\n",
       "    .dataframe tbody tr th {\n",
       "        vertical-align: top;\n",
       "    }\n",
       "\n",
       "    .dataframe thead th {\n",
       "        text-align: right;\n",
       "    }\n",
       "</style>\n",
       "<table border=\"1\" class=\"dataframe\">\n",
       "  <thead>\n",
       "    <tr style=\"text-align: right;\">\n",
       "      <th></th>\n",
       "      <th>scenario</th>\n",
       "      <th>pg_1</th>\n",
       "      <th>pg_18</th>\n",
       "      <th>v_18</th>\n",
       "      <th>pg_22</th>\n",
       "      <th>v_22</th>\n",
       "      <th>pg_25</th>\n",
       "      <th>v_25</th>\n",
       "      <th>pg_33</th>\n",
       "      <th>v_33</th>\n",
       "    </tr>\n",
       "  </thead>\n",
       "  <tbody>\n",
       "    <tr>\n",
       "      <th>0</th>\n",
       "      <td>1</td>\n",
       "      <td>-0.000010</td>\n",
       "      <td>0.352540</td>\n",
       "      <td>1.022640</td>\n",
       "      <td>0.427986</td>\n",
       "      <td>1.005006</td>\n",
       "      <td>0.499851</td>\n",
       "      <td>1.001225</td>\n",
       "      <td>0.499772</td>\n",
       "      <td>1.016790</td>\n",
       "    </tr>\n",
       "    <tr>\n",
       "      <th>1</th>\n",
       "      <td>2</td>\n",
       "      <td>-0.000004</td>\n",
       "      <td>0.339919</td>\n",
       "      <td>1.022495</td>\n",
       "      <td>0.408451</td>\n",
       "      <td>1.004726</td>\n",
       "      <td>0.499843</td>\n",
       "      <td>1.001346</td>\n",
       "      <td>0.499770</td>\n",
       "      <td>1.017236</td>\n",
       "    </tr>\n",
       "    <tr>\n",
       "      <th>2</th>\n",
       "      <td>3</td>\n",
       "      <td>0.000003</td>\n",
       "      <td>0.325724</td>\n",
       "      <td>1.022302</td>\n",
       "      <td>0.386608</td>\n",
       "      <td>1.004407</td>\n",
       "      <td>0.499836</td>\n",
       "      <td>1.001488</td>\n",
       "      <td>0.499770</td>\n",
       "      <td>1.017679</td>\n",
       "    </tr>\n",
       "    <tr>\n",
       "      <th>3</th>\n",
       "      <td>4</td>\n",
       "      <td>0.000009</td>\n",
       "      <td>0.313346</td>\n",
       "      <td>1.022176</td>\n",
       "      <td>0.367557</td>\n",
       "      <td>1.004136</td>\n",
       "      <td>0.499778</td>\n",
       "      <td>1.001618</td>\n",
       "      <td>0.499714</td>\n",
       "      <td>1.018125</td>\n",
       "    </tr>\n",
       "    <tr>\n",
       "      <th>4</th>\n",
       "      <td>5</td>\n",
       "      <td>0.000017</td>\n",
       "      <td>0.301337</td>\n",
       "      <td>1.022031</td>\n",
       "      <td>0.349028</td>\n",
       "      <td>1.003883</td>\n",
       "      <td>0.499861</td>\n",
       "      <td>1.001743</td>\n",
       "      <td>0.498648</td>\n",
       "      <td>1.018516</td>\n",
       "    </tr>\n",
       "  </tbody>\n",
       "</table>\n",
       "</div>"
      ],
      "text/plain": [
       "   scenario      pg_1     pg_18      v_18     pg_22      v_22     pg_25  \\\n",
       "0         1 -0.000010  0.352540  1.022640  0.427986  1.005006  0.499851   \n",
       "1         2 -0.000004  0.339919  1.022495  0.408451  1.004726  0.499843   \n",
       "2         3  0.000003  0.325724  1.022302  0.386608  1.004407  0.499836   \n",
       "3         4  0.000009  0.313346  1.022176  0.367557  1.004136  0.499778   \n",
       "4         5  0.000017  0.301337  1.022031  0.349028  1.003883  0.499861   \n",
       "\n",
       "       v_25     pg_33      v_33  \n",
       "0  1.001225  0.499772  1.016790  \n",
       "1  1.001346  0.499770  1.017236  \n",
       "2  1.001488  0.499770  1.017679  \n",
       "3  1.001618  0.499714  1.018125  \n",
       "4  1.001743  0.498648  1.018516  "
      ]
     },
     "execution_count": 13,
     "metadata": {},
     "output_type": "execute_result"
    }
   ],
   "source": [
    "pg_v_test_solar_wind_30_pct_pred_2 = pd.concat([pg_v_test_solar_wind_30_pct.scenario, y_test_solar_wind_30_pct_pred_2], axis = 1)\n",
    "pg_v_test_solar_wind_30_pct_pred_2.head()"
   ]
  },
  {
   "cell_type": "code",
   "execution_count": 14,
   "metadata": {},
   "outputs": [],
   "source": [
    "pg_v_test_solar_wind_30_pct_pred_2.to_csv('pg_v_test_solar_wind_30_pct_pred_2.csv', index = False, float_format = '%0.20f')"
   ]
  },
  {
   "cell_type": "markdown",
   "metadata": {},
   "source": [
    "##### Using model 3 that was trained using training group 3"
   ]
  },
  {
   "cell_type": "code",
   "execution_count": 15,
   "metadata": {},
   "outputs": [
    {
     "data": {
      "text/html": [
       "<div>\n",
       "<style scoped>\n",
       "    .dataframe tbody tr th:only-of-type {\n",
       "        vertical-align: middle;\n",
       "    }\n",
       "\n",
       "    .dataframe tbody tr th {\n",
       "        vertical-align: top;\n",
       "    }\n",
       "\n",
       "    .dataframe thead th {\n",
       "        text-align: right;\n",
       "    }\n",
       "</style>\n",
       "<table border=\"1\" class=\"dataframe\">\n",
       "  <thead>\n",
       "    <tr style=\"text-align: right;\">\n",
       "      <th></th>\n",
       "      <th>pg_1</th>\n",
       "      <th>pg_18</th>\n",
       "      <th>v_18</th>\n",
       "      <th>pg_22</th>\n",
       "      <th>v_22</th>\n",
       "      <th>pg_25</th>\n",
       "      <th>v_25</th>\n",
       "      <th>pg_33</th>\n",
       "      <th>v_33</th>\n",
       "    </tr>\n",
       "  </thead>\n",
       "  <tbody>\n",
       "    <tr>\n",
       "      <th>0</th>\n",
       "      <td>0.000420</td>\n",
       "      <td>0.351804</td>\n",
       "      <td>1.022901</td>\n",
       "      <td>0.427387</td>\n",
       "      <td>1.004995</td>\n",
       "      <td>0.500098</td>\n",
       "      <td>1.001266</td>\n",
       "      <td>0.500280</td>\n",
       "      <td>1.016965</td>\n",
       "    </tr>\n",
       "    <tr>\n",
       "      <th>1</th>\n",
       "      <td>0.000437</td>\n",
       "      <td>0.339076</td>\n",
       "      <td>1.022768</td>\n",
       "      <td>0.407932</td>\n",
       "      <td>1.004710</td>\n",
       "      <td>0.500105</td>\n",
       "      <td>1.001397</td>\n",
       "      <td>0.500292</td>\n",
       "      <td>1.017411</td>\n",
       "    </tr>\n",
       "    <tr>\n",
       "      <th>2</th>\n",
       "      <td>0.000455</td>\n",
       "      <td>0.324828</td>\n",
       "      <td>1.022594</td>\n",
       "      <td>0.386057</td>\n",
       "      <td>1.004378</td>\n",
       "      <td>0.500113</td>\n",
       "      <td>1.001552</td>\n",
       "      <td>0.500282</td>\n",
       "      <td>1.017871</td>\n",
       "    </tr>\n",
       "    <tr>\n",
       "      <th>3</th>\n",
       "      <td>0.000469</td>\n",
       "      <td>0.312378</td>\n",
       "      <td>1.022481</td>\n",
       "      <td>0.366939</td>\n",
       "      <td>1.004093</td>\n",
       "      <td>0.500119</td>\n",
       "      <td>1.001694</td>\n",
       "      <td>0.500280</td>\n",
       "      <td>1.018336</td>\n",
       "    </tr>\n",
       "    <tr>\n",
       "      <th>4</th>\n",
       "      <td>0.000480</td>\n",
       "      <td>0.300023</td>\n",
       "      <td>1.022354</td>\n",
       "      <td>0.348022</td>\n",
       "      <td>1.003823</td>\n",
       "      <td>0.500130</td>\n",
       "      <td>1.001836</td>\n",
       "      <td>0.500042</td>\n",
       "      <td>1.018782</td>\n",
       "    </tr>\n",
       "  </tbody>\n",
       "</table>\n",
       "</div>"
      ],
      "text/plain": [
       "       pg_1     pg_18      v_18     pg_22      v_22     pg_25      v_25  \\\n",
       "0  0.000420  0.351804  1.022901  0.427387  1.004995  0.500098  1.001266   \n",
       "1  0.000437  0.339076  1.022768  0.407932  1.004710  0.500105  1.001397   \n",
       "2  0.000455  0.324828  1.022594  0.386057  1.004378  0.500113  1.001552   \n",
       "3  0.000469  0.312378  1.022481  0.366939  1.004093  0.500119  1.001694   \n",
       "4  0.000480  0.300023  1.022354  0.348022  1.003823  0.500130  1.001836   \n",
       "\n",
       "      pg_33      v_33  \n",
       "0  0.500280  1.016965  \n",
       "1  0.500292  1.017411  \n",
       "2  0.500282  1.017871  \n",
       "3  0.500280  1.018336  \n",
       "4  0.500042  1.018782  "
      ]
     },
     "execution_count": 15,
     "metadata": {},
     "output_type": "execute_result"
    }
   ],
   "source": [
    "y_test_solar_wind_30_pct_pred_3 = model_3.predict(x_test_solar_wind_30_pct)\n",
    "y_test_solar_wind_30_pct_pred_3 = pd.DataFrame(data = y_test_solar_wind_30_pct_pred_3,\n",
    "                             columns = ['pg_1', 'pg_18', 'v_18', 'pg_22', 'v_22', 'pg_25', 'v_25', 'pg_33', 'v_33'])\n",
    "y_test_solar_wind_30_pct_pred_3.head()"
   ]
  },
  {
   "cell_type": "code",
   "execution_count": 16,
   "metadata": {},
   "outputs": [
    {
     "data": {
      "text/html": [
       "<div>\n",
       "<style scoped>\n",
       "    .dataframe tbody tr th:only-of-type {\n",
       "        vertical-align: middle;\n",
       "    }\n",
       "\n",
       "    .dataframe tbody tr th {\n",
       "        vertical-align: top;\n",
       "    }\n",
       "\n",
       "    .dataframe thead th {\n",
       "        text-align: right;\n",
       "    }\n",
       "</style>\n",
       "<table border=\"1\" class=\"dataframe\">\n",
       "  <thead>\n",
       "    <tr style=\"text-align: right;\">\n",
       "      <th></th>\n",
       "      <th>scenario</th>\n",
       "      <th>pg_1</th>\n",
       "      <th>pg_18</th>\n",
       "      <th>v_18</th>\n",
       "      <th>pg_22</th>\n",
       "      <th>v_22</th>\n",
       "      <th>pg_25</th>\n",
       "      <th>v_25</th>\n",
       "      <th>pg_33</th>\n",
       "      <th>v_33</th>\n",
       "    </tr>\n",
       "  </thead>\n",
       "  <tbody>\n",
       "    <tr>\n",
       "      <th>0</th>\n",
       "      <td>1</td>\n",
       "      <td>0.000420</td>\n",
       "      <td>0.351804</td>\n",
       "      <td>1.022901</td>\n",
       "      <td>0.427387</td>\n",
       "      <td>1.004995</td>\n",
       "      <td>0.500098</td>\n",
       "      <td>1.001266</td>\n",
       "      <td>0.500280</td>\n",
       "      <td>1.016965</td>\n",
       "    </tr>\n",
       "    <tr>\n",
       "      <th>1</th>\n",
       "      <td>2</td>\n",
       "      <td>0.000437</td>\n",
       "      <td>0.339076</td>\n",
       "      <td>1.022768</td>\n",
       "      <td>0.407932</td>\n",
       "      <td>1.004710</td>\n",
       "      <td>0.500105</td>\n",
       "      <td>1.001397</td>\n",
       "      <td>0.500292</td>\n",
       "      <td>1.017411</td>\n",
       "    </tr>\n",
       "    <tr>\n",
       "      <th>2</th>\n",
       "      <td>3</td>\n",
       "      <td>0.000455</td>\n",
       "      <td>0.324828</td>\n",
       "      <td>1.022594</td>\n",
       "      <td>0.386057</td>\n",
       "      <td>1.004378</td>\n",
       "      <td>0.500113</td>\n",
       "      <td>1.001552</td>\n",
       "      <td>0.500282</td>\n",
       "      <td>1.017871</td>\n",
       "    </tr>\n",
       "    <tr>\n",
       "      <th>3</th>\n",
       "      <td>4</td>\n",
       "      <td>0.000469</td>\n",
       "      <td>0.312378</td>\n",
       "      <td>1.022481</td>\n",
       "      <td>0.366939</td>\n",
       "      <td>1.004093</td>\n",
       "      <td>0.500119</td>\n",
       "      <td>1.001694</td>\n",
       "      <td>0.500280</td>\n",
       "      <td>1.018336</td>\n",
       "    </tr>\n",
       "    <tr>\n",
       "      <th>4</th>\n",
       "      <td>5</td>\n",
       "      <td>0.000480</td>\n",
       "      <td>0.300023</td>\n",
       "      <td>1.022354</td>\n",
       "      <td>0.348022</td>\n",
       "      <td>1.003823</td>\n",
       "      <td>0.500130</td>\n",
       "      <td>1.001836</td>\n",
       "      <td>0.500042</td>\n",
       "      <td>1.018782</td>\n",
       "    </tr>\n",
       "  </tbody>\n",
       "</table>\n",
       "</div>"
      ],
      "text/plain": [
       "   scenario      pg_1     pg_18      v_18     pg_22      v_22     pg_25  \\\n",
       "0         1  0.000420  0.351804  1.022901  0.427387  1.004995  0.500098   \n",
       "1         2  0.000437  0.339076  1.022768  0.407932  1.004710  0.500105   \n",
       "2         3  0.000455  0.324828  1.022594  0.386057  1.004378  0.500113   \n",
       "3         4  0.000469  0.312378  1.022481  0.366939  1.004093  0.500119   \n",
       "4         5  0.000480  0.300023  1.022354  0.348022  1.003823  0.500130   \n",
       "\n",
       "       v_25     pg_33      v_33  \n",
       "0  1.001266  0.500280  1.016965  \n",
       "1  1.001397  0.500292  1.017411  \n",
       "2  1.001552  0.500282  1.017871  \n",
       "3  1.001694  0.500280  1.018336  \n",
       "4  1.001836  0.500042  1.018782  "
      ]
     },
     "execution_count": 16,
     "metadata": {},
     "output_type": "execute_result"
    }
   ],
   "source": [
    "pg_v_test_solar_wind_30_pct_pred_3 = pd.concat([pg_v_test_solar_wind_30_pct.scenario, y_test_solar_wind_30_pct_pred_3], axis = 1)\n",
    "pg_v_test_solar_wind_30_pct_pred_3.head()"
   ]
  },
  {
   "cell_type": "code",
   "execution_count": 17,
   "metadata": {},
   "outputs": [],
   "source": [
    "pg_v_test_solar_wind_30_pct_pred_3.to_csv('pg_v_test_solar_wind_30_pct_pred_3.csv', index = False, float_format = '%0.20f')"
   ]
  },
  {
   "cell_type": "markdown",
   "metadata": {},
   "source": [
    "##### RMSE of $P_{G_{1}}$ estimates"
   ]
  },
  {
   "cell_type": "code",
   "execution_count": 18,
   "metadata": {},
   "outputs": [
    {
     "data": {
      "text/plain": [
       "0.002823704702262387"
      ]
     },
     "execution_count": 18,
     "metadata": {},
     "output_type": "execute_result"
    }
   ],
   "source": [
    "mean_squared_error(pg_v_test_solar_wind_30_pct.pg_1, pg_v_test_solar_wind_30_pct_pred_1.pg_1, squared = False)"
   ]
  },
  {
   "cell_type": "code",
   "execution_count": 19,
   "metadata": {},
   "outputs": [
    {
     "data": {
      "text/plain": [
       "0.002500604043303642"
      ]
     },
     "execution_count": 19,
     "metadata": {},
     "output_type": "execute_result"
    }
   ],
   "source": [
    "mean_squared_error(pg_v_test_solar_wind_30_pct.pg_1, pg_v_test_solar_wind_30_pct_pred_2.pg_1, squared = False)"
   ]
  },
  {
   "cell_type": "code",
   "execution_count": 20,
   "metadata": {},
   "outputs": [
    {
     "data": {
      "text/plain": [
       "0.04903261229166688"
      ]
     },
     "execution_count": 20,
     "metadata": {},
     "output_type": "execute_result"
    }
   ],
   "source": [
    "mean_squared_error(pg_v_test_solar_wind_30_pct.pg_1, pg_v_test_solar_wind_30_pct_pred_3.pg_1, squared = False)"
   ]
  },
  {
   "cell_type": "markdown",
   "metadata": {},
   "source": [
    "##### RMSE of $P_{G_{18}}$ estimates"
   ]
  },
  {
   "cell_type": "code",
   "execution_count": 21,
   "metadata": {},
   "outputs": [
    {
     "data": {
      "text/plain": [
       "0.0013470506260969586"
      ]
     },
     "execution_count": 21,
     "metadata": {},
     "output_type": "execute_result"
    }
   ],
   "source": [
    "mean_squared_error(pg_v_test_solar_wind_30_pct.pg_18, pg_v_test_solar_wind_30_pct_pred_1.pg_18, squared = False)"
   ]
  },
  {
   "cell_type": "code",
   "execution_count": 22,
   "metadata": {},
   "outputs": [
    {
     "data": {
      "text/plain": [
       "0.0029161102502068847"
      ]
     },
     "execution_count": 22,
     "metadata": {},
     "output_type": "execute_result"
    }
   ],
   "source": [
    "mean_squared_error(pg_v_test_solar_wind_30_pct.pg_18, pg_v_test_solar_wind_30_pct_pred_2.pg_18, squared = False)"
   ]
  },
  {
   "cell_type": "code",
   "execution_count": 23,
   "metadata": {},
   "outputs": [
    {
     "data": {
      "text/plain": [
       "0.0028002803470346845"
      ]
     },
     "execution_count": 23,
     "metadata": {},
     "output_type": "execute_result"
    }
   ],
   "source": [
    "mean_squared_error(pg_v_test_solar_wind_30_pct.pg_18, pg_v_test_solar_wind_30_pct_pred_3.pg_18, squared = False)"
   ]
  },
  {
   "cell_type": "markdown",
   "metadata": {},
   "source": [
    "##### RMSE of $P_{G_{22}}$ estimates"
   ]
  },
  {
   "cell_type": "code",
   "execution_count": 24,
   "metadata": {},
   "outputs": [
    {
     "data": {
      "text/plain": [
       "0.0014636168843218582"
      ]
     },
     "execution_count": 24,
     "metadata": {},
     "output_type": "execute_result"
    }
   ],
   "source": [
    "mean_squared_error(pg_v_test_solar_wind_30_pct.pg_22, pg_v_test_solar_wind_30_pct_pred_1.pg_22, squared = False)"
   ]
  },
  {
   "cell_type": "code",
   "execution_count": 25,
   "metadata": {},
   "outputs": [
    {
     "data": {
      "text/plain": [
       "0.00040174439926938334"
      ]
     },
     "execution_count": 25,
     "metadata": {},
     "output_type": "execute_result"
    }
   ],
   "source": [
    "mean_squared_error(pg_v_test_solar_wind_30_pct.pg_22, pg_v_test_solar_wind_30_pct_pred_2.pg_22, squared = False)"
   ]
  },
  {
   "cell_type": "code",
   "execution_count": 26,
   "metadata": {},
   "outputs": [
    {
     "data": {
      "text/plain": [
       "0.0029393501525075915"
      ]
     },
     "execution_count": 26,
     "metadata": {},
     "output_type": "execute_result"
    }
   ],
   "source": [
    "mean_squared_error(pg_v_test_solar_wind_30_pct.pg_22, pg_v_test_solar_wind_30_pct_pred_3.pg_22, squared = False)"
   ]
  },
  {
   "cell_type": "markdown",
   "metadata": {},
   "source": [
    "##### RMSE of $P_{G_{25}}$ estimates"
   ]
  },
  {
   "cell_type": "code",
   "execution_count": 27,
   "metadata": {},
   "outputs": [
    {
     "data": {
      "text/plain": [
       "6.729677951352003e-05"
      ]
     },
     "execution_count": 27,
     "metadata": {},
     "output_type": "execute_result"
    }
   ],
   "source": [
    "mean_squared_error(pg_v_test_solar_wind_30_pct.pg_25, pg_v_test_solar_wind_30_pct_pred_1.pg_25, squared = False)"
   ]
  },
  {
   "cell_type": "code",
   "execution_count": 28,
   "metadata": {},
   "outputs": [
    {
     "data": {
      "text/plain": [
       "0.00015866638005948707"
      ]
     },
     "execution_count": 28,
     "metadata": {},
     "output_type": "execute_result"
    }
   ],
   "source": [
    "mean_squared_error(pg_v_test_solar_wind_30_pct.pg_25, pg_v_test_solar_wind_30_pct_pred_2.pg_25, squared = False)"
   ]
  },
  {
   "cell_type": "code",
   "execution_count": 29,
   "metadata": {},
   "outputs": [
    {
     "data": {
      "text/plain": [
       "0.006227407711319541"
      ]
     },
     "execution_count": 29,
     "metadata": {},
     "output_type": "execute_result"
    }
   ],
   "source": [
    "mean_squared_error(pg_v_test_solar_wind_30_pct.pg_25, pg_v_test_solar_wind_30_pct_pred_3.pg_25, squared = False)"
   ]
  },
  {
   "cell_type": "markdown",
   "metadata": {},
   "source": [
    "##### RMSE of $P_{G_{33}}$ estimates"
   ]
  },
  {
   "cell_type": "code",
   "execution_count": 30,
   "metadata": {},
   "outputs": [
    {
     "data": {
      "text/plain": [
       "0.0011643399090104022"
      ]
     },
     "execution_count": 30,
     "metadata": {},
     "output_type": "execute_result"
    }
   ],
   "source": [
    "mean_squared_error(pg_v_test_solar_wind_30_pct.pg_33, pg_v_test_solar_wind_30_pct_pred_1.pg_33, squared = False)"
   ]
  },
  {
   "cell_type": "code",
   "execution_count": 31,
   "metadata": {},
   "outputs": [
    {
     "data": {
      "text/plain": [
       "0.0003054697183698381"
      ]
     },
     "execution_count": 31,
     "metadata": {},
     "output_type": "execute_result"
    }
   ],
   "source": [
    "mean_squared_error(pg_v_test_solar_wind_30_pct.pg_33, pg_v_test_solar_wind_30_pct_pred_2.pg_33, squared = False)"
   ]
  },
  {
   "cell_type": "code",
   "execution_count": 32,
   "metadata": {},
   "outputs": [
    {
     "data": {
      "text/plain": [
       "0.005402909769043787"
      ]
     },
     "execution_count": 32,
     "metadata": {},
     "output_type": "execute_result"
    }
   ],
   "source": [
    "mean_squared_error(pg_v_test_solar_wind_30_pct.pg_33, pg_v_test_solar_wind_30_pct_pred_3.pg_33, squared = False)"
   ]
  },
  {
   "cell_type": "markdown",
   "metadata": {},
   "source": [
    "##### RMSE of $V_{18}$ estimates"
   ]
  },
  {
   "cell_type": "code",
   "execution_count": 33,
   "metadata": {},
   "outputs": [
    {
     "data": {
      "text/plain": [
       "0.0005765257716164712"
      ]
     },
     "execution_count": 33,
     "metadata": {},
     "output_type": "execute_result"
    }
   ],
   "source": [
    "mean_squared_error(pg_v_test_solar_wind_30_pct.v_18, pg_v_test_solar_wind_30_pct_pred_1.v_18, squared = False)"
   ]
  },
  {
   "cell_type": "code",
   "execution_count": 34,
   "metadata": {},
   "outputs": [
    {
     "data": {
      "text/plain": [
       "0.0005451348576585131"
      ]
     },
     "execution_count": 34,
     "metadata": {},
     "output_type": "execute_result"
    }
   ],
   "source": [
    "mean_squared_error(pg_v_test_solar_wind_30_pct.v_18, pg_v_test_solar_wind_30_pct_pred_2.v_18, squared = False)"
   ]
  },
  {
   "cell_type": "code",
   "execution_count": 35,
   "metadata": {},
   "outputs": [
    {
     "data": {
      "text/plain": [
       "0.006393187511290284"
      ]
     },
     "execution_count": 35,
     "metadata": {},
     "output_type": "execute_result"
    }
   ],
   "source": [
    "mean_squared_error(pg_v_test_solar_wind_30_pct.v_18, pg_v_test_solar_wind_30_pct_pred_3.v_18, squared = False)"
   ]
  },
  {
   "cell_type": "markdown",
   "metadata": {},
   "source": [
    "##### RMSE of $V_{22}$ estimates"
   ]
  },
  {
   "cell_type": "code",
   "execution_count": 36,
   "metadata": {},
   "outputs": [
    {
     "data": {
      "text/plain": [
       "0.00023817731072273962"
      ]
     },
     "execution_count": 36,
     "metadata": {},
     "output_type": "execute_result"
    }
   ],
   "source": [
    "mean_squared_error(pg_v_test_solar_wind_30_pct.v_22, pg_v_test_solar_wind_30_pct_pred_1.v_22, squared = False)"
   ]
  },
  {
   "cell_type": "code",
   "execution_count": 37,
   "metadata": {},
   "outputs": [
    {
     "data": {
      "text/plain": [
       "0.00017143237979274557"
      ]
     },
     "execution_count": 37,
     "metadata": {},
     "output_type": "execute_result"
    }
   ],
   "source": [
    "mean_squared_error(pg_v_test_solar_wind_30_pct.v_22, pg_v_test_solar_wind_30_pct_pred_2.v_22, squared = False)"
   ]
  },
  {
   "cell_type": "code",
   "execution_count": 38,
   "metadata": {},
   "outputs": [
    {
     "data": {
      "text/plain": [
       "0.0028264094476050704"
      ]
     },
     "execution_count": 38,
     "metadata": {},
     "output_type": "execute_result"
    }
   ],
   "source": [
    "mean_squared_error(pg_v_test_solar_wind_30_pct.v_22, pg_v_test_solar_wind_30_pct_pred_3.v_22, squared = False)"
   ]
  },
  {
   "cell_type": "markdown",
   "metadata": {},
   "source": [
    "##### RMSE of $V_{25}$ estimates"
   ]
  },
  {
   "cell_type": "code",
   "execution_count": 39,
   "metadata": {},
   "outputs": [
    {
     "data": {
      "text/plain": [
       "0.00026563891667787055"
      ]
     },
     "execution_count": 39,
     "metadata": {},
     "output_type": "execute_result"
    }
   ],
   "source": [
    "mean_squared_error(pg_v_test_solar_wind_30_pct.v_25, pg_v_test_solar_wind_30_pct_pred_1.v_25, squared = False)"
   ]
  },
  {
   "cell_type": "code",
   "execution_count": 40,
   "metadata": {},
   "outputs": [
    {
     "data": {
      "text/plain": [
       "0.0005232004136806098"
      ]
     },
     "execution_count": 40,
     "metadata": {},
     "output_type": "execute_result"
    }
   ],
   "source": [
    "mean_squared_error(pg_v_test_solar_wind_30_pct.v_25, pg_v_test_solar_wind_30_pct_pred_2.v_25, squared = False)"
   ]
  },
  {
   "cell_type": "code",
   "execution_count": 41,
   "metadata": {},
   "outputs": [
    {
     "data": {
      "text/plain": [
       "0.007069013675278644"
      ]
     },
     "execution_count": 41,
     "metadata": {},
     "output_type": "execute_result"
    }
   ],
   "source": [
    "mean_squared_error(pg_v_test_solar_wind_30_pct.v_25, pg_v_test_solar_wind_30_pct_pred_3.v_25, squared = False)"
   ]
  },
  {
   "cell_type": "markdown",
   "metadata": {},
   "source": [
    "##### RMSE of $V_{33}$ estimates"
   ]
  },
  {
   "cell_type": "code",
   "execution_count": 42,
   "metadata": {},
   "outputs": [
    {
     "data": {
      "text/plain": [
       "0.0004708761199855219"
      ]
     },
     "execution_count": 42,
     "metadata": {},
     "output_type": "execute_result"
    }
   ],
   "source": [
    "mean_squared_error(pg_v_test_solar_wind_30_pct.v_33, pg_v_test_solar_wind_30_pct_pred_1.v_33, squared = False)"
   ]
  },
  {
   "cell_type": "code",
   "execution_count": 43,
   "metadata": {},
   "outputs": [
    {
     "data": {
      "text/plain": [
       "0.00018630238956204837"
      ]
     },
     "execution_count": 43,
     "metadata": {},
     "output_type": "execute_result"
    }
   ],
   "source": [
    "mean_squared_error(pg_v_test_solar_wind_30_pct.v_33, pg_v_test_solar_wind_30_pct_pred_2.v_33, squared = False)"
   ]
  },
  {
   "cell_type": "code",
   "execution_count": 44,
   "metadata": {},
   "outputs": [
    {
     "data": {
      "text/plain": [
       "0.001369483670641164"
      ]
     },
     "execution_count": 44,
     "metadata": {},
     "output_type": "execute_result"
    }
   ],
   "source": [
    "mean_squared_error(pg_v_test_solar_wind_30_pct.v_33, pg_v_test_solar_wind_30_pct_pred_3.v_33, squared = False)"
   ]
  },
  {
   "cell_type": "code",
   "execution_count": null,
   "metadata": {},
   "outputs": [],
   "source": []
  },
  {
   "cell_type": "code",
   "execution_count": null,
   "metadata": {},
   "outputs": [],
   "source": []
  },
  {
   "cell_type": "code",
   "execution_count": null,
   "metadata": {},
   "outputs": [],
   "source": []
  }
 ],
 "metadata": {
  "kernelspec": {
   "display_name": "Python 3",
   "language": "python",
   "name": "python3"
  },
  "language_info": {
   "codemirror_mode": {
    "name": "ipython",
    "version": 3
   },
   "file_extension": ".py",
   "mimetype": "text/x-python",
   "name": "python",
   "nbconvert_exporter": "python",
   "pygments_lexer": "ipython3",
   "version": "3.8.5"
  }
 },
 "nbformat": 4,
 "nbformat_minor": 4
}
