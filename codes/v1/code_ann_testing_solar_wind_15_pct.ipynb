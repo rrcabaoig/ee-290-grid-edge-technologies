{
 "cells": [
  {
   "cell_type": "markdown",
   "metadata": {},
   "source": [
    "### Import libraries"
   ]
  },
  {
   "cell_type": "code",
   "execution_count": 1,
   "metadata": {},
   "outputs": [],
   "source": [
    "import pandas as pd\n",
    "import os\n",
    "from tensorflow.keras.models import load_model\n",
    "from sklearn.metrics import mean_squared_error"
   ]
  },
  {
   "cell_type": "markdown",
   "metadata": {},
   "source": [
    "### Set the data repository as the working directory "
   ]
  },
  {
   "cell_type": "code",
   "execution_count": 2,
   "metadata": {},
   "outputs": [
    {
     "name": "stdout",
     "output_type": "stream",
     "text": [
      "C:\\Users\\Asus\\Documents\\College\\UP - MS EE\\SY 2022-2023 Second Semester (temporary, final files in new laptop)\\EE 290\\Files (NEW Jun 22) FINAL FINAL\\codes\n"
     ]
    }
   ],
   "source": [
    "print(os.path.abspath(os.curdir))"
   ]
  },
  {
   "cell_type": "code",
   "execution_count": 3,
   "metadata": {},
   "outputs": [
    {
     "name": "stdout",
     "output_type": "stream",
     "text": [
      "C:\\Users\\Asus\\Documents\\College\\UP - MS EE\\SY 2022-2023 Second Semester (temporary, final files in new laptop)\\EE 290\\Files (NEW Jun 22) FINAL FINAL\\data\n"
     ]
    }
   ],
   "source": [
    "os.chdir(\"../data\")\n",
    "print(os.path.abspath(os.curdir))"
   ]
  },
  {
   "cell_type": "markdown",
   "metadata": {},
   "source": [
    "### Import the test set (solar and wind inclusion)"
   ]
  },
  {
   "cell_type": "markdown",
   "metadata": {},
   "source": [
    "##### Test set (solar and wind inclusion)"
   ]
  },
  {
   "cell_type": "code",
   "execution_count": 4,
   "metadata": {
    "scrolled": true
   },
   "outputs": [
    {
     "data": {
      "text/html": [
       "<div>\n",
       "<style scoped>\n",
       "    .dataframe tbody tr th:only-of-type {\n",
       "        vertical-align: middle;\n",
       "    }\n",
       "\n",
       "    .dataframe tbody tr th {\n",
       "        vertical-align: top;\n",
       "    }\n",
       "\n",
       "    .dataframe thead th {\n",
       "        text-align: right;\n",
       "    }\n",
       "</style>\n",
       "<table border=\"1\" class=\"dataframe\">\n",
       "  <thead>\n",
       "    <tr style=\"text-align: right;\">\n",
       "      <th></th>\n",
       "      <th>scenario</th>\n",
       "      <th>pd_2</th>\n",
       "      <th>qd_2</th>\n",
       "      <th>pd_3</th>\n",
       "      <th>qd_3</th>\n",
       "      <th>pd_4</th>\n",
       "      <th>qd_4</th>\n",
       "      <th>pd_5</th>\n",
       "      <th>qd_5</th>\n",
       "      <th>pd_6</th>\n",
       "      <th>...</th>\n",
       "      <th>pd_29</th>\n",
       "      <th>qd_29</th>\n",
       "      <th>pd_30</th>\n",
       "      <th>qd_30</th>\n",
       "      <th>pd_31</th>\n",
       "      <th>qd_31</th>\n",
       "      <th>pd_32</th>\n",
       "      <th>qd_32</th>\n",
       "      <th>pd_33</th>\n",
       "      <th>qd_33</th>\n",
       "    </tr>\n",
       "  </thead>\n",
       "  <tbody>\n",
       "    <tr>\n",
       "      <th>0</th>\n",
       "      <td>1</td>\n",
       "      <td>0.034699</td>\n",
       "      <td>0.007573</td>\n",
       "      <td>0.045639</td>\n",
       "      <td>0.018038</td>\n",
       "      <td>0.053473</td>\n",
       "      <td>0.010757</td>\n",
       "      <td>0.031436</td>\n",
       "      <td>0.009529</td>\n",
       "      <td>0.027359</td>\n",
       "      <td>...</td>\n",
       "      <td>0.063776</td>\n",
       "      <td>0.040361</td>\n",
       "      <td>0.101603</td>\n",
       "      <td>0.058396</td>\n",
       "      <td>0.077677</td>\n",
       "      <td>0.030700</td>\n",
       "      <td>0.117351</td>\n",
       "      <td>0.086486</td>\n",
       "      <td>0.024336</td>\n",
       "      <td>0.002183</td>\n",
       "    </tr>\n",
       "    <tr>\n",
       "      <th>1</th>\n",
       "      <td>2</td>\n",
       "      <td>0.034556</td>\n",
       "      <td>0.007371</td>\n",
       "      <td>0.045064</td>\n",
       "      <td>0.017669</td>\n",
       "      <td>0.052019</td>\n",
       "      <td>0.010745</td>\n",
       "      <td>0.030837</td>\n",
       "      <td>0.009231</td>\n",
       "      <td>0.026833</td>\n",
       "      <td>...</td>\n",
       "      <td>0.062670</td>\n",
       "      <td>0.039661</td>\n",
       "      <td>0.099900</td>\n",
       "      <td>0.057418</td>\n",
       "      <td>0.076220</td>\n",
       "      <td>0.029884</td>\n",
       "      <td>0.115035</td>\n",
       "      <td>0.085078</td>\n",
       "      <td>0.024143</td>\n",
       "      <td>0.002166</td>\n",
       "    </tr>\n",
       "    <tr>\n",
       "      <th>2</th>\n",
       "      <td>3</td>\n",
       "      <td>0.034414</td>\n",
       "      <td>0.007166</td>\n",
       "      <td>0.044490</td>\n",
       "      <td>0.017302</td>\n",
       "      <td>0.049703</td>\n",
       "      <td>0.009853</td>\n",
       "      <td>0.030238</td>\n",
       "      <td>0.009051</td>\n",
       "      <td>0.026307</td>\n",
       "      <td>...</td>\n",
       "      <td>0.061563</td>\n",
       "      <td>0.039122</td>\n",
       "      <td>0.098197</td>\n",
       "      <td>0.056177</td>\n",
       "      <td>0.074763</td>\n",
       "      <td>0.029548</td>\n",
       "      <td>0.112719</td>\n",
       "      <td>0.083659</td>\n",
       "      <td>0.023950</td>\n",
       "      <td>0.002149</td>\n",
       "    </tr>\n",
       "    <tr>\n",
       "      <th>3</th>\n",
       "      <td>4</td>\n",
       "      <td>0.034272</td>\n",
       "      <td>0.006959</td>\n",
       "      <td>0.043915</td>\n",
       "      <td>0.017079</td>\n",
       "      <td>0.048373</td>\n",
       "      <td>0.009562</td>\n",
       "      <td>0.029639</td>\n",
       "      <td>0.008872</td>\n",
       "      <td>0.025781</td>\n",
       "      <td>...</td>\n",
       "      <td>0.060457</td>\n",
       "      <td>0.038577</td>\n",
       "      <td>0.096495</td>\n",
       "      <td>0.055202</td>\n",
       "      <td>0.073306</td>\n",
       "      <td>0.028741</td>\n",
       "      <td>0.110403</td>\n",
       "      <td>0.082227</td>\n",
       "      <td>0.023757</td>\n",
       "      <td>0.002131</td>\n",
       "    </tr>\n",
       "    <tr>\n",
       "      <th>4</th>\n",
       "      <td>5</td>\n",
       "      <td>0.034130</td>\n",
       "      <td>0.006750</td>\n",
       "      <td>0.043340</td>\n",
       "      <td>0.016992</td>\n",
       "      <td>0.047043</td>\n",
       "      <td>0.008971</td>\n",
       "      <td>0.029040</td>\n",
       "      <td>0.008693</td>\n",
       "      <td>0.025255</td>\n",
       "      <td>...</td>\n",
       "      <td>0.059350</td>\n",
       "      <td>0.037716</td>\n",
       "      <td>0.094792</td>\n",
       "      <td>0.054482</td>\n",
       "      <td>0.071848</td>\n",
       "      <td>0.028396</td>\n",
       "      <td>0.108087</td>\n",
       "      <td>0.080502</td>\n",
       "      <td>0.023564</td>\n",
       "      <td>0.002114</td>\n",
       "    </tr>\n",
       "  </tbody>\n",
       "</table>\n",
       "<p>5 rows × 65 columns</p>\n",
       "</div>"
      ],
      "text/plain": [
       "   scenario      pd_2      qd_2      pd_3      qd_3      pd_4      qd_4  \\\n",
       "0         1  0.034699  0.007573  0.045639  0.018038  0.053473  0.010757   \n",
       "1         2  0.034556  0.007371  0.045064  0.017669  0.052019  0.010745   \n",
       "2         3  0.034414  0.007166  0.044490  0.017302  0.049703  0.009853   \n",
       "3         4  0.034272  0.006959  0.043915  0.017079  0.048373  0.009562   \n",
       "4         5  0.034130  0.006750  0.043340  0.016992  0.047043  0.008971   \n",
       "\n",
       "       pd_5      qd_5      pd_6  ...     pd_29     qd_29     pd_30     qd_30  \\\n",
       "0  0.031436  0.009529  0.027359  ...  0.063776  0.040361  0.101603  0.058396   \n",
       "1  0.030837  0.009231  0.026833  ...  0.062670  0.039661  0.099900  0.057418   \n",
       "2  0.030238  0.009051  0.026307  ...  0.061563  0.039122  0.098197  0.056177   \n",
       "3  0.029639  0.008872  0.025781  ...  0.060457  0.038577  0.096495  0.055202   \n",
       "4  0.029040  0.008693  0.025255  ...  0.059350  0.037716  0.094792  0.054482   \n",
       "\n",
       "      pd_31     qd_31     pd_32     qd_32     pd_33     qd_33  \n",
       "0  0.077677  0.030700  0.117351  0.086486  0.024336  0.002183  \n",
       "1  0.076220  0.029884  0.115035  0.085078  0.024143  0.002166  \n",
       "2  0.074763  0.029548  0.112719  0.083659  0.023950  0.002149  \n",
       "3  0.073306  0.028741  0.110403  0.082227  0.023757  0.002131  \n",
       "4  0.071848  0.028396  0.108087  0.080502  0.023564  0.002114  \n",
       "\n",
       "[5 rows x 65 columns]"
      ]
     },
     "execution_count": 4,
     "metadata": {},
     "output_type": "execute_result"
    }
   ],
   "source": [
    "pd_qd_test_solar_wind_15_pct = pd.read_csv('pd_qd_test_solar_wind_15_pct.csv')\n",
    "pd_qd_test_solar_wind_15_pct.head()"
   ]
  },
  {
   "cell_type": "code",
   "execution_count": 5,
   "metadata": {},
   "outputs": [
    {
     "data": {
      "text/html": [
       "<div>\n",
       "<style scoped>\n",
       "    .dataframe tbody tr th:only-of-type {\n",
       "        vertical-align: middle;\n",
       "    }\n",
       "\n",
       "    .dataframe tbody tr th {\n",
       "        vertical-align: top;\n",
       "    }\n",
       "\n",
       "    .dataframe thead th {\n",
       "        text-align: right;\n",
       "    }\n",
       "</style>\n",
       "<table border=\"1\" class=\"dataframe\">\n",
       "  <thead>\n",
       "    <tr style=\"text-align: right;\">\n",
       "      <th></th>\n",
       "      <th>scenario</th>\n",
       "      <th>pg_1</th>\n",
       "      <th>pg_18</th>\n",
       "      <th>v_18</th>\n",
       "      <th>pg_22</th>\n",
       "      <th>v_22</th>\n",
       "      <th>pg_25</th>\n",
       "      <th>v_25</th>\n",
       "      <th>pg_33</th>\n",
       "      <th>v_33</th>\n",
       "    </tr>\n",
       "  </thead>\n",
       "  <tbody>\n",
       "    <tr>\n",
       "      <th>0</th>\n",
       "      <td>1</td>\n",
       "      <td>5.145971e-07</td>\n",
       "      <td>0.363358</td>\n",
       "      <td>1.023155</td>\n",
       "      <td>0.444721</td>\n",
       "      <td>1.005264</td>\n",
       "      <td>0.499989</td>\n",
       "      <td>1.001171</td>\n",
       "      <td>0.499986</td>\n",
       "      <td>1.016907</td>\n",
       "    </tr>\n",
       "    <tr>\n",
       "      <th>1</th>\n",
       "      <td>2</td>\n",
       "      <td>2.322973e-06</td>\n",
       "      <td>0.351056</td>\n",
       "      <td>1.023037</td>\n",
       "      <td>0.425181</td>\n",
       "      <td>1.004975</td>\n",
       "      <td>0.499894</td>\n",
       "      <td>1.001296</td>\n",
       "      <td>0.500000</td>\n",
       "      <td>1.017366</td>\n",
       "    </tr>\n",
       "    <tr>\n",
       "      <th>2</th>\n",
       "      <td>3</td>\n",
       "      <td>3.246355e-07</td>\n",
       "      <td>0.337529</td>\n",
       "      <td>1.022865</td>\n",
       "      <td>0.404762</td>\n",
       "      <td>1.004671</td>\n",
       "      <td>0.499991</td>\n",
       "      <td>1.001440</td>\n",
       "      <td>0.499986</td>\n",
       "      <td>1.017816</td>\n",
       "    </tr>\n",
       "    <tr>\n",
       "      <th>3</th>\n",
       "      <td>4</td>\n",
       "      <td>8.400630e-07</td>\n",
       "      <td>0.325118</td>\n",
       "      <td>1.022749</td>\n",
       "      <td>0.385618</td>\n",
       "      <td>1.004388</td>\n",
       "      <td>0.499958</td>\n",
       "      <td>1.001578</td>\n",
       "      <td>0.500000</td>\n",
       "      <td>1.018277</td>\n",
       "    </tr>\n",
       "    <tr>\n",
       "      <th>4</th>\n",
       "      <td>5</td>\n",
       "      <td>3.752829e-07</td>\n",
       "      <td>0.312718</td>\n",
       "      <td>1.022616</td>\n",
       "      <td>0.366442</td>\n",
       "      <td>1.004110</td>\n",
       "      <td>0.499976</td>\n",
       "      <td>1.001719</td>\n",
       "      <td>0.500000</td>\n",
       "      <td>1.018735</td>\n",
       "    </tr>\n",
       "  </tbody>\n",
       "</table>\n",
       "</div>"
      ],
      "text/plain": [
       "   scenario          pg_1     pg_18      v_18     pg_22      v_22     pg_25  \\\n",
       "0         1  5.145971e-07  0.363358  1.023155  0.444721  1.005264  0.499989   \n",
       "1         2  2.322973e-06  0.351056  1.023037  0.425181  1.004975  0.499894   \n",
       "2         3  3.246355e-07  0.337529  1.022865  0.404762  1.004671  0.499991   \n",
       "3         4  8.400630e-07  0.325118  1.022749  0.385618  1.004388  0.499958   \n",
       "4         5  3.752829e-07  0.312718  1.022616  0.366442  1.004110  0.499976   \n",
       "\n",
       "       v_25     pg_33      v_33  \n",
       "0  1.001171  0.499986  1.016907  \n",
       "1  1.001296  0.500000  1.017366  \n",
       "2  1.001440  0.499986  1.017816  \n",
       "3  1.001578  0.500000  1.018277  \n",
       "4  1.001719  0.500000  1.018735  "
      ]
     },
     "execution_count": 5,
     "metadata": {},
     "output_type": "execute_result"
    }
   ],
   "source": [
    "pg_v_test_solar_wind_15_pct = pd.read_csv('pg_v_test_solar_wind_15_pct.csv')\n",
    "pg_v_test_solar_wind_15_pct.head()"
   ]
  },
  {
   "cell_type": "markdown",
   "metadata": {},
   "source": [
    "### Separate the dependent variables (optimal generator setpoints) and the independent variables (non-dispatchable loads)\n",
    "Non-dispatchable loads: $x = (P_{D_{i}},Q_{D_{i}})\\forall i\\in \\Omega_{D}$\n",
    "<br>\n",
    "Optimal generator setpoints: $y = (P_{G_{j}},V_{j})\\forall j\\in \\Omega_{G}$"
   ]
  },
  {
   "cell_type": "markdown",
   "metadata": {},
   "source": [
    "##### Test set (solar and wind inclusion)"
   ]
  },
  {
   "cell_type": "code",
   "execution_count": 6,
   "metadata": {},
   "outputs": [
    {
     "data": {
      "text/html": [
       "<div>\n",
       "<style scoped>\n",
       "    .dataframe tbody tr th:only-of-type {\n",
       "        vertical-align: middle;\n",
       "    }\n",
       "\n",
       "    .dataframe tbody tr th {\n",
       "        vertical-align: top;\n",
       "    }\n",
       "\n",
       "    .dataframe thead th {\n",
       "        text-align: right;\n",
       "    }\n",
       "</style>\n",
       "<table border=\"1\" class=\"dataframe\">\n",
       "  <thead>\n",
       "    <tr style=\"text-align: right;\">\n",
       "      <th></th>\n",
       "      <th>pd_2</th>\n",
       "      <th>qd_2</th>\n",
       "      <th>pd_3</th>\n",
       "      <th>qd_3</th>\n",
       "      <th>pd_4</th>\n",
       "      <th>qd_4</th>\n",
       "      <th>pd_5</th>\n",
       "      <th>qd_5</th>\n",
       "      <th>pd_6</th>\n",
       "      <th>qd_6</th>\n",
       "      <th>...</th>\n",
       "      <th>pd_29</th>\n",
       "      <th>qd_29</th>\n",
       "      <th>pd_30</th>\n",
       "      <th>qd_30</th>\n",
       "      <th>pd_31</th>\n",
       "      <th>qd_31</th>\n",
       "      <th>pd_32</th>\n",
       "      <th>qd_32</th>\n",
       "      <th>pd_33</th>\n",
       "      <th>qd_33</th>\n",
       "    </tr>\n",
       "  </thead>\n",
       "  <tbody>\n",
       "    <tr>\n",
       "      <th>0</th>\n",
       "      <td>0.034699</td>\n",
       "      <td>0.007573</td>\n",
       "      <td>0.045639</td>\n",
       "      <td>0.018038</td>\n",
       "      <td>0.053473</td>\n",
       "      <td>0.010757</td>\n",
       "      <td>0.031436</td>\n",
       "      <td>0.009529</td>\n",
       "      <td>0.027359</td>\n",
       "      <td>0.019239</td>\n",
       "      <td>...</td>\n",
       "      <td>0.063776</td>\n",
       "      <td>0.040361</td>\n",
       "      <td>0.101603</td>\n",
       "      <td>0.058396</td>\n",
       "      <td>0.077677</td>\n",
       "      <td>0.030700</td>\n",
       "      <td>0.117351</td>\n",
       "      <td>0.086486</td>\n",
       "      <td>0.024336</td>\n",
       "      <td>0.002183</td>\n",
       "    </tr>\n",
       "    <tr>\n",
       "      <th>1</th>\n",
       "      <td>0.034556</td>\n",
       "      <td>0.007371</td>\n",
       "      <td>0.045064</td>\n",
       "      <td>0.017669</td>\n",
       "      <td>0.052019</td>\n",
       "      <td>0.010745</td>\n",
       "      <td>0.030837</td>\n",
       "      <td>0.009231</td>\n",
       "      <td>0.026833</td>\n",
       "      <td>0.018800</td>\n",
       "      <td>...</td>\n",
       "      <td>0.062670</td>\n",
       "      <td>0.039661</td>\n",
       "      <td>0.099900</td>\n",
       "      <td>0.057418</td>\n",
       "      <td>0.076220</td>\n",
       "      <td>0.029884</td>\n",
       "      <td>0.115035</td>\n",
       "      <td>0.085078</td>\n",
       "      <td>0.024143</td>\n",
       "      <td>0.002166</td>\n",
       "    </tr>\n",
       "    <tr>\n",
       "      <th>2</th>\n",
       "      <td>0.034414</td>\n",
       "      <td>0.007166</td>\n",
       "      <td>0.044490</td>\n",
       "      <td>0.017302</td>\n",
       "      <td>0.049703</td>\n",
       "      <td>0.009853</td>\n",
       "      <td>0.030238</td>\n",
       "      <td>0.009051</td>\n",
       "      <td>0.026307</td>\n",
       "      <td>0.018499</td>\n",
       "      <td>...</td>\n",
       "      <td>0.061563</td>\n",
       "      <td>0.039122</td>\n",
       "      <td>0.098197</td>\n",
       "      <td>0.056177</td>\n",
       "      <td>0.074763</td>\n",
       "      <td>0.029548</td>\n",
       "      <td>0.112719</td>\n",
       "      <td>0.083659</td>\n",
       "      <td>0.023950</td>\n",
       "      <td>0.002149</td>\n",
       "    </tr>\n",
       "    <tr>\n",
       "      <th>3</th>\n",
       "      <td>0.034272</td>\n",
       "      <td>0.006959</td>\n",
       "      <td>0.043915</td>\n",
       "      <td>0.017079</td>\n",
       "      <td>0.048373</td>\n",
       "      <td>0.009562</td>\n",
       "      <td>0.029639</td>\n",
       "      <td>0.008872</td>\n",
       "      <td>0.025781</td>\n",
       "      <td>0.018130</td>\n",
       "      <td>...</td>\n",
       "      <td>0.060457</td>\n",
       "      <td>0.038577</td>\n",
       "      <td>0.096495</td>\n",
       "      <td>0.055202</td>\n",
       "      <td>0.073306</td>\n",
       "      <td>0.028741</td>\n",
       "      <td>0.110403</td>\n",
       "      <td>0.082227</td>\n",
       "      <td>0.023757</td>\n",
       "      <td>0.002131</td>\n",
       "    </tr>\n",
       "    <tr>\n",
       "      <th>4</th>\n",
       "      <td>0.034130</td>\n",
       "      <td>0.006750</td>\n",
       "      <td>0.043340</td>\n",
       "      <td>0.016992</td>\n",
       "      <td>0.047043</td>\n",
       "      <td>0.008971</td>\n",
       "      <td>0.029040</td>\n",
       "      <td>0.008693</td>\n",
       "      <td>0.025255</td>\n",
       "      <td>0.017825</td>\n",
       "      <td>...</td>\n",
       "      <td>0.059350</td>\n",
       "      <td>0.037716</td>\n",
       "      <td>0.094792</td>\n",
       "      <td>0.054482</td>\n",
       "      <td>0.071848</td>\n",
       "      <td>0.028396</td>\n",
       "      <td>0.108087</td>\n",
       "      <td>0.080502</td>\n",
       "      <td>0.023564</td>\n",
       "      <td>0.002114</td>\n",
       "    </tr>\n",
       "  </tbody>\n",
       "</table>\n",
       "<p>5 rows × 64 columns</p>\n",
       "</div>"
      ],
      "text/plain": [
       "       pd_2      qd_2      pd_3      qd_3      pd_4      qd_4      pd_5  \\\n",
       "0  0.034699  0.007573  0.045639  0.018038  0.053473  0.010757  0.031436   \n",
       "1  0.034556  0.007371  0.045064  0.017669  0.052019  0.010745  0.030837   \n",
       "2  0.034414  0.007166  0.044490  0.017302  0.049703  0.009853  0.030238   \n",
       "3  0.034272  0.006959  0.043915  0.017079  0.048373  0.009562  0.029639   \n",
       "4  0.034130  0.006750  0.043340  0.016992  0.047043  0.008971  0.029040   \n",
       "\n",
       "       qd_5      pd_6      qd_6  ...     pd_29     qd_29     pd_30     qd_30  \\\n",
       "0  0.009529  0.027359  0.019239  ...  0.063776  0.040361  0.101603  0.058396   \n",
       "1  0.009231  0.026833  0.018800  ...  0.062670  0.039661  0.099900  0.057418   \n",
       "2  0.009051  0.026307  0.018499  ...  0.061563  0.039122  0.098197  0.056177   \n",
       "3  0.008872  0.025781  0.018130  ...  0.060457  0.038577  0.096495  0.055202   \n",
       "4  0.008693  0.025255  0.017825  ...  0.059350  0.037716  0.094792  0.054482   \n",
       "\n",
       "      pd_31     qd_31     pd_32     qd_32     pd_33     qd_33  \n",
       "0  0.077677  0.030700  0.117351  0.086486  0.024336  0.002183  \n",
       "1  0.076220  0.029884  0.115035  0.085078  0.024143  0.002166  \n",
       "2  0.074763  0.029548  0.112719  0.083659  0.023950  0.002149  \n",
       "3  0.073306  0.028741  0.110403  0.082227  0.023757  0.002131  \n",
       "4  0.071848  0.028396  0.108087  0.080502  0.023564  0.002114  \n",
       "\n",
       "[5 rows x 64 columns]"
      ]
     },
     "execution_count": 6,
     "metadata": {},
     "output_type": "execute_result"
    }
   ],
   "source": [
    "x_test_solar_wind_15_pct = pd_qd_test_solar_wind_15_pct.loc[:, pd_qd_test_solar_wind_15_pct.columns != 'scenario']\n",
    "x_test_solar_wind_15_pct.head()"
   ]
  },
  {
   "cell_type": "code",
   "execution_count": 7,
   "metadata": {},
   "outputs": [
    {
     "data": {
      "text/html": [
       "<div>\n",
       "<style scoped>\n",
       "    .dataframe tbody tr th:only-of-type {\n",
       "        vertical-align: middle;\n",
       "    }\n",
       "\n",
       "    .dataframe tbody tr th {\n",
       "        vertical-align: top;\n",
       "    }\n",
       "\n",
       "    .dataframe thead th {\n",
       "        text-align: right;\n",
       "    }\n",
       "</style>\n",
       "<table border=\"1\" class=\"dataframe\">\n",
       "  <thead>\n",
       "    <tr style=\"text-align: right;\">\n",
       "      <th></th>\n",
       "      <th>pg_1</th>\n",
       "      <th>pg_18</th>\n",
       "      <th>v_18</th>\n",
       "      <th>pg_22</th>\n",
       "      <th>v_22</th>\n",
       "      <th>pg_25</th>\n",
       "      <th>v_25</th>\n",
       "      <th>pg_33</th>\n",
       "      <th>v_33</th>\n",
       "    </tr>\n",
       "  </thead>\n",
       "  <tbody>\n",
       "    <tr>\n",
       "      <th>0</th>\n",
       "      <td>5.145971e-07</td>\n",
       "      <td>0.363358</td>\n",
       "      <td>1.023155</td>\n",
       "      <td>0.444721</td>\n",
       "      <td>1.005264</td>\n",
       "      <td>0.499989</td>\n",
       "      <td>1.001171</td>\n",
       "      <td>0.499986</td>\n",
       "      <td>1.016907</td>\n",
       "    </tr>\n",
       "    <tr>\n",
       "      <th>1</th>\n",
       "      <td>2.322973e-06</td>\n",
       "      <td>0.351056</td>\n",
       "      <td>1.023037</td>\n",
       "      <td>0.425181</td>\n",
       "      <td>1.004975</td>\n",
       "      <td>0.499894</td>\n",
       "      <td>1.001296</td>\n",
       "      <td>0.500000</td>\n",
       "      <td>1.017366</td>\n",
       "    </tr>\n",
       "    <tr>\n",
       "      <th>2</th>\n",
       "      <td>3.246355e-07</td>\n",
       "      <td>0.337529</td>\n",
       "      <td>1.022865</td>\n",
       "      <td>0.404762</td>\n",
       "      <td>1.004671</td>\n",
       "      <td>0.499991</td>\n",
       "      <td>1.001440</td>\n",
       "      <td>0.499986</td>\n",
       "      <td>1.017816</td>\n",
       "    </tr>\n",
       "    <tr>\n",
       "      <th>3</th>\n",
       "      <td>8.400630e-07</td>\n",
       "      <td>0.325118</td>\n",
       "      <td>1.022749</td>\n",
       "      <td>0.385618</td>\n",
       "      <td>1.004388</td>\n",
       "      <td>0.499958</td>\n",
       "      <td>1.001578</td>\n",
       "      <td>0.500000</td>\n",
       "      <td>1.018277</td>\n",
       "    </tr>\n",
       "    <tr>\n",
       "      <th>4</th>\n",
       "      <td>3.752829e-07</td>\n",
       "      <td>0.312718</td>\n",
       "      <td>1.022616</td>\n",
       "      <td>0.366442</td>\n",
       "      <td>1.004110</td>\n",
       "      <td>0.499976</td>\n",
       "      <td>1.001719</td>\n",
       "      <td>0.500000</td>\n",
       "      <td>1.018735</td>\n",
       "    </tr>\n",
       "  </tbody>\n",
       "</table>\n",
       "</div>"
      ],
      "text/plain": [
       "           pg_1     pg_18      v_18     pg_22      v_22     pg_25      v_25  \\\n",
       "0  5.145971e-07  0.363358  1.023155  0.444721  1.005264  0.499989  1.001171   \n",
       "1  2.322973e-06  0.351056  1.023037  0.425181  1.004975  0.499894  1.001296   \n",
       "2  3.246355e-07  0.337529  1.022865  0.404762  1.004671  0.499991  1.001440   \n",
       "3  8.400630e-07  0.325118  1.022749  0.385618  1.004388  0.499958  1.001578   \n",
       "4  3.752829e-07  0.312718  1.022616  0.366442  1.004110  0.499976  1.001719   \n",
       "\n",
       "      pg_33      v_33  \n",
       "0  0.499986  1.016907  \n",
       "1  0.500000  1.017366  \n",
       "2  0.499986  1.017816  \n",
       "3  0.500000  1.018277  \n",
       "4  0.500000  1.018735  "
      ]
     },
     "execution_count": 7,
     "metadata": {},
     "output_type": "execute_result"
    }
   ],
   "source": [
    "y_test_solar_wind_15_pct = pg_v_test_solar_wind_15_pct.loc[:, pg_v_test_solar_wind_15_pct.columns != 'scenario']\n",
    "y_test_solar_wind_15_pct.head()"
   ]
  },
  {
   "cell_type": "markdown",
   "metadata": {},
   "source": [
    "### Test the trained models on the test set (solar and wind inclusion)"
   ]
  },
  {
   "cell_type": "code",
   "execution_count": 8,
   "metadata": {},
   "outputs": [],
   "source": [
    "model_1 = load_model('model_1.h5')\n",
    "model_2 = load_model('model_2.h5')\n",
    "model_3 = load_model('model_3.h5')"
   ]
  },
  {
   "cell_type": "markdown",
   "metadata": {},
   "source": [
    "##### Using model 1 that was trained using training group 1"
   ]
  },
  {
   "cell_type": "code",
   "execution_count": 9,
   "metadata": {},
   "outputs": [
    {
     "data": {
      "text/html": [
       "<div>\n",
       "<style scoped>\n",
       "    .dataframe tbody tr th:only-of-type {\n",
       "        vertical-align: middle;\n",
       "    }\n",
       "\n",
       "    .dataframe tbody tr th {\n",
       "        vertical-align: top;\n",
       "    }\n",
       "\n",
       "    .dataframe thead th {\n",
       "        text-align: right;\n",
       "    }\n",
       "</style>\n",
       "<table border=\"1\" class=\"dataframe\">\n",
       "  <thead>\n",
       "    <tr style=\"text-align: right;\">\n",
       "      <th></th>\n",
       "      <th>pg_1</th>\n",
       "      <th>pg_18</th>\n",
       "      <th>v_18</th>\n",
       "      <th>pg_22</th>\n",
       "      <th>v_22</th>\n",
       "      <th>pg_25</th>\n",
       "      <th>v_25</th>\n",
       "      <th>pg_33</th>\n",
       "      <th>v_33</th>\n",
       "    </tr>\n",
       "  </thead>\n",
       "  <tbody>\n",
       "    <tr>\n",
       "      <th>0</th>\n",
       "      <td>0.000113</td>\n",
       "      <td>0.360193</td>\n",
       "      <td>1.023275</td>\n",
       "      <td>0.446233</td>\n",
       "      <td>1.005158</td>\n",
       "      <td>0.499973</td>\n",
       "      <td>1.001090</td>\n",
       "      <td>0.499953</td>\n",
       "      <td>1.017292</td>\n",
       "    </tr>\n",
       "    <tr>\n",
       "      <th>1</th>\n",
       "      <td>0.000107</td>\n",
       "      <td>0.347575</td>\n",
       "      <td>1.023141</td>\n",
       "      <td>0.426885</td>\n",
       "      <td>1.004870</td>\n",
       "      <td>0.499980</td>\n",
       "      <td>1.001214</td>\n",
       "      <td>0.499950</td>\n",
       "      <td>1.017754</td>\n",
       "    </tr>\n",
       "    <tr>\n",
       "      <th>2</th>\n",
       "      <td>0.000112</td>\n",
       "      <td>0.333954</td>\n",
       "      <td>1.022992</td>\n",
       "      <td>0.406484</td>\n",
       "      <td>1.004555</td>\n",
       "      <td>0.499989</td>\n",
       "      <td>1.001350</td>\n",
       "      <td>0.499947</td>\n",
       "      <td>1.018237</td>\n",
       "    </tr>\n",
       "    <tr>\n",
       "      <th>3</th>\n",
       "      <td>0.000110</td>\n",
       "      <td>0.321537</td>\n",
       "      <td>1.022876</td>\n",
       "      <td>0.387352</td>\n",
       "      <td>1.004272</td>\n",
       "      <td>0.499996</td>\n",
       "      <td>1.001490</td>\n",
       "      <td>0.499944</td>\n",
       "      <td>1.018696</td>\n",
       "    </tr>\n",
       "    <tr>\n",
       "      <th>4</th>\n",
       "      <td>0.000110</td>\n",
       "      <td>0.309225</td>\n",
       "      <td>1.022746</td>\n",
       "      <td>0.368394</td>\n",
       "      <td>1.003999</td>\n",
       "      <td>0.500004</td>\n",
       "      <td>1.001630</td>\n",
       "      <td>0.499652</td>\n",
       "      <td>1.019140</td>\n",
       "    </tr>\n",
       "  </tbody>\n",
       "</table>\n",
       "</div>"
      ],
      "text/plain": [
       "       pg_1     pg_18      v_18     pg_22      v_22     pg_25      v_25  \\\n",
       "0  0.000113  0.360193  1.023275  0.446233  1.005158  0.499973  1.001090   \n",
       "1  0.000107  0.347575  1.023141  0.426885  1.004870  0.499980  1.001214   \n",
       "2  0.000112  0.333954  1.022992  0.406484  1.004555  0.499989  1.001350   \n",
       "3  0.000110  0.321537  1.022876  0.387352  1.004272  0.499996  1.001490   \n",
       "4  0.000110  0.309225  1.022746  0.368394  1.003999  0.500004  1.001630   \n",
       "\n",
       "      pg_33      v_33  \n",
       "0  0.499953  1.017292  \n",
       "1  0.499950  1.017754  \n",
       "2  0.499947  1.018237  \n",
       "3  0.499944  1.018696  \n",
       "4  0.499652  1.019140  "
      ]
     },
     "execution_count": 9,
     "metadata": {},
     "output_type": "execute_result"
    }
   ],
   "source": [
    "y_test_solar_wind_15_pct_pred_1 = model_1.predict(x_test_solar_wind_15_pct)\n",
    "y_test_solar_wind_15_pct_pred_1 = pd.DataFrame(data = y_test_solar_wind_15_pct_pred_1,\n",
    "                                 columns = ['pg_1', 'pg_18', 'v_18', 'pg_22', 'v_22', 'pg_25', 'v_25', 'pg_33', 'v_33'])\n",
    "y_test_solar_wind_15_pct_pred_1.head()"
   ]
  },
  {
   "cell_type": "code",
   "execution_count": 10,
   "metadata": {},
   "outputs": [
    {
     "data": {
      "text/html": [
       "<div>\n",
       "<style scoped>\n",
       "    .dataframe tbody tr th:only-of-type {\n",
       "        vertical-align: middle;\n",
       "    }\n",
       "\n",
       "    .dataframe tbody tr th {\n",
       "        vertical-align: top;\n",
       "    }\n",
       "\n",
       "    .dataframe thead th {\n",
       "        text-align: right;\n",
       "    }\n",
       "</style>\n",
       "<table border=\"1\" class=\"dataframe\">\n",
       "  <thead>\n",
       "    <tr style=\"text-align: right;\">\n",
       "      <th></th>\n",
       "      <th>scenario</th>\n",
       "      <th>pg_1</th>\n",
       "      <th>pg_18</th>\n",
       "      <th>v_18</th>\n",
       "      <th>pg_22</th>\n",
       "      <th>v_22</th>\n",
       "      <th>pg_25</th>\n",
       "      <th>v_25</th>\n",
       "      <th>pg_33</th>\n",
       "      <th>v_33</th>\n",
       "    </tr>\n",
       "  </thead>\n",
       "  <tbody>\n",
       "    <tr>\n",
       "      <th>0</th>\n",
       "      <td>1</td>\n",
       "      <td>0.000113</td>\n",
       "      <td>0.360193</td>\n",
       "      <td>1.023275</td>\n",
       "      <td>0.446233</td>\n",
       "      <td>1.005158</td>\n",
       "      <td>0.499973</td>\n",
       "      <td>1.001090</td>\n",
       "      <td>0.499953</td>\n",
       "      <td>1.017292</td>\n",
       "    </tr>\n",
       "    <tr>\n",
       "      <th>1</th>\n",
       "      <td>2</td>\n",
       "      <td>0.000107</td>\n",
       "      <td>0.347575</td>\n",
       "      <td>1.023141</td>\n",
       "      <td>0.426885</td>\n",
       "      <td>1.004870</td>\n",
       "      <td>0.499980</td>\n",
       "      <td>1.001214</td>\n",
       "      <td>0.499950</td>\n",
       "      <td>1.017754</td>\n",
       "    </tr>\n",
       "    <tr>\n",
       "      <th>2</th>\n",
       "      <td>3</td>\n",
       "      <td>0.000112</td>\n",
       "      <td>0.333954</td>\n",
       "      <td>1.022992</td>\n",
       "      <td>0.406484</td>\n",
       "      <td>1.004555</td>\n",
       "      <td>0.499989</td>\n",
       "      <td>1.001350</td>\n",
       "      <td>0.499947</td>\n",
       "      <td>1.018237</td>\n",
       "    </tr>\n",
       "    <tr>\n",
       "      <th>3</th>\n",
       "      <td>4</td>\n",
       "      <td>0.000110</td>\n",
       "      <td>0.321537</td>\n",
       "      <td>1.022876</td>\n",
       "      <td>0.387352</td>\n",
       "      <td>1.004272</td>\n",
       "      <td>0.499996</td>\n",
       "      <td>1.001490</td>\n",
       "      <td>0.499944</td>\n",
       "      <td>1.018696</td>\n",
       "    </tr>\n",
       "    <tr>\n",
       "      <th>4</th>\n",
       "      <td>5</td>\n",
       "      <td>0.000110</td>\n",
       "      <td>0.309225</td>\n",
       "      <td>1.022746</td>\n",
       "      <td>0.368394</td>\n",
       "      <td>1.003999</td>\n",
       "      <td>0.500004</td>\n",
       "      <td>1.001630</td>\n",
       "      <td>0.499652</td>\n",
       "      <td>1.019140</td>\n",
       "    </tr>\n",
       "  </tbody>\n",
       "</table>\n",
       "</div>"
      ],
      "text/plain": [
       "   scenario      pg_1     pg_18      v_18     pg_22      v_22     pg_25  \\\n",
       "0         1  0.000113  0.360193  1.023275  0.446233  1.005158  0.499973   \n",
       "1         2  0.000107  0.347575  1.023141  0.426885  1.004870  0.499980   \n",
       "2         3  0.000112  0.333954  1.022992  0.406484  1.004555  0.499989   \n",
       "3         4  0.000110  0.321537  1.022876  0.387352  1.004272  0.499996   \n",
       "4         5  0.000110  0.309225  1.022746  0.368394  1.003999  0.500004   \n",
       "\n",
       "       v_25     pg_33      v_33  \n",
       "0  1.001090  0.499953  1.017292  \n",
       "1  1.001214  0.499950  1.017754  \n",
       "2  1.001350  0.499947  1.018237  \n",
       "3  1.001490  0.499944  1.018696  \n",
       "4  1.001630  0.499652  1.019140  "
      ]
     },
     "execution_count": 10,
     "metadata": {},
     "output_type": "execute_result"
    }
   ],
   "source": [
    "pg_v_test_solar_wind_15_pct_pred_1 = pd.concat([pg_v_test_solar_wind_15_pct.scenario, y_test_solar_wind_15_pct_pred_1], axis = 1)\n",
    "pg_v_test_solar_wind_15_pct_pred_1.head()"
   ]
  },
  {
   "cell_type": "code",
   "execution_count": 11,
   "metadata": {},
   "outputs": [],
   "source": [
    "pg_v_test_solar_wind_15_pct_pred_1.to_csv('pg_v_test_solar_wind_15_pct_pred_1.csv', index = False, float_format = '%0.20f')"
   ]
  },
  {
   "cell_type": "markdown",
   "metadata": {},
   "source": [
    "##### Using model 2 that was trained using training group 2"
   ]
  },
  {
   "cell_type": "code",
   "execution_count": 12,
   "metadata": {},
   "outputs": [
    {
     "data": {
      "text/html": [
       "<div>\n",
       "<style scoped>\n",
       "    .dataframe tbody tr th:only-of-type {\n",
       "        vertical-align: middle;\n",
       "    }\n",
       "\n",
       "    .dataframe tbody tr th {\n",
       "        vertical-align: top;\n",
       "    }\n",
       "\n",
       "    .dataframe thead th {\n",
       "        text-align: right;\n",
       "    }\n",
       "</style>\n",
       "<table border=\"1\" class=\"dataframe\">\n",
       "  <thead>\n",
       "    <tr style=\"text-align: right;\">\n",
       "      <th></th>\n",
       "      <th>pg_1</th>\n",
       "      <th>pg_18</th>\n",
       "      <th>v_18</th>\n",
       "      <th>pg_22</th>\n",
       "      <th>v_22</th>\n",
       "      <th>pg_25</th>\n",
       "      <th>v_25</th>\n",
       "      <th>pg_33</th>\n",
       "      <th>v_33</th>\n",
       "    </tr>\n",
       "  </thead>\n",
       "  <tbody>\n",
       "    <tr>\n",
       "      <th>0</th>\n",
       "      <td>-0.000016</td>\n",
       "      <td>0.363794</td>\n",
       "      <td>1.022959</td>\n",
       "      <td>0.445074</td>\n",
       "      <td>1.005289</td>\n",
       "      <td>0.499874</td>\n",
       "      <td>1.001148</td>\n",
       "      <td>0.499779</td>\n",
       "      <td>1.016752</td>\n",
       "    </tr>\n",
       "    <tr>\n",
       "      <th>1</th>\n",
       "      <td>-0.000010</td>\n",
       "      <td>0.351273</td>\n",
       "      <td>1.022818</td>\n",
       "      <td>0.425658</td>\n",
       "      <td>1.005011</td>\n",
       "      <td>0.499853</td>\n",
       "      <td>1.001267</td>\n",
       "      <td>0.499772</td>\n",
       "      <td>1.017202</td>\n",
       "    </tr>\n",
       "    <tr>\n",
       "      <th>2</th>\n",
       "      <td>-0.000003</td>\n",
       "      <td>0.337971</td>\n",
       "      <td>1.022651</td>\n",
       "      <td>0.405154</td>\n",
       "      <td>1.004714</td>\n",
       "      <td>0.499846</td>\n",
       "      <td>1.001403</td>\n",
       "      <td>0.499771</td>\n",
       "      <td>1.017643</td>\n",
       "    </tr>\n",
       "    <tr>\n",
       "      <th>3</th>\n",
       "      <td>0.000003</td>\n",
       "      <td>0.325561</td>\n",
       "      <td>1.022525</td>\n",
       "      <td>0.386024</td>\n",
       "      <td>1.004442</td>\n",
       "      <td>0.499841</td>\n",
       "      <td>1.001534</td>\n",
       "      <td>0.499771</td>\n",
       "      <td>1.018092</td>\n",
       "    </tr>\n",
       "    <tr>\n",
       "      <th>4</th>\n",
       "      <td>0.000008</td>\n",
       "      <td>0.313151</td>\n",
       "      <td>1.022383</td>\n",
       "      <td>0.366876</td>\n",
       "      <td>1.004174</td>\n",
       "      <td>0.499835</td>\n",
       "      <td>1.001666</td>\n",
       "      <td>0.499771</td>\n",
       "      <td>1.018541</td>\n",
       "    </tr>\n",
       "  </tbody>\n",
       "</table>\n",
       "</div>"
      ],
      "text/plain": [
       "       pg_1     pg_18      v_18     pg_22      v_22     pg_25      v_25  \\\n",
       "0 -0.000016  0.363794  1.022959  0.445074  1.005289  0.499874  1.001148   \n",
       "1 -0.000010  0.351273  1.022818  0.425658  1.005011  0.499853  1.001267   \n",
       "2 -0.000003  0.337971  1.022651  0.405154  1.004714  0.499846  1.001403   \n",
       "3  0.000003  0.325561  1.022525  0.386024  1.004442  0.499841  1.001534   \n",
       "4  0.000008  0.313151  1.022383  0.366876  1.004174  0.499835  1.001666   \n",
       "\n",
       "      pg_33      v_33  \n",
       "0  0.499779  1.016752  \n",
       "1  0.499772  1.017202  \n",
       "2  0.499771  1.017643  \n",
       "3  0.499771  1.018092  \n",
       "4  0.499771  1.018541  "
      ]
     },
     "execution_count": 12,
     "metadata": {},
     "output_type": "execute_result"
    }
   ],
   "source": [
    "y_test_solar_wind_15_pct_pred_2 = model_2.predict(x_test_solar_wind_15_pct)\n",
    "y_test_solar_wind_15_pct_pred_2 = pd.DataFrame(data = y_test_solar_wind_15_pct_pred_2,\n",
    "                             columns = ['pg_1', 'pg_18', 'v_18', 'pg_22', 'v_22', 'pg_25', 'v_25', 'pg_33', 'v_33'])\n",
    "y_test_solar_wind_15_pct_pred_2.head()"
   ]
  },
  {
   "cell_type": "code",
   "execution_count": 13,
   "metadata": {},
   "outputs": [
    {
     "data": {
      "text/html": [
       "<div>\n",
       "<style scoped>\n",
       "    .dataframe tbody tr th:only-of-type {\n",
       "        vertical-align: middle;\n",
       "    }\n",
       "\n",
       "    .dataframe tbody tr th {\n",
       "        vertical-align: top;\n",
       "    }\n",
       "\n",
       "    .dataframe thead th {\n",
       "        text-align: right;\n",
       "    }\n",
       "</style>\n",
       "<table border=\"1\" class=\"dataframe\">\n",
       "  <thead>\n",
       "    <tr style=\"text-align: right;\">\n",
       "      <th></th>\n",
       "      <th>scenario</th>\n",
       "      <th>pg_1</th>\n",
       "      <th>pg_18</th>\n",
       "      <th>v_18</th>\n",
       "      <th>pg_22</th>\n",
       "      <th>v_22</th>\n",
       "      <th>pg_25</th>\n",
       "      <th>v_25</th>\n",
       "      <th>pg_33</th>\n",
       "      <th>v_33</th>\n",
       "    </tr>\n",
       "  </thead>\n",
       "  <tbody>\n",
       "    <tr>\n",
       "      <th>0</th>\n",
       "      <td>1</td>\n",
       "      <td>-0.000016</td>\n",
       "      <td>0.363794</td>\n",
       "      <td>1.022959</td>\n",
       "      <td>0.445074</td>\n",
       "      <td>1.005289</td>\n",
       "      <td>0.499874</td>\n",
       "      <td>1.001148</td>\n",
       "      <td>0.499779</td>\n",
       "      <td>1.016752</td>\n",
       "    </tr>\n",
       "    <tr>\n",
       "      <th>1</th>\n",
       "      <td>2</td>\n",
       "      <td>-0.000010</td>\n",
       "      <td>0.351273</td>\n",
       "      <td>1.022818</td>\n",
       "      <td>0.425658</td>\n",
       "      <td>1.005011</td>\n",
       "      <td>0.499853</td>\n",
       "      <td>1.001267</td>\n",
       "      <td>0.499772</td>\n",
       "      <td>1.017202</td>\n",
       "    </tr>\n",
       "    <tr>\n",
       "      <th>2</th>\n",
       "      <td>3</td>\n",
       "      <td>-0.000003</td>\n",
       "      <td>0.337971</td>\n",
       "      <td>1.022651</td>\n",
       "      <td>0.405154</td>\n",
       "      <td>1.004714</td>\n",
       "      <td>0.499846</td>\n",
       "      <td>1.001403</td>\n",
       "      <td>0.499771</td>\n",
       "      <td>1.017643</td>\n",
       "    </tr>\n",
       "    <tr>\n",
       "      <th>3</th>\n",
       "      <td>4</td>\n",
       "      <td>0.000003</td>\n",
       "      <td>0.325561</td>\n",
       "      <td>1.022525</td>\n",
       "      <td>0.386024</td>\n",
       "      <td>1.004442</td>\n",
       "      <td>0.499841</td>\n",
       "      <td>1.001534</td>\n",
       "      <td>0.499771</td>\n",
       "      <td>1.018092</td>\n",
       "    </tr>\n",
       "    <tr>\n",
       "      <th>4</th>\n",
       "      <td>5</td>\n",
       "      <td>0.000008</td>\n",
       "      <td>0.313151</td>\n",
       "      <td>1.022383</td>\n",
       "      <td>0.366876</td>\n",
       "      <td>1.004174</td>\n",
       "      <td>0.499835</td>\n",
       "      <td>1.001666</td>\n",
       "      <td>0.499771</td>\n",
       "      <td>1.018541</td>\n",
       "    </tr>\n",
       "  </tbody>\n",
       "</table>\n",
       "</div>"
      ],
      "text/plain": [
       "   scenario      pg_1     pg_18      v_18     pg_22      v_22     pg_25  \\\n",
       "0         1 -0.000016  0.363794  1.022959  0.445074  1.005289  0.499874   \n",
       "1         2 -0.000010  0.351273  1.022818  0.425658  1.005011  0.499853   \n",
       "2         3 -0.000003  0.337971  1.022651  0.405154  1.004714  0.499846   \n",
       "3         4  0.000003  0.325561  1.022525  0.386024  1.004442  0.499841   \n",
       "4         5  0.000008  0.313151  1.022383  0.366876  1.004174  0.499835   \n",
       "\n",
       "       v_25     pg_33      v_33  \n",
       "0  1.001148  0.499779  1.016752  \n",
       "1  1.001267  0.499772  1.017202  \n",
       "2  1.001403  0.499771  1.017643  \n",
       "3  1.001534  0.499771  1.018092  \n",
       "4  1.001666  0.499771  1.018541  "
      ]
     },
     "execution_count": 13,
     "metadata": {},
     "output_type": "execute_result"
    }
   ],
   "source": [
    "pg_v_test_solar_wind_15_pct_pred_2 = pd.concat([pg_v_test_solar_wind_15_pct.scenario, y_test_solar_wind_15_pct_pred_2], axis = 1)\n",
    "pg_v_test_solar_wind_15_pct_pred_2.head()"
   ]
  },
  {
   "cell_type": "code",
   "execution_count": 14,
   "metadata": {},
   "outputs": [],
   "source": [
    "pg_v_test_solar_wind_15_pct_pred_2.to_csv('pg_v_test_solar_wind_15_pct_pred_2.csv', index = False, float_format = '%0.20f')"
   ]
  },
  {
   "cell_type": "markdown",
   "metadata": {},
   "source": [
    "##### Using model 3 that was trained using training group 3"
   ]
  },
  {
   "cell_type": "code",
   "execution_count": 15,
   "metadata": {},
   "outputs": [
    {
     "data": {
      "text/html": [
       "<div>\n",
       "<style scoped>\n",
       "    .dataframe tbody tr th:only-of-type {\n",
       "        vertical-align: middle;\n",
       "    }\n",
       "\n",
       "    .dataframe tbody tr th {\n",
       "        vertical-align: top;\n",
       "    }\n",
       "\n",
       "    .dataframe thead th {\n",
       "        text-align: right;\n",
       "    }\n",
       "</style>\n",
       "<table border=\"1\" class=\"dataframe\">\n",
       "  <thead>\n",
       "    <tr style=\"text-align: right;\">\n",
       "      <th></th>\n",
       "      <th>pg_1</th>\n",
       "      <th>pg_18</th>\n",
       "      <th>v_18</th>\n",
       "      <th>pg_22</th>\n",
       "      <th>v_22</th>\n",
       "      <th>pg_25</th>\n",
       "      <th>v_25</th>\n",
       "      <th>pg_33</th>\n",
       "      <th>v_33</th>\n",
       "    </tr>\n",
       "  </thead>\n",
       "  <tbody>\n",
       "    <tr>\n",
       "      <th>0</th>\n",
       "      <td>0.000405</td>\n",
       "      <td>0.363140</td>\n",
       "      <td>1.023209</td>\n",
       "      <td>0.444396</td>\n",
       "      <td>1.005283</td>\n",
       "      <td>0.500095</td>\n",
       "      <td>1.001179</td>\n",
       "      <td>0.500265</td>\n",
       "      <td>1.016931</td>\n",
       "    </tr>\n",
       "    <tr>\n",
       "      <th>1</th>\n",
       "      <td>0.000421</td>\n",
       "      <td>0.350521</td>\n",
       "      <td>1.023078</td>\n",
       "      <td>0.425102</td>\n",
       "      <td>1.005000</td>\n",
       "      <td>0.500102</td>\n",
       "      <td>1.001308</td>\n",
       "      <td>0.500276</td>\n",
       "      <td>1.017376</td>\n",
       "    </tr>\n",
       "    <tr>\n",
       "      <th>2</th>\n",
       "      <td>0.000438</td>\n",
       "      <td>0.337118</td>\n",
       "      <td>1.022927</td>\n",
       "      <td>0.404628</td>\n",
       "      <td>1.004696</td>\n",
       "      <td>0.500109</td>\n",
       "      <td>1.001455</td>\n",
       "      <td>0.500286</td>\n",
       "      <td>1.017820</td>\n",
       "    </tr>\n",
       "    <tr>\n",
       "      <th>3</th>\n",
       "      <td>0.000454</td>\n",
       "      <td>0.324663</td>\n",
       "      <td>1.022817</td>\n",
       "      <td>0.385466</td>\n",
       "      <td>1.004411</td>\n",
       "      <td>0.500116</td>\n",
       "      <td>1.001598</td>\n",
       "      <td>0.500274</td>\n",
       "      <td>1.018284</td>\n",
       "    </tr>\n",
       "    <tr>\n",
       "      <th>4</th>\n",
       "      <td>0.000467</td>\n",
       "      <td>0.312220</td>\n",
       "      <td>1.022688</td>\n",
       "      <td>0.366362</td>\n",
       "      <td>1.004132</td>\n",
       "      <td>0.500122</td>\n",
       "      <td>1.001742</td>\n",
       "      <td>0.500276</td>\n",
       "      <td>1.018746</td>\n",
       "    </tr>\n",
       "  </tbody>\n",
       "</table>\n",
       "</div>"
      ],
      "text/plain": [
       "       pg_1     pg_18      v_18     pg_22      v_22     pg_25      v_25  \\\n",
       "0  0.000405  0.363140  1.023209  0.444396  1.005283  0.500095  1.001179   \n",
       "1  0.000421  0.350521  1.023078  0.425102  1.005000  0.500102  1.001308   \n",
       "2  0.000438  0.337118  1.022927  0.404628  1.004696  0.500109  1.001455   \n",
       "3  0.000454  0.324663  1.022817  0.385466  1.004411  0.500116  1.001598   \n",
       "4  0.000467  0.312220  1.022688  0.366362  1.004132  0.500122  1.001742   \n",
       "\n",
       "      pg_33      v_33  \n",
       "0  0.500265  1.016931  \n",
       "1  0.500276  1.017376  \n",
       "2  0.500286  1.017820  \n",
       "3  0.500274  1.018284  \n",
       "4  0.500276  1.018746  "
      ]
     },
     "execution_count": 15,
     "metadata": {},
     "output_type": "execute_result"
    }
   ],
   "source": [
    "y_test_solar_wind_15_pct_pred_3 = model_3.predict(x_test_solar_wind_15_pct)\n",
    "y_test_solar_wind_15_pct_pred_3 = pd.DataFrame(data = y_test_solar_wind_15_pct_pred_3,\n",
    "                             columns = ['pg_1', 'pg_18', 'v_18', 'pg_22', 'v_22', 'pg_25', 'v_25', 'pg_33', 'v_33'])\n",
    "y_test_solar_wind_15_pct_pred_3.head()"
   ]
  },
  {
   "cell_type": "code",
   "execution_count": 16,
   "metadata": {},
   "outputs": [
    {
     "data": {
      "text/html": [
       "<div>\n",
       "<style scoped>\n",
       "    .dataframe tbody tr th:only-of-type {\n",
       "        vertical-align: middle;\n",
       "    }\n",
       "\n",
       "    .dataframe tbody tr th {\n",
       "        vertical-align: top;\n",
       "    }\n",
       "\n",
       "    .dataframe thead th {\n",
       "        text-align: right;\n",
       "    }\n",
       "</style>\n",
       "<table border=\"1\" class=\"dataframe\">\n",
       "  <thead>\n",
       "    <tr style=\"text-align: right;\">\n",
       "      <th></th>\n",
       "      <th>scenario</th>\n",
       "      <th>pg_1</th>\n",
       "      <th>pg_18</th>\n",
       "      <th>v_18</th>\n",
       "      <th>pg_22</th>\n",
       "      <th>v_22</th>\n",
       "      <th>pg_25</th>\n",
       "      <th>v_25</th>\n",
       "      <th>pg_33</th>\n",
       "      <th>v_33</th>\n",
       "    </tr>\n",
       "  </thead>\n",
       "  <tbody>\n",
       "    <tr>\n",
       "      <th>0</th>\n",
       "      <td>1</td>\n",
       "      <td>0.000405</td>\n",
       "      <td>0.363140</td>\n",
       "      <td>1.023209</td>\n",
       "      <td>0.444396</td>\n",
       "      <td>1.005283</td>\n",
       "      <td>0.500095</td>\n",
       "      <td>1.001179</td>\n",
       "      <td>0.500265</td>\n",
       "      <td>1.016931</td>\n",
       "    </tr>\n",
       "    <tr>\n",
       "      <th>1</th>\n",
       "      <td>2</td>\n",
       "      <td>0.000421</td>\n",
       "      <td>0.350521</td>\n",
       "      <td>1.023078</td>\n",
       "      <td>0.425102</td>\n",
       "      <td>1.005000</td>\n",
       "      <td>0.500102</td>\n",
       "      <td>1.001308</td>\n",
       "      <td>0.500276</td>\n",
       "      <td>1.017376</td>\n",
       "    </tr>\n",
       "    <tr>\n",
       "      <th>2</th>\n",
       "      <td>3</td>\n",
       "      <td>0.000438</td>\n",
       "      <td>0.337118</td>\n",
       "      <td>1.022927</td>\n",
       "      <td>0.404628</td>\n",
       "      <td>1.004696</td>\n",
       "      <td>0.500109</td>\n",
       "      <td>1.001455</td>\n",
       "      <td>0.500286</td>\n",
       "      <td>1.017820</td>\n",
       "    </tr>\n",
       "    <tr>\n",
       "      <th>3</th>\n",
       "      <td>4</td>\n",
       "      <td>0.000454</td>\n",
       "      <td>0.324663</td>\n",
       "      <td>1.022817</td>\n",
       "      <td>0.385466</td>\n",
       "      <td>1.004411</td>\n",
       "      <td>0.500116</td>\n",
       "      <td>1.001598</td>\n",
       "      <td>0.500274</td>\n",
       "      <td>1.018284</td>\n",
       "    </tr>\n",
       "    <tr>\n",
       "      <th>4</th>\n",
       "      <td>5</td>\n",
       "      <td>0.000467</td>\n",
       "      <td>0.312220</td>\n",
       "      <td>1.022688</td>\n",
       "      <td>0.366362</td>\n",
       "      <td>1.004132</td>\n",
       "      <td>0.500122</td>\n",
       "      <td>1.001742</td>\n",
       "      <td>0.500276</td>\n",
       "      <td>1.018746</td>\n",
       "    </tr>\n",
       "  </tbody>\n",
       "</table>\n",
       "</div>"
      ],
      "text/plain": [
       "   scenario      pg_1     pg_18      v_18     pg_22      v_22     pg_25  \\\n",
       "0         1  0.000405  0.363140  1.023209  0.444396  1.005283  0.500095   \n",
       "1         2  0.000421  0.350521  1.023078  0.425102  1.005000  0.500102   \n",
       "2         3  0.000438  0.337118  1.022927  0.404628  1.004696  0.500109   \n",
       "3         4  0.000454  0.324663  1.022817  0.385466  1.004411  0.500116   \n",
       "4         5  0.000467  0.312220  1.022688  0.366362  1.004132  0.500122   \n",
       "\n",
       "       v_25     pg_33      v_33  \n",
       "0  1.001179  0.500265  1.016931  \n",
       "1  1.001308  0.500276  1.017376  \n",
       "2  1.001455  0.500286  1.017820  \n",
       "3  1.001598  0.500274  1.018284  \n",
       "4  1.001742  0.500276  1.018746  "
      ]
     },
     "execution_count": 16,
     "metadata": {},
     "output_type": "execute_result"
    }
   ],
   "source": [
    "pg_v_test_solar_wind_15_pct_pred_3 = pd.concat([pg_v_test_solar_wind_15_pct.scenario, y_test_solar_wind_15_pct_pred_3], axis = 1)\n",
    "pg_v_test_solar_wind_15_pct_pred_3.head()"
   ]
  },
  {
   "cell_type": "code",
   "execution_count": 17,
   "metadata": {},
   "outputs": [],
   "source": [
    "pg_v_test_solar_wind_15_pct_pred_3.to_csv('pg_v_test_solar_wind_15_pct_pred_3.csv', index = False, float_format = '%0.20f')"
   ]
  },
  {
   "cell_type": "markdown",
   "metadata": {},
   "source": [
    "##### RMSE of $P_{G_{1}}$ estimates"
   ]
  },
  {
   "cell_type": "code",
   "execution_count": 18,
   "metadata": {},
   "outputs": [
    {
     "data": {
      "text/plain": [
       "0.00143299653343441"
      ]
     },
     "execution_count": 18,
     "metadata": {},
     "output_type": "execute_result"
    }
   ],
   "source": [
    "mean_squared_error(pg_v_test_solar_wind_15_pct.pg_1, pg_v_test_solar_wind_15_pct_pred_1.pg_1, squared = False)"
   ]
  },
  {
   "cell_type": "code",
   "execution_count": 19,
   "metadata": {},
   "outputs": [
    {
     "data": {
      "text/plain": [
       "0.002676526406431432"
      ]
     },
     "execution_count": 19,
     "metadata": {},
     "output_type": "execute_result"
    }
   ],
   "source": [
    "mean_squared_error(pg_v_test_solar_wind_15_pct.pg_1, pg_v_test_solar_wind_15_pct_pred_2.pg_1, squared = False)"
   ]
  },
  {
   "cell_type": "code",
   "execution_count": 20,
   "metadata": {},
   "outputs": [
    {
     "data": {
      "text/plain": [
       "0.05393053219988027"
      ]
     },
     "execution_count": 20,
     "metadata": {},
     "output_type": "execute_result"
    }
   ],
   "source": [
    "mean_squared_error(pg_v_test_solar_wind_15_pct.pg_1, pg_v_test_solar_wind_15_pct_pred_3.pg_1, squared = False)"
   ]
  },
  {
   "cell_type": "markdown",
   "metadata": {},
   "source": [
    "##### RMSE of $P_{G_{18}}$ estimates"
   ]
  },
  {
   "cell_type": "code",
   "execution_count": 21,
   "metadata": {},
   "outputs": [
    {
     "data": {
      "text/plain": [
       "0.0007023981970013766"
      ]
     },
     "execution_count": 21,
     "metadata": {},
     "output_type": "execute_result"
    }
   ],
   "source": [
    "mean_squared_error(pg_v_test_solar_wind_15_pct.pg_18, pg_v_test_solar_wind_15_pct_pred_1.pg_18, squared = False)"
   ]
  },
  {
   "cell_type": "code",
   "execution_count": 22,
   "metadata": {},
   "outputs": [
    {
     "data": {
      "text/plain": [
       "0.0031354238923699583"
      ]
     },
     "execution_count": 22,
     "metadata": {},
     "output_type": "execute_result"
    }
   ],
   "source": [
    "mean_squared_error(pg_v_test_solar_wind_15_pct.pg_18, pg_v_test_solar_wind_15_pct_pred_2.pg_18, squared = False)"
   ]
  },
  {
   "cell_type": "code",
   "execution_count": 23,
   "metadata": {},
   "outputs": [
    {
     "data": {
      "text/plain": [
       "0.0030167006060402256"
      ]
     },
     "execution_count": 23,
     "metadata": {},
     "output_type": "execute_result"
    }
   ],
   "source": [
    "mean_squared_error(pg_v_test_solar_wind_15_pct.pg_18, pg_v_test_solar_wind_15_pct_pred_3.pg_18, squared = False)"
   ]
  },
  {
   "cell_type": "markdown",
   "metadata": {},
   "source": [
    "##### RMSE of $P_{G_{22}}$ estimates"
   ]
  },
  {
   "cell_type": "code",
   "execution_count": 24,
   "metadata": {},
   "outputs": [
    {
     "data": {
      "text/plain": [
       "0.0006572915095265403"
      ]
     },
     "execution_count": 24,
     "metadata": {},
     "output_type": "execute_result"
    }
   ],
   "source": [
    "mean_squared_error(pg_v_test_solar_wind_15_pct.pg_22, pg_v_test_solar_wind_15_pct_pred_1.pg_22, squared = False)"
   ]
  },
  {
   "cell_type": "code",
   "execution_count": 25,
   "metadata": {},
   "outputs": [
    {
     "data": {
      "text/plain": [
       "0.00047489678224313365"
      ]
     },
     "execution_count": 25,
     "metadata": {},
     "output_type": "execute_result"
    }
   ],
   "source": [
    "mean_squared_error(pg_v_test_solar_wind_15_pct.pg_22, pg_v_test_solar_wind_15_pct_pred_2.pg_22, squared = False)"
   ]
  },
  {
   "cell_type": "code",
   "execution_count": 26,
   "metadata": {},
   "outputs": [
    {
     "data": {
      "text/plain": [
       "0.0033223615027513395"
      ]
     },
     "execution_count": 26,
     "metadata": {},
     "output_type": "execute_result"
    }
   ],
   "source": [
    "mean_squared_error(pg_v_test_solar_wind_15_pct.pg_22, pg_v_test_solar_wind_15_pct_pred_3.pg_22, squared = False)"
   ]
  },
  {
   "cell_type": "markdown",
   "metadata": {},
   "source": [
    "##### RMSE of $P_{G_{25}}$ estimates"
   ]
  },
  {
   "cell_type": "code",
   "execution_count": 27,
   "metadata": {},
   "outputs": [
    {
     "data": {
      "text/plain": [
       "5.991286628163739e-05"
      ]
     },
     "execution_count": 27,
     "metadata": {},
     "output_type": "execute_result"
    }
   ],
   "source": [
    "mean_squared_error(pg_v_test_solar_wind_15_pct.pg_25, pg_v_test_solar_wind_15_pct_pred_1.pg_25, squared = False)"
   ]
  },
  {
   "cell_type": "code",
   "execution_count": 28,
   "metadata": {},
   "outputs": [
    {
     "data": {
      "text/plain": [
       "0.00018194274897120056"
      ]
     },
     "execution_count": 28,
     "metadata": {},
     "output_type": "execute_result"
    }
   ],
   "source": [
    "mean_squared_error(pg_v_test_solar_wind_15_pct.pg_25, pg_v_test_solar_wind_15_pct_pred_2.pg_25, squared = False)"
   ]
  },
  {
   "cell_type": "code",
   "execution_count": 29,
   "metadata": {},
   "outputs": [
    {
     "data": {
      "text/plain": [
       "0.006897146990635835"
      ]
     },
     "execution_count": 29,
     "metadata": {},
     "output_type": "execute_result"
    }
   ],
   "source": [
    "mean_squared_error(pg_v_test_solar_wind_15_pct.pg_25, pg_v_test_solar_wind_15_pct_pred_3.pg_25, squared = False)"
   ]
  },
  {
   "cell_type": "markdown",
   "metadata": {},
   "source": [
    "##### RMSE of $P_{G_{33}}$ estimates"
   ]
  },
  {
   "cell_type": "code",
   "execution_count": 30,
   "metadata": {},
   "outputs": [
    {
     "data": {
      "text/plain": [
       "0.0005026516691341419"
      ]
     },
     "execution_count": 30,
     "metadata": {},
     "output_type": "execute_result"
    }
   ],
   "source": [
    "mean_squared_error(pg_v_test_solar_wind_15_pct.pg_33, pg_v_test_solar_wind_15_pct_pred_1.pg_33, squared = False)"
   ]
  },
  {
   "cell_type": "code",
   "execution_count": 31,
   "metadata": {},
   "outputs": [
    {
     "data": {
      "text/plain": [
       "0.0002961904085474518"
      ]
     },
     "execution_count": 31,
     "metadata": {},
     "output_type": "execute_result"
    }
   ],
   "source": [
    "mean_squared_error(pg_v_test_solar_wind_15_pct.pg_33, pg_v_test_solar_wind_15_pct_pred_2.pg_33, squared = False)"
   ]
  },
  {
   "cell_type": "code",
   "execution_count": 32,
   "metadata": {},
   "outputs": [
    {
     "data": {
      "text/plain": [
       "0.0060069219473859285"
      ]
     },
     "execution_count": 32,
     "metadata": {},
     "output_type": "execute_result"
    }
   ],
   "source": [
    "mean_squared_error(pg_v_test_solar_wind_15_pct.pg_33, pg_v_test_solar_wind_15_pct_pred_3.pg_33, squared = False)"
   ]
  },
  {
   "cell_type": "markdown",
   "metadata": {},
   "source": [
    "##### RMSE of $V_{18}$ estimates"
   ]
  },
  {
   "cell_type": "code",
   "execution_count": 33,
   "metadata": {},
   "outputs": [
    {
     "data": {
      "text/plain": [
       "0.0003016733400972307"
      ]
     },
     "execution_count": 33,
     "metadata": {},
     "output_type": "execute_result"
    }
   ],
   "source": [
    "mean_squared_error(pg_v_test_solar_wind_15_pct.v_18, pg_v_test_solar_wind_15_pct_pred_1.v_18, squared = False)"
   ]
  },
  {
   "cell_type": "code",
   "execution_count": 34,
   "metadata": {},
   "outputs": [
    {
     "data": {
      "text/plain": [
       "0.0006054577391978772"
      ]
     },
     "execution_count": 34,
     "metadata": {},
     "output_type": "execute_result"
    }
   ],
   "source": [
    "mean_squared_error(pg_v_test_solar_wind_15_pct.v_18, pg_v_test_solar_wind_15_pct_pred_2.v_18, squared = False)"
   ]
  },
  {
   "cell_type": "code",
   "execution_count": 35,
   "metadata": {},
   "outputs": [
    {
     "data": {
      "text/plain": [
       "0.00734216190467019"
      ]
     },
     "execution_count": 35,
     "metadata": {},
     "output_type": "execute_result"
    }
   ],
   "source": [
    "mean_squared_error(pg_v_test_solar_wind_15_pct.v_18, pg_v_test_solar_wind_15_pct_pred_3.v_18, squared = False)"
   ]
  },
  {
   "cell_type": "markdown",
   "metadata": {},
   "source": [
    "##### RMSE of $V_{22}$ estimates"
   ]
  },
  {
   "cell_type": "code",
   "execution_count": 36,
   "metadata": {},
   "outputs": [
    {
     "data": {
      "text/plain": [
       "0.00012710364864682537"
      ]
     },
     "execution_count": 36,
     "metadata": {},
     "output_type": "execute_result"
    }
   ],
   "source": [
    "mean_squared_error(pg_v_test_solar_wind_15_pct.v_22, pg_v_test_solar_wind_15_pct_pred_1.v_22, squared = False)"
   ]
  },
  {
   "cell_type": "code",
   "execution_count": 37,
   "metadata": {},
   "outputs": [
    {
     "data": {
      "text/plain": [
       "0.0001862744656925585"
      ]
     },
     "execution_count": 37,
     "metadata": {},
     "output_type": "execute_result"
    }
   ],
   "source": [
    "mean_squared_error(pg_v_test_solar_wind_15_pct.v_22, pg_v_test_solar_wind_15_pct_pred_2.v_22, squared = False)"
   ]
  },
  {
   "cell_type": "code",
   "execution_count": 38,
   "metadata": {},
   "outputs": [
    {
     "data": {
      "text/plain": [
       "0.003134476561846133"
      ]
     },
     "execution_count": 38,
     "metadata": {},
     "output_type": "execute_result"
    }
   ],
   "source": [
    "mean_squared_error(pg_v_test_solar_wind_15_pct.v_22, pg_v_test_solar_wind_15_pct_pred_3.v_22, squared = False)"
   ]
  },
  {
   "cell_type": "markdown",
   "metadata": {},
   "source": [
    "##### RMSE of $V_{25}$ estimates"
   ]
  },
  {
   "cell_type": "code",
   "execution_count": 39,
   "metadata": {},
   "outputs": [
    {
     "data": {
      "text/plain": [
       "0.00012232003410856657"
      ]
     },
     "execution_count": 39,
     "metadata": {},
     "output_type": "execute_result"
    }
   ],
   "source": [
    "mean_squared_error(pg_v_test_solar_wind_15_pct.v_25, pg_v_test_solar_wind_15_pct_pred_1.v_25, squared = False)"
   ]
  },
  {
   "cell_type": "code",
   "execution_count": 40,
   "metadata": {},
   "outputs": [
    {
     "data": {
      "text/plain": [
       "0.0005876320228214633"
      ]
     },
     "execution_count": 40,
     "metadata": {},
     "output_type": "execute_result"
    }
   ],
   "source": [
    "mean_squared_error(pg_v_test_solar_wind_15_pct.v_25, pg_v_test_solar_wind_15_pct_pred_2.v_25, squared = False)"
   ]
  },
  {
   "cell_type": "code",
   "execution_count": 41,
   "metadata": {},
   "outputs": [
    {
     "data": {
      "text/plain": [
       "0.007936493782197674"
      ]
     },
     "execution_count": 41,
     "metadata": {},
     "output_type": "execute_result"
    }
   ],
   "source": [
    "mean_squared_error(pg_v_test_solar_wind_15_pct.v_25, pg_v_test_solar_wind_15_pct_pred_3.v_25, squared = False)"
   ]
  },
  {
   "cell_type": "markdown",
   "metadata": {},
   "source": [
    "##### RMSE of $V_{33}$ estimates"
   ]
  },
  {
   "cell_type": "code",
   "execution_count": 42,
   "metadata": {},
   "outputs": [
    {
     "data": {
      "text/plain": [
       "0.00024607546901610406"
      ]
     },
     "execution_count": 42,
     "metadata": {},
     "output_type": "execute_result"
    }
   ],
   "source": [
    "mean_squared_error(pg_v_test_solar_wind_15_pct.v_33, pg_v_test_solar_wind_15_pct_pred_1.v_33, squared = False)"
   ]
  },
  {
   "cell_type": "code",
   "execution_count": 43,
   "metadata": {},
   "outputs": [
    {
     "data": {
      "text/plain": [
       "0.00020836463394501234"
      ]
     },
     "execution_count": 43,
     "metadata": {},
     "output_type": "execute_result"
    }
   ],
   "source": [
    "mean_squared_error(pg_v_test_solar_wind_15_pct.v_33, pg_v_test_solar_wind_15_pct_pred_2.v_33, squared = False)"
   ]
  },
  {
   "cell_type": "code",
   "execution_count": 44,
   "metadata": {},
   "outputs": [
    {
     "data": {
      "text/plain": [
       "0.0015144423135035575"
      ]
     },
     "execution_count": 44,
     "metadata": {},
     "output_type": "execute_result"
    }
   ],
   "source": [
    "mean_squared_error(pg_v_test_solar_wind_15_pct.v_33, pg_v_test_solar_wind_15_pct_pred_3.v_33, squared = False)"
   ]
  },
  {
   "cell_type": "code",
   "execution_count": null,
   "metadata": {},
   "outputs": [],
   "source": []
  },
  {
   "cell_type": "code",
   "execution_count": null,
   "metadata": {},
   "outputs": [],
   "source": []
  },
  {
   "cell_type": "code",
   "execution_count": null,
   "metadata": {},
   "outputs": [],
   "source": []
  }
 ],
 "metadata": {
  "kernelspec": {
   "display_name": "Python 3",
   "language": "python",
   "name": "python3"
  },
  "language_info": {
   "codemirror_mode": {
    "name": "ipython",
    "version": 3
   },
   "file_extension": ".py",
   "mimetype": "text/x-python",
   "name": "python",
   "nbconvert_exporter": "python",
   "pygments_lexer": "ipython3",
   "version": "3.8.5"
  }
 },
 "nbformat": 4,
 "nbformat_minor": 4
}
