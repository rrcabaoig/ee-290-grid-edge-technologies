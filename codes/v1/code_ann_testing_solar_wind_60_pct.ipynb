{
 "cells": [
  {
   "cell_type": "markdown",
   "metadata": {},
   "source": [
    "### Import libraries"
   ]
  },
  {
   "cell_type": "code",
   "execution_count": 1,
   "metadata": {},
   "outputs": [],
   "source": [
    "import pandas as pd\n",
    "import os\n",
    "from tensorflow.keras.models import load_model\n",
    "from sklearn.metrics import mean_squared_error"
   ]
  },
  {
   "cell_type": "markdown",
   "metadata": {},
   "source": [
    "### Set the data repository as the working directory "
   ]
  },
  {
   "cell_type": "code",
   "execution_count": 2,
   "metadata": {},
   "outputs": [
    {
     "name": "stdout",
     "output_type": "stream",
     "text": [
      "C:\\Users\\Asus\\Documents\\College\\UP - MS EE\\SY 2022-2023 Second Semester (temporary, final files in new laptop)\\EE 290\\Files (NEW Jun 22) FINAL FINAL\\codes\n"
     ]
    }
   ],
   "source": [
    "print(os.path.abspath(os.curdir))"
   ]
  },
  {
   "cell_type": "code",
   "execution_count": 3,
   "metadata": {},
   "outputs": [
    {
     "name": "stdout",
     "output_type": "stream",
     "text": [
      "C:\\Users\\Asus\\Documents\\College\\UP - MS EE\\SY 2022-2023 Second Semester (temporary, final files in new laptop)\\EE 290\\Files (NEW Jun 22) FINAL FINAL\\data\n"
     ]
    }
   ],
   "source": [
    "os.chdir(\"../data\")\n",
    "print(os.path.abspath(os.curdir))"
   ]
  },
  {
   "cell_type": "markdown",
   "metadata": {},
   "source": [
    "### Import the test set (solar and wind inclusion)"
   ]
  },
  {
   "cell_type": "markdown",
   "metadata": {},
   "source": [
    "##### Test set (solar and wind inclusion)"
   ]
  },
  {
   "cell_type": "code",
   "execution_count": 4,
   "metadata": {
    "scrolled": true
   },
   "outputs": [
    {
     "data": {
      "text/html": [
       "<div>\n",
       "<style scoped>\n",
       "    .dataframe tbody tr th:only-of-type {\n",
       "        vertical-align: middle;\n",
       "    }\n",
       "\n",
       "    .dataframe tbody tr th {\n",
       "        vertical-align: top;\n",
       "    }\n",
       "\n",
       "    .dataframe thead th {\n",
       "        text-align: right;\n",
       "    }\n",
       "</style>\n",
       "<table border=\"1\" class=\"dataframe\">\n",
       "  <thead>\n",
       "    <tr style=\"text-align: right;\">\n",
       "      <th></th>\n",
       "      <th>scenario</th>\n",
       "      <th>pd_2</th>\n",
       "      <th>qd_2</th>\n",
       "      <th>pd_3</th>\n",
       "      <th>qd_3</th>\n",
       "      <th>pd_4</th>\n",
       "      <th>qd_4</th>\n",
       "      <th>pd_5</th>\n",
       "      <th>qd_5</th>\n",
       "      <th>pd_6</th>\n",
       "      <th>...</th>\n",
       "      <th>pd_29</th>\n",
       "      <th>qd_29</th>\n",
       "      <th>pd_30</th>\n",
       "      <th>qd_30</th>\n",
       "      <th>pd_31</th>\n",
       "      <th>qd_31</th>\n",
       "      <th>pd_32</th>\n",
       "      <th>qd_32</th>\n",
       "      <th>pd_33</th>\n",
       "      <th>qd_33</th>\n",
       "    </tr>\n",
       "  </thead>\n",
       "  <tbody>\n",
       "    <tr>\n",
       "      <th>0</th>\n",
       "      <td>1</td>\n",
       "      <td>0.034699</td>\n",
       "      <td>0.007573</td>\n",
       "      <td>0.045639</td>\n",
       "      <td>0.018038</td>\n",
       "      <td>0.016117</td>\n",
       "      <td>-0.000139</td>\n",
       "      <td>0.031436</td>\n",
       "      <td>0.009529</td>\n",
       "      <td>0.027359</td>\n",
       "      <td>...</td>\n",
       "      <td>0.063776</td>\n",
       "      <td>0.040361</td>\n",
       "      <td>0.101603</td>\n",
       "      <td>0.058396</td>\n",
       "      <td>0.077677</td>\n",
       "      <td>0.030700</td>\n",
       "      <td>0.117351</td>\n",
       "      <td>0.086486</td>\n",
       "      <td>0.024336</td>\n",
       "      <td>0.002183</td>\n",
       "    </tr>\n",
       "    <tr>\n",
       "      <th>1</th>\n",
       "      <td>2</td>\n",
       "      <td>0.034556</td>\n",
       "      <td>0.007371</td>\n",
       "      <td>0.045064</td>\n",
       "      <td>0.017669</td>\n",
       "      <td>0.014293</td>\n",
       "      <td>-0.000258</td>\n",
       "      <td>0.030837</td>\n",
       "      <td>0.009231</td>\n",
       "      <td>0.026833</td>\n",
       "      <td>...</td>\n",
       "      <td>0.062670</td>\n",
       "      <td>0.039661</td>\n",
       "      <td>0.099900</td>\n",
       "      <td>0.057418</td>\n",
       "      <td>0.076220</td>\n",
       "      <td>0.029884</td>\n",
       "      <td>0.115035</td>\n",
       "      <td>0.085078</td>\n",
       "      <td>0.024143</td>\n",
       "      <td>0.002166</td>\n",
       "    </tr>\n",
       "    <tr>\n",
       "      <th>2</th>\n",
       "      <td>3</td>\n",
       "      <td>0.034414</td>\n",
       "      <td>0.007166</td>\n",
       "      <td>0.044490</td>\n",
       "      <td>0.017302</td>\n",
       "      <td>0.009018</td>\n",
       "      <td>-0.002014</td>\n",
       "      <td>0.030238</td>\n",
       "      <td>0.009051</td>\n",
       "      <td>0.026307</td>\n",
       "      <td>...</td>\n",
       "      <td>0.061563</td>\n",
       "      <td>0.039122</td>\n",
       "      <td>0.098197</td>\n",
       "      <td>0.056177</td>\n",
       "      <td>0.074763</td>\n",
       "      <td>0.029548</td>\n",
       "      <td>0.112719</td>\n",
       "      <td>0.083659</td>\n",
       "      <td>0.023950</td>\n",
       "      <td>0.002149</td>\n",
       "    </tr>\n",
       "    <tr>\n",
       "      <th>3</th>\n",
       "      <td>4</td>\n",
       "      <td>0.034272</td>\n",
       "      <td>0.006959</td>\n",
       "      <td>0.043915</td>\n",
       "      <td>0.017079</td>\n",
       "      <td>0.007688</td>\n",
       "      <td>-0.002304</td>\n",
       "      <td>0.029639</td>\n",
       "      <td>0.008872</td>\n",
       "      <td>0.025781</td>\n",
       "      <td>...</td>\n",
       "      <td>0.060457</td>\n",
       "      <td>0.038577</td>\n",
       "      <td>0.096495</td>\n",
       "      <td>0.055202</td>\n",
       "      <td>0.073306</td>\n",
       "      <td>0.028741</td>\n",
       "      <td>0.110403</td>\n",
       "      <td>0.082227</td>\n",
       "      <td>0.023757</td>\n",
       "      <td>0.002131</td>\n",
       "    </tr>\n",
       "    <tr>\n",
       "      <th>4</th>\n",
       "      <td>5</td>\n",
       "      <td>0.034130</td>\n",
       "      <td>0.006750</td>\n",
       "      <td>0.043340</td>\n",
       "      <td>0.016992</td>\n",
       "      <td>0.006358</td>\n",
       "      <td>-0.002895</td>\n",
       "      <td>0.029040</td>\n",
       "      <td>0.008693</td>\n",
       "      <td>0.025255</td>\n",
       "      <td>...</td>\n",
       "      <td>0.059350</td>\n",
       "      <td>0.037716</td>\n",
       "      <td>0.094792</td>\n",
       "      <td>0.054482</td>\n",
       "      <td>0.071848</td>\n",
       "      <td>0.028396</td>\n",
       "      <td>0.108087</td>\n",
       "      <td>0.080502</td>\n",
       "      <td>0.023564</td>\n",
       "      <td>0.002114</td>\n",
       "    </tr>\n",
       "  </tbody>\n",
       "</table>\n",
       "<p>5 rows × 65 columns</p>\n",
       "</div>"
      ],
      "text/plain": [
       "   scenario      pd_2      qd_2      pd_3      qd_3      pd_4      qd_4  \\\n",
       "0         1  0.034699  0.007573  0.045639  0.018038  0.016117 -0.000139   \n",
       "1         2  0.034556  0.007371  0.045064  0.017669  0.014293 -0.000258   \n",
       "2         3  0.034414  0.007166  0.044490  0.017302  0.009018 -0.002014   \n",
       "3         4  0.034272  0.006959  0.043915  0.017079  0.007688 -0.002304   \n",
       "4         5  0.034130  0.006750  0.043340  0.016992  0.006358 -0.002895   \n",
       "\n",
       "       pd_5      qd_5      pd_6  ...     pd_29     qd_29     pd_30     qd_30  \\\n",
       "0  0.031436  0.009529  0.027359  ...  0.063776  0.040361  0.101603  0.058396   \n",
       "1  0.030837  0.009231  0.026833  ...  0.062670  0.039661  0.099900  0.057418   \n",
       "2  0.030238  0.009051  0.026307  ...  0.061563  0.039122  0.098197  0.056177   \n",
       "3  0.029639  0.008872  0.025781  ...  0.060457  0.038577  0.096495  0.055202   \n",
       "4  0.029040  0.008693  0.025255  ...  0.059350  0.037716  0.094792  0.054482   \n",
       "\n",
       "      pd_31     qd_31     pd_32     qd_32     pd_33     qd_33  \n",
       "0  0.077677  0.030700  0.117351  0.086486  0.024336  0.002183  \n",
       "1  0.076220  0.029884  0.115035  0.085078  0.024143  0.002166  \n",
       "2  0.074763  0.029548  0.112719  0.083659  0.023950  0.002149  \n",
       "3  0.073306  0.028741  0.110403  0.082227  0.023757  0.002131  \n",
       "4  0.071848  0.028396  0.108087  0.080502  0.023564  0.002114  \n",
       "\n",
       "[5 rows x 65 columns]"
      ]
     },
     "execution_count": 4,
     "metadata": {},
     "output_type": "execute_result"
    }
   ],
   "source": [
    "pd_qd_test_solar_wind_60_pct = pd.read_csv('pd_qd_test_solar_wind_60_pct.csv')\n",
    "pd_qd_test_solar_wind_60_pct.head()"
   ]
  },
  {
   "cell_type": "code",
   "execution_count": 5,
   "metadata": {},
   "outputs": [
    {
     "data": {
      "text/html": [
       "<div>\n",
       "<style scoped>\n",
       "    .dataframe tbody tr th:only-of-type {\n",
       "        vertical-align: middle;\n",
       "    }\n",
       "\n",
       "    .dataframe tbody tr th {\n",
       "        vertical-align: top;\n",
       "    }\n",
       "\n",
       "    .dataframe thead th {\n",
       "        text-align: right;\n",
       "    }\n",
       "</style>\n",
       "<table border=\"1\" class=\"dataframe\">\n",
       "  <thead>\n",
       "    <tr style=\"text-align: right;\">\n",
       "      <th></th>\n",
       "      <th>scenario</th>\n",
       "      <th>pg_1</th>\n",
       "      <th>pg_18</th>\n",
       "      <th>v_18</th>\n",
       "      <th>pg_22</th>\n",
       "      <th>v_22</th>\n",
       "      <th>pg_25</th>\n",
       "      <th>v_25</th>\n",
       "      <th>pg_33</th>\n",
       "      <th>v_33</th>\n",
       "    </tr>\n",
       "  </thead>\n",
       "  <tbody>\n",
       "    <tr>\n",
       "      <th>0</th>\n",
       "      <td>1</td>\n",
       "      <td>6.232622e-07</td>\n",
       "      <td>0.329631</td>\n",
       "      <td>1.022225</td>\n",
       "      <td>0.393493</td>\n",
       "      <td>1.004392</td>\n",
       "      <td>0.499981</td>\n",
       "      <td>1.001425</td>\n",
       "      <td>0.499975</td>\n",
       "      <td>1.017036</td>\n",
       "    </tr>\n",
       "    <tr>\n",
       "      <th>1</th>\n",
       "      <td>2</td>\n",
       "      <td>2.165867e-07</td>\n",
       "      <td>0.316787</td>\n",
       "      <td>1.022082</td>\n",
       "      <td>0.373607</td>\n",
       "      <td>1.004096</td>\n",
       "      <td>0.499993</td>\n",
       "      <td>1.001554</td>\n",
       "      <td>0.499989</td>\n",
       "      <td>1.017494</td>\n",
       "    </tr>\n",
       "    <tr>\n",
       "      <th>2</th>\n",
       "      <td>3</td>\n",
       "      <td>3.407686e-07</td>\n",
       "      <td>0.300836</td>\n",
       "      <td>1.021851</td>\n",
       "      <td>0.349050</td>\n",
       "      <td>1.003720</td>\n",
       "      <td>0.499969</td>\n",
       "      <td>1.001716</td>\n",
       "      <td>0.500000</td>\n",
       "      <td>1.017958</td>\n",
       "    </tr>\n",
       "    <tr>\n",
       "      <th>3</th>\n",
       "      <td>4</td>\n",
       "      <td>2.504343e-07</td>\n",
       "      <td>0.288762</td>\n",
       "      <td>1.021744</td>\n",
       "      <td>0.330468</td>\n",
       "      <td>1.003447</td>\n",
       "      <td>0.499961</td>\n",
       "      <td>1.001853</td>\n",
       "      <td>0.499150</td>\n",
       "      <td>1.018387</td>\n",
       "    </tr>\n",
       "    <tr>\n",
       "      <th>4</th>\n",
       "      <td>5</td>\n",
       "      <td>2.514764e-07</td>\n",
       "      <td>0.278717</td>\n",
       "      <td>1.021688</td>\n",
       "      <td>0.315448</td>\n",
       "      <td>1.003239</td>\n",
       "      <td>0.499915</td>\n",
       "      <td>1.001980</td>\n",
       "      <td>0.492763</td>\n",
       "      <td>1.018613</td>\n",
       "    </tr>\n",
       "  </tbody>\n",
       "</table>\n",
       "</div>"
      ],
      "text/plain": [
       "   scenario          pg_1     pg_18      v_18     pg_22      v_22     pg_25  \\\n",
       "0         1  6.232622e-07  0.329631  1.022225  0.393493  1.004392  0.499981   \n",
       "1         2  2.165867e-07  0.316787  1.022082  0.373607  1.004096  0.499993   \n",
       "2         3  3.407686e-07  0.300836  1.021851  0.349050  1.003720  0.499969   \n",
       "3         4  2.504343e-07  0.288762  1.021744  0.330468  1.003447  0.499961   \n",
       "4         5  2.514764e-07  0.278717  1.021688  0.315448  1.003239  0.499915   \n",
       "\n",
       "       v_25     pg_33      v_33  \n",
       "0  1.001425  0.499975  1.017036  \n",
       "1  1.001554  0.499989  1.017494  \n",
       "2  1.001716  0.500000  1.017958  \n",
       "3  1.001853  0.499150  1.018387  \n",
       "4  1.001980  0.492763  1.018613  "
      ]
     },
     "execution_count": 5,
     "metadata": {},
     "output_type": "execute_result"
    }
   ],
   "source": [
    "pg_v_test_solar_wind_60_pct = pd.read_csv('pg_v_test_solar_wind_60_pct.csv')\n",
    "pg_v_test_solar_wind_60_pct.head()"
   ]
  },
  {
   "cell_type": "markdown",
   "metadata": {},
   "source": [
    "### Separate the dependent variables (optimal generator setpoints) and the independent variables (non-dispatchable loads)\n",
    "Non-dispatchable loads: $x = (P_{D_{i}},Q_{D_{i}})\\forall i\\in \\Omega_{D}$\n",
    "<br>\n",
    "Optimal generator setpoints: $y = (P_{G_{j}},V_{j})\\forall j\\in \\Omega_{G}$"
   ]
  },
  {
   "cell_type": "markdown",
   "metadata": {},
   "source": [
    "##### Test set (solar and wind inclusion)"
   ]
  },
  {
   "cell_type": "code",
   "execution_count": 6,
   "metadata": {},
   "outputs": [
    {
     "data": {
      "text/html": [
       "<div>\n",
       "<style scoped>\n",
       "    .dataframe tbody tr th:only-of-type {\n",
       "        vertical-align: middle;\n",
       "    }\n",
       "\n",
       "    .dataframe tbody tr th {\n",
       "        vertical-align: top;\n",
       "    }\n",
       "\n",
       "    .dataframe thead th {\n",
       "        text-align: right;\n",
       "    }\n",
       "</style>\n",
       "<table border=\"1\" class=\"dataframe\">\n",
       "  <thead>\n",
       "    <tr style=\"text-align: right;\">\n",
       "      <th></th>\n",
       "      <th>pd_2</th>\n",
       "      <th>qd_2</th>\n",
       "      <th>pd_3</th>\n",
       "      <th>qd_3</th>\n",
       "      <th>pd_4</th>\n",
       "      <th>qd_4</th>\n",
       "      <th>pd_5</th>\n",
       "      <th>qd_5</th>\n",
       "      <th>pd_6</th>\n",
       "      <th>qd_6</th>\n",
       "      <th>...</th>\n",
       "      <th>pd_29</th>\n",
       "      <th>qd_29</th>\n",
       "      <th>pd_30</th>\n",
       "      <th>qd_30</th>\n",
       "      <th>pd_31</th>\n",
       "      <th>qd_31</th>\n",
       "      <th>pd_32</th>\n",
       "      <th>qd_32</th>\n",
       "      <th>pd_33</th>\n",
       "      <th>qd_33</th>\n",
       "    </tr>\n",
       "  </thead>\n",
       "  <tbody>\n",
       "    <tr>\n",
       "      <th>0</th>\n",
       "      <td>0.034699</td>\n",
       "      <td>0.007573</td>\n",
       "      <td>0.045639</td>\n",
       "      <td>0.018038</td>\n",
       "      <td>0.016117</td>\n",
       "      <td>-0.000139</td>\n",
       "      <td>0.031436</td>\n",
       "      <td>0.009529</td>\n",
       "      <td>0.027359</td>\n",
       "      <td>0.019239</td>\n",
       "      <td>...</td>\n",
       "      <td>0.063776</td>\n",
       "      <td>0.040361</td>\n",
       "      <td>0.101603</td>\n",
       "      <td>0.058396</td>\n",
       "      <td>0.077677</td>\n",
       "      <td>0.030700</td>\n",
       "      <td>0.117351</td>\n",
       "      <td>0.086486</td>\n",
       "      <td>0.024336</td>\n",
       "      <td>0.002183</td>\n",
       "    </tr>\n",
       "    <tr>\n",
       "      <th>1</th>\n",
       "      <td>0.034556</td>\n",
       "      <td>0.007371</td>\n",
       "      <td>0.045064</td>\n",
       "      <td>0.017669</td>\n",
       "      <td>0.014293</td>\n",
       "      <td>-0.000258</td>\n",
       "      <td>0.030837</td>\n",
       "      <td>0.009231</td>\n",
       "      <td>0.026833</td>\n",
       "      <td>0.018800</td>\n",
       "      <td>...</td>\n",
       "      <td>0.062670</td>\n",
       "      <td>0.039661</td>\n",
       "      <td>0.099900</td>\n",
       "      <td>0.057418</td>\n",
       "      <td>0.076220</td>\n",
       "      <td>0.029884</td>\n",
       "      <td>0.115035</td>\n",
       "      <td>0.085078</td>\n",
       "      <td>0.024143</td>\n",
       "      <td>0.002166</td>\n",
       "    </tr>\n",
       "    <tr>\n",
       "      <th>2</th>\n",
       "      <td>0.034414</td>\n",
       "      <td>0.007166</td>\n",
       "      <td>0.044490</td>\n",
       "      <td>0.017302</td>\n",
       "      <td>0.009018</td>\n",
       "      <td>-0.002014</td>\n",
       "      <td>0.030238</td>\n",
       "      <td>0.009051</td>\n",
       "      <td>0.026307</td>\n",
       "      <td>0.018499</td>\n",
       "      <td>...</td>\n",
       "      <td>0.061563</td>\n",
       "      <td>0.039122</td>\n",
       "      <td>0.098197</td>\n",
       "      <td>0.056177</td>\n",
       "      <td>0.074763</td>\n",
       "      <td>0.029548</td>\n",
       "      <td>0.112719</td>\n",
       "      <td>0.083659</td>\n",
       "      <td>0.023950</td>\n",
       "      <td>0.002149</td>\n",
       "    </tr>\n",
       "    <tr>\n",
       "      <th>3</th>\n",
       "      <td>0.034272</td>\n",
       "      <td>0.006959</td>\n",
       "      <td>0.043915</td>\n",
       "      <td>0.017079</td>\n",
       "      <td>0.007688</td>\n",
       "      <td>-0.002304</td>\n",
       "      <td>0.029639</td>\n",
       "      <td>0.008872</td>\n",
       "      <td>0.025781</td>\n",
       "      <td>0.018130</td>\n",
       "      <td>...</td>\n",
       "      <td>0.060457</td>\n",
       "      <td>0.038577</td>\n",
       "      <td>0.096495</td>\n",
       "      <td>0.055202</td>\n",
       "      <td>0.073306</td>\n",
       "      <td>0.028741</td>\n",
       "      <td>0.110403</td>\n",
       "      <td>0.082227</td>\n",
       "      <td>0.023757</td>\n",
       "      <td>0.002131</td>\n",
       "    </tr>\n",
       "    <tr>\n",
       "      <th>4</th>\n",
       "      <td>0.034130</td>\n",
       "      <td>0.006750</td>\n",
       "      <td>0.043340</td>\n",
       "      <td>0.016992</td>\n",
       "      <td>0.006358</td>\n",
       "      <td>-0.002895</td>\n",
       "      <td>0.029040</td>\n",
       "      <td>0.008693</td>\n",
       "      <td>0.025255</td>\n",
       "      <td>0.017825</td>\n",
       "      <td>...</td>\n",
       "      <td>0.059350</td>\n",
       "      <td>0.037716</td>\n",
       "      <td>0.094792</td>\n",
       "      <td>0.054482</td>\n",
       "      <td>0.071848</td>\n",
       "      <td>0.028396</td>\n",
       "      <td>0.108087</td>\n",
       "      <td>0.080502</td>\n",
       "      <td>0.023564</td>\n",
       "      <td>0.002114</td>\n",
       "    </tr>\n",
       "  </tbody>\n",
       "</table>\n",
       "<p>5 rows × 64 columns</p>\n",
       "</div>"
      ],
      "text/plain": [
       "       pd_2      qd_2      pd_3      qd_3      pd_4      qd_4      pd_5  \\\n",
       "0  0.034699  0.007573  0.045639  0.018038  0.016117 -0.000139  0.031436   \n",
       "1  0.034556  0.007371  0.045064  0.017669  0.014293 -0.000258  0.030837   \n",
       "2  0.034414  0.007166  0.044490  0.017302  0.009018 -0.002014  0.030238   \n",
       "3  0.034272  0.006959  0.043915  0.017079  0.007688 -0.002304  0.029639   \n",
       "4  0.034130  0.006750  0.043340  0.016992  0.006358 -0.002895  0.029040   \n",
       "\n",
       "       qd_5      pd_6      qd_6  ...     pd_29     qd_29     pd_30     qd_30  \\\n",
       "0  0.009529  0.027359  0.019239  ...  0.063776  0.040361  0.101603  0.058396   \n",
       "1  0.009231  0.026833  0.018800  ...  0.062670  0.039661  0.099900  0.057418   \n",
       "2  0.009051  0.026307  0.018499  ...  0.061563  0.039122  0.098197  0.056177   \n",
       "3  0.008872  0.025781  0.018130  ...  0.060457  0.038577  0.096495  0.055202   \n",
       "4  0.008693  0.025255  0.017825  ...  0.059350  0.037716  0.094792  0.054482   \n",
       "\n",
       "      pd_31     qd_31     pd_32     qd_32     pd_33     qd_33  \n",
       "0  0.077677  0.030700  0.117351  0.086486  0.024336  0.002183  \n",
       "1  0.076220  0.029884  0.115035  0.085078  0.024143  0.002166  \n",
       "2  0.074763  0.029548  0.112719  0.083659  0.023950  0.002149  \n",
       "3  0.073306  0.028741  0.110403  0.082227  0.023757  0.002131  \n",
       "4  0.071848  0.028396  0.108087  0.080502  0.023564  0.002114  \n",
       "\n",
       "[5 rows x 64 columns]"
      ]
     },
     "execution_count": 6,
     "metadata": {},
     "output_type": "execute_result"
    }
   ],
   "source": [
    "x_test_solar_wind_60_pct = pd_qd_test_solar_wind_60_pct.loc[:, pd_qd_test_solar_wind_60_pct.columns != 'scenario']\n",
    "x_test_solar_wind_60_pct.head()"
   ]
  },
  {
   "cell_type": "code",
   "execution_count": 7,
   "metadata": {},
   "outputs": [
    {
     "data": {
      "text/html": [
       "<div>\n",
       "<style scoped>\n",
       "    .dataframe tbody tr th:only-of-type {\n",
       "        vertical-align: middle;\n",
       "    }\n",
       "\n",
       "    .dataframe tbody tr th {\n",
       "        vertical-align: top;\n",
       "    }\n",
       "\n",
       "    .dataframe thead th {\n",
       "        text-align: right;\n",
       "    }\n",
       "</style>\n",
       "<table border=\"1\" class=\"dataframe\">\n",
       "  <thead>\n",
       "    <tr style=\"text-align: right;\">\n",
       "      <th></th>\n",
       "      <th>pg_1</th>\n",
       "      <th>pg_18</th>\n",
       "      <th>v_18</th>\n",
       "      <th>pg_22</th>\n",
       "      <th>v_22</th>\n",
       "      <th>pg_25</th>\n",
       "      <th>v_25</th>\n",
       "      <th>pg_33</th>\n",
       "      <th>v_33</th>\n",
       "    </tr>\n",
       "  </thead>\n",
       "  <tbody>\n",
       "    <tr>\n",
       "      <th>0</th>\n",
       "      <td>6.232622e-07</td>\n",
       "      <td>0.329631</td>\n",
       "      <td>1.022225</td>\n",
       "      <td>0.393493</td>\n",
       "      <td>1.004392</td>\n",
       "      <td>0.499981</td>\n",
       "      <td>1.001425</td>\n",
       "      <td>0.499975</td>\n",
       "      <td>1.017036</td>\n",
       "    </tr>\n",
       "    <tr>\n",
       "      <th>1</th>\n",
       "      <td>2.165867e-07</td>\n",
       "      <td>0.316787</td>\n",
       "      <td>1.022082</td>\n",
       "      <td>0.373607</td>\n",
       "      <td>1.004096</td>\n",
       "      <td>0.499993</td>\n",
       "      <td>1.001554</td>\n",
       "      <td>0.499989</td>\n",
       "      <td>1.017494</td>\n",
       "    </tr>\n",
       "    <tr>\n",
       "      <th>2</th>\n",
       "      <td>3.407686e-07</td>\n",
       "      <td>0.300836</td>\n",
       "      <td>1.021851</td>\n",
       "      <td>0.349050</td>\n",
       "      <td>1.003720</td>\n",
       "      <td>0.499969</td>\n",
       "      <td>1.001716</td>\n",
       "      <td>0.500000</td>\n",
       "      <td>1.017958</td>\n",
       "    </tr>\n",
       "    <tr>\n",
       "      <th>3</th>\n",
       "      <td>2.504343e-07</td>\n",
       "      <td>0.288762</td>\n",
       "      <td>1.021744</td>\n",
       "      <td>0.330468</td>\n",
       "      <td>1.003447</td>\n",
       "      <td>0.499961</td>\n",
       "      <td>1.001853</td>\n",
       "      <td>0.499150</td>\n",
       "      <td>1.018387</td>\n",
       "    </tr>\n",
       "    <tr>\n",
       "      <th>4</th>\n",
       "      <td>2.514764e-07</td>\n",
       "      <td>0.278717</td>\n",
       "      <td>1.021688</td>\n",
       "      <td>0.315448</td>\n",
       "      <td>1.003239</td>\n",
       "      <td>0.499915</td>\n",
       "      <td>1.001980</td>\n",
       "      <td>0.492763</td>\n",
       "      <td>1.018613</td>\n",
       "    </tr>\n",
       "  </tbody>\n",
       "</table>\n",
       "</div>"
      ],
      "text/plain": [
       "           pg_1     pg_18      v_18     pg_22      v_22     pg_25      v_25  \\\n",
       "0  6.232622e-07  0.329631  1.022225  0.393493  1.004392  0.499981  1.001425   \n",
       "1  2.165867e-07  0.316787  1.022082  0.373607  1.004096  0.499993  1.001554   \n",
       "2  3.407686e-07  0.300836  1.021851  0.349050  1.003720  0.499969  1.001716   \n",
       "3  2.504343e-07  0.288762  1.021744  0.330468  1.003447  0.499961  1.001853   \n",
       "4  2.514764e-07  0.278717  1.021688  0.315448  1.003239  0.499915  1.001980   \n",
       "\n",
       "      pg_33      v_33  \n",
       "0  0.499975  1.017036  \n",
       "1  0.499989  1.017494  \n",
       "2  0.500000  1.017958  \n",
       "3  0.499150  1.018387  \n",
       "4  0.492763  1.018613  "
      ]
     },
     "execution_count": 7,
     "metadata": {},
     "output_type": "execute_result"
    }
   ],
   "source": [
    "y_test_solar_wind_60_pct = pg_v_test_solar_wind_60_pct.loc[:, pg_v_test_solar_wind_60_pct.columns != 'scenario']\n",
    "y_test_solar_wind_60_pct.head()"
   ]
  },
  {
   "cell_type": "markdown",
   "metadata": {},
   "source": [
    "### Test the trained models on the test set (solar and wind inclusion)"
   ]
  },
  {
   "cell_type": "code",
   "execution_count": 8,
   "metadata": {},
   "outputs": [],
   "source": [
    "model_1 = load_model('model_1.h5')\n",
    "model_2 = load_model('model_2.h5')\n",
    "model_3 = load_model('model_3.h5')"
   ]
  },
  {
   "cell_type": "markdown",
   "metadata": {},
   "source": [
    "##### Using model 1 that was trained using training group 1"
   ]
  },
  {
   "cell_type": "code",
   "execution_count": 9,
   "metadata": {},
   "outputs": [
    {
     "data": {
      "text/html": [
       "<div>\n",
       "<style scoped>\n",
       "    .dataframe tbody tr th:only-of-type {\n",
       "        vertical-align: middle;\n",
       "    }\n",
       "\n",
       "    .dataframe tbody tr th {\n",
       "        vertical-align: top;\n",
       "    }\n",
       "\n",
       "    .dataframe thead th {\n",
       "        text-align: right;\n",
       "    }\n",
       "</style>\n",
       "<table border=\"1\" class=\"dataframe\">\n",
       "  <thead>\n",
       "    <tr style=\"text-align: right;\">\n",
       "      <th></th>\n",
       "      <th>pg_1</th>\n",
       "      <th>pg_18</th>\n",
       "      <th>v_18</th>\n",
       "      <th>pg_22</th>\n",
       "      <th>v_22</th>\n",
       "      <th>pg_25</th>\n",
       "      <th>v_25</th>\n",
       "      <th>pg_33</th>\n",
       "      <th>v_33</th>\n",
       "    </tr>\n",
       "  </thead>\n",
       "  <tbody>\n",
       "    <tr>\n",
       "      <th>0</th>\n",
       "      <td>0.000371</td>\n",
       "      <td>0.316365</td>\n",
       "      <td>1.022766</td>\n",
       "      <td>0.399626</td>\n",
       "      <td>1.004510</td>\n",
       "      <td>0.500019</td>\n",
       "      <td>1.001064</td>\n",
       "      <td>0.500025</td>\n",
       "      <td>1.018438</td>\n",
       "    </tr>\n",
       "    <tr>\n",
       "      <th>1</th>\n",
       "      <td>0.000399</td>\n",
       "      <td>0.303490</td>\n",
       "      <td>1.022572</td>\n",
       "      <td>0.380034</td>\n",
       "      <td>1.004246</td>\n",
       "      <td>0.500030</td>\n",
       "      <td>1.001260</td>\n",
       "      <td>0.499741</td>\n",
       "      <td>1.018951</td>\n",
       "    </tr>\n",
       "    <tr>\n",
       "      <th>2</th>\n",
       "      <td>0.000480</td>\n",
       "      <td>0.289666</td>\n",
       "      <td>1.022322</td>\n",
       "      <td>0.360790</td>\n",
       "      <td>1.004082</td>\n",
       "      <td>0.500030</td>\n",
       "      <td>1.001543</td>\n",
       "      <td>0.495276</td>\n",
       "      <td>1.019464</td>\n",
       "    </tr>\n",
       "    <tr>\n",
       "      <th>3</th>\n",
       "      <td>0.001086</td>\n",
       "      <td>0.280567</td>\n",
       "      <td>1.022289</td>\n",
       "      <td>0.347496</td>\n",
       "      <td>1.003905</td>\n",
       "      <td>0.500017</td>\n",
       "      <td>1.001649</td>\n",
       "      <td>0.486187</td>\n",
       "      <td>1.019604</td>\n",
       "    </tr>\n",
       "    <tr>\n",
       "      <th>4</th>\n",
       "      <td>0.001432</td>\n",
       "      <td>0.272259</td>\n",
       "      <td>1.022246</td>\n",
       "      <td>0.335574</td>\n",
       "      <td>1.003768</td>\n",
       "      <td>0.500014</td>\n",
       "      <td>1.001775</td>\n",
       "      <td>0.474743</td>\n",
       "      <td>1.019664</td>\n",
       "    </tr>\n",
       "  </tbody>\n",
       "</table>\n",
       "</div>"
      ],
      "text/plain": [
       "       pg_1     pg_18      v_18     pg_22      v_22     pg_25      v_25  \\\n",
       "0  0.000371  0.316365  1.022766  0.399626  1.004510  0.500019  1.001064   \n",
       "1  0.000399  0.303490  1.022572  0.380034  1.004246  0.500030  1.001260   \n",
       "2  0.000480  0.289666  1.022322  0.360790  1.004082  0.500030  1.001543   \n",
       "3  0.001086  0.280567  1.022289  0.347496  1.003905  0.500017  1.001649   \n",
       "4  0.001432  0.272259  1.022246  0.335574  1.003768  0.500014  1.001775   \n",
       "\n",
       "      pg_33      v_33  \n",
       "0  0.500025  1.018438  \n",
       "1  0.499741  1.018951  \n",
       "2  0.495276  1.019464  \n",
       "3  0.486187  1.019604  \n",
       "4  0.474743  1.019664  "
      ]
     },
     "execution_count": 9,
     "metadata": {},
     "output_type": "execute_result"
    }
   ],
   "source": [
    "y_test_solar_wind_60_pct_pred_1 = model_1.predict(x_test_solar_wind_60_pct)\n",
    "y_test_solar_wind_60_pct_pred_1 = pd.DataFrame(data = y_test_solar_wind_60_pct_pred_1,\n",
    "                                 columns = ['pg_1', 'pg_18', 'v_18', 'pg_22', 'v_22', 'pg_25', 'v_25', 'pg_33', 'v_33'])\n",
    "y_test_solar_wind_60_pct_pred_1.head()"
   ]
  },
  {
   "cell_type": "code",
   "execution_count": 10,
   "metadata": {},
   "outputs": [
    {
     "data": {
      "text/html": [
       "<div>\n",
       "<style scoped>\n",
       "    .dataframe tbody tr th:only-of-type {\n",
       "        vertical-align: middle;\n",
       "    }\n",
       "\n",
       "    .dataframe tbody tr th {\n",
       "        vertical-align: top;\n",
       "    }\n",
       "\n",
       "    .dataframe thead th {\n",
       "        text-align: right;\n",
       "    }\n",
       "</style>\n",
       "<table border=\"1\" class=\"dataframe\">\n",
       "  <thead>\n",
       "    <tr style=\"text-align: right;\">\n",
       "      <th></th>\n",
       "      <th>scenario</th>\n",
       "      <th>pg_1</th>\n",
       "      <th>pg_18</th>\n",
       "      <th>v_18</th>\n",
       "      <th>pg_22</th>\n",
       "      <th>v_22</th>\n",
       "      <th>pg_25</th>\n",
       "      <th>v_25</th>\n",
       "      <th>pg_33</th>\n",
       "      <th>v_33</th>\n",
       "    </tr>\n",
       "  </thead>\n",
       "  <tbody>\n",
       "    <tr>\n",
       "      <th>0</th>\n",
       "      <td>1</td>\n",
       "      <td>0.000371</td>\n",
       "      <td>0.316365</td>\n",
       "      <td>1.022766</td>\n",
       "      <td>0.399626</td>\n",
       "      <td>1.004510</td>\n",
       "      <td>0.500019</td>\n",
       "      <td>1.001064</td>\n",
       "      <td>0.500025</td>\n",
       "      <td>1.018438</td>\n",
       "    </tr>\n",
       "    <tr>\n",
       "      <th>1</th>\n",
       "      <td>2</td>\n",
       "      <td>0.000399</td>\n",
       "      <td>0.303490</td>\n",
       "      <td>1.022572</td>\n",
       "      <td>0.380034</td>\n",
       "      <td>1.004246</td>\n",
       "      <td>0.500030</td>\n",
       "      <td>1.001260</td>\n",
       "      <td>0.499741</td>\n",
       "      <td>1.018951</td>\n",
       "    </tr>\n",
       "    <tr>\n",
       "      <th>2</th>\n",
       "      <td>3</td>\n",
       "      <td>0.000480</td>\n",
       "      <td>0.289666</td>\n",
       "      <td>1.022322</td>\n",
       "      <td>0.360790</td>\n",
       "      <td>1.004082</td>\n",
       "      <td>0.500030</td>\n",
       "      <td>1.001543</td>\n",
       "      <td>0.495276</td>\n",
       "      <td>1.019464</td>\n",
       "    </tr>\n",
       "    <tr>\n",
       "      <th>3</th>\n",
       "      <td>4</td>\n",
       "      <td>0.001086</td>\n",
       "      <td>0.280567</td>\n",
       "      <td>1.022289</td>\n",
       "      <td>0.347496</td>\n",
       "      <td>1.003905</td>\n",
       "      <td>0.500017</td>\n",
       "      <td>1.001649</td>\n",
       "      <td>0.486187</td>\n",
       "      <td>1.019604</td>\n",
       "    </tr>\n",
       "    <tr>\n",
       "      <th>4</th>\n",
       "      <td>5</td>\n",
       "      <td>0.001432</td>\n",
       "      <td>0.272259</td>\n",
       "      <td>1.022246</td>\n",
       "      <td>0.335574</td>\n",
       "      <td>1.003768</td>\n",
       "      <td>0.500014</td>\n",
       "      <td>1.001775</td>\n",
       "      <td>0.474743</td>\n",
       "      <td>1.019664</td>\n",
       "    </tr>\n",
       "  </tbody>\n",
       "</table>\n",
       "</div>"
      ],
      "text/plain": [
       "   scenario      pg_1     pg_18      v_18     pg_22      v_22     pg_25  \\\n",
       "0         1  0.000371  0.316365  1.022766  0.399626  1.004510  0.500019   \n",
       "1         2  0.000399  0.303490  1.022572  0.380034  1.004246  0.500030   \n",
       "2         3  0.000480  0.289666  1.022322  0.360790  1.004082  0.500030   \n",
       "3         4  0.001086  0.280567  1.022289  0.347496  1.003905  0.500017   \n",
       "4         5  0.001432  0.272259  1.022246  0.335574  1.003768  0.500014   \n",
       "\n",
       "       v_25     pg_33      v_33  \n",
       "0  1.001064  0.500025  1.018438  \n",
       "1  1.001260  0.499741  1.018951  \n",
       "2  1.001543  0.495276  1.019464  \n",
       "3  1.001649  0.486187  1.019604  \n",
       "4  1.001775  0.474743  1.019664  "
      ]
     },
     "execution_count": 10,
     "metadata": {},
     "output_type": "execute_result"
    }
   ],
   "source": [
    "pg_v_test_solar_wind_60_pct_pred_1 = pd.concat([pg_v_test_solar_wind_60_pct.scenario, y_test_solar_wind_60_pct_pred_1], axis = 1)\n",
    "pg_v_test_solar_wind_60_pct_pred_1.head()"
   ]
  },
  {
   "cell_type": "code",
   "execution_count": 11,
   "metadata": {},
   "outputs": [],
   "source": [
    "pg_v_test_solar_wind_60_pct_pred_1.to_csv('pg_v_test_solar_wind_60_pct_pred_1.csv', index = False, float_format = '%0.20f')"
   ]
  },
  {
   "cell_type": "markdown",
   "metadata": {},
   "source": [
    "##### Using model 2 that was trained using training group 2"
   ]
  },
  {
   "cell_type": "code",
   "execution_count": 12,
   "metadata": {},
   "outputs": [
    {
     "data": {
      "text/html": [
       "<div>\n",
       "<style scoped>\n",
       "    .dataframe tbody tr th:only-of-type {\n",
       "        vertical-align: middle;\n",
       "    }\n",
       "\n",
       "    .dataframe tbody tr th {\n",
       "        vertical-align: top;\n",
       "    }\n",
       "\n",
       "    .dataframe thead th {\n",
       "        text-align: right;\n",
       "    }\n",
       "</style>\n",
       "<table border=\"1\" class=\"dataframe\">\n",
       "  <thead>\n",
       "    <tr style=\"text-align: right;\">\n",
       "      <th></th>\n",
       "      <th>pg_1</th>\n",
       "      <th>pg_18</th>\n",
       "      <th>v_18</th>\n",
       "      <th>pg_22</th>\n",
       "      <th>v_22</th>\n",
       "      <th>pg_25</th>\n",
       "      <th>v_25</th>\n",
       "      <th>pg_33</th>\n",
       "      <th>v_33</th>\n",
       "    </tr>\n",
       "  </thead>\n",
       "  <tbody>\n",
       "    <tr>\n",
       "      <th>0</th>\n",
       "      <td>0.000003</td>\n",
       "      <td>0.330055</td>\n",
       "      <td>1.022001</td>\n",
       "      <td>0.393872</td>\n",
       "      <td>1.004441</td>\n",
       "      <td>0.499830</td>\n",
       "      <td>1.001381</td>\n",
       "      <td>0.499768</td>\n",
       "      <td>1.016858</td>\n",
       "    </tr>\n",
       "    <tr>\n",
       "      <th>1</th>\n",
       "      <td>0.000009</td>\n",
       "      <td>0.317206</td>\n",
       "      <td>1.021846</td>\n",
       "      <td>0.374055</td>\n",
       "      <td>1.004155</td>\n",
       "      <td>0.499824</td>\n",
       "      <td>1.001504</td>\n",
       "      <td>0.499768</td>\n",
       "      <td>1.017303</td>\n",
       "    </tr>\n",
       "    <tr>\n",
       "      <th>2</th>\n",
       "      <td>0.000019</td>\n",
       "      <td>0.301442</td>\n",
       "      <td>1.021602</td>\n",
       "      <td>0.349890</td>\n",
       "      <td>1.003802</td>\n",
       "      <td>0.499736</td>\n",
       "      <td>1.001651</td>\n",
       "      <td>0.499273</td>\n",
       "      <td>1.017726</td>\n",
       "    </tr>\n",
       "    <tr>\n",
       "      <th>3</th>\n",
       "      <td>0.000032</td>\n",
       "      <td>0.289911</td>\n",
       "      <td>1.021494</td>\n",
       "      <td>0.332268</td>\n",
       "      <td>1.003556</td>\n",
       "      <td>0.499686</td>\n",
       "      <td>1.001771</td>\n",
       "      <td>0.496415</td>\n",
       "      <td>1.018098</td>\n",
       "    </tr>\n",
       "    <tr>\n",
       "      <th>4</th>\n",
       "      <td>0.000045</td>\n",
       "      <td>0.279654</td>\n",
       "      <td>1.021427</td>\n",
       "      <td>0.316801</td>\n",
       "      <td>1.003347</td>\n",
       "      <td>0.499714</td>\n",
       "      <td>1.001911</td>\n",
       "      <td>0.491134</td>\n",
       "      <td>1.018301</td>\n",
       "    </tr>\n",
       "  </tbody>\n",
       "</table>\n",
       "</div>"
      ],
      "text/plain": [
       "       pg_1     pg_18      v_18     pg_22      v_22     pg_25      v_25  \\\n",
       "0  0.000003  0.330055  1.022001  0.393872  1.004441  0.499830  1.001381   \n",
       "1  0.000009  0.317206  1.021846  0.374055  1.004155  0.499824  1.001504   \n",
       "2  0.000019  0.301442  1.021602  0.349890  1.003802  0.499736  1.001651   \n",
       "3  0.000032  0.289911  1.021494  0.332268  1.003556  0.499686  1.001771   \n",
       "4  0.000045  0.279654  1.021427  0.316801  1.003347  0.499714  1.001911   \n",
       "\n",
       "      pg_33      v_33  \n",
       "0  0.499768  1.016858  \n",
       "1  0.499768  1.017303  \n",
       "2  0.499273  1.017726  \n",
       "3  0.496415  1.018098  \n",
       "4  0.491134  1.018301  "
      ]
     },
     "execution_count": 12,
     "metadata": {},
     "output_type": "execute_result"
    }
   ],
   "source": [
    "y_test_solar_wind_60_pct_pred_2 = model_2.predict(x_test_solar_wind_60_pct)\n",
    "y_test_solar_wind_60_pct_pred_2 = pd.DataFrame(data = y_test_solar_wind_60_pct_pred_2,\n",
    "                             columns = ['pg_1', 'pg_18', 'v_18', 'pg_22', 'v_22', 'pg_25', 'v_25', 'pg_33', 'v_33'])\n",
    "y_test_solar_wind_60_pct_pred_2.head()"
   ]
  },
  {
   "cell_type": "code",
   "execution_count": 13,
   "metadata": {},
   "outputs": [
    {
     "data": {
      "text/html": [
       "<div>\n",
       "<style scoped>\n",
       "    .dataframe tbody tr th:only-of-type {\n",
       "        vertical-align: middle;\n",
       "    }\n",
       "\n",
       "    .dataframe tbody tr th {\n",
       "        vertical-align: top;\n",
       "    }\n",
       "\n",
       "    .dataframe thead th {\n",
       "        text-align: right;\n",
       "    }\n",
       "</style>\n",
       "<table border=\"1\" class=\"dataframe\">\n",
       "  <thead>\n",
       "    <tr style=\"text-align: right;\">\n",
       "      <th></th>\n",
       "      <th>scenario</th>\n",
       "      <th>pg_1</th>\n",
       "      <th>pg_18</th>\n",
       "      <th>v_18</th>\n",
       "      <th>pg_22</th>\n",
       "      <th>v_22</th>\n",
       "      <th>pg_25</th>\n",
       "      <th>v_25</th>\n",
       "      <th>pg_33</th>\n",
       "      <th>v_33</th>\n",
       "    </tr>\n",
       "  </thead>\n",
       "  <tbody>\n",
       "    <tr>\n",
       "      <th>0</th>\n",
       "      <td>1</td>\n",
       "      <td>0.000003</td>\n",
       "      <td>0.330055</td>\n",
       "      <td>1.022001</td>\n",
       "      <td>0.393872</td>\n",
       "      <td>1.004441</td>\n",
       "      <td>0.499830</td>\n",
       "      <td>1.001381</td>\n",
       "      <td>0.499768</td>\n",
       "      <td>1.016858</td>\n",
       "    </tr>\n",
       "    <tr>\n",
       "      <th>1</th>\n",
       "      <td>2</td>\n",
       "      <td>0.000009</td>\n",
       "      <td>0.317206</td>\n",
       "      <td>1.021846</td>\n",
       "      <td>0.374055</td>\n",
       "      <td>1.004155</td>\n",
       "      <td>0.499824</td>\n",
       "      <td>1.001504</td>\n",
       "      <td>0.499768</td>\n",
       "      <td>1.017303</td>\n",
       "    </tr>\n",
       "    <tr>\n",
       "      <th>2</th>\n",
       "      <td>3</td>\n",
       "      <td>0.000019</td>\n",
       "      <td>0.301442</td>\n",
       "      <td>1.021602</td>\n",
       "      <td>0.349890</td>\n",
       "      <td>1.003802</td>\n",
       "      <td>0.499736</td>\n",
       "      <td>1.001651</td>\n",
       "      <td>0.499273</td>\n",
       "      <td>1.017726</td>\n",
       "    </tr>\n",
       "    <tr>\n",
       "      <th>3</th>\n",
       "      <td>4</td>\n",
       "      <td>0.000032</td>\n",
       "      <td>0.289911</td>\n",
       "      <td>1.021494</td>\n",
       "      <td>0.332268</td>\n",
       "      <td>1.003556</td>\n",
       "      <td>0.499686</td>\n",
       "      <td>1.001771</td>\n",
       "      <td>0.496415</td>\n",
       "      <td>1.018098</td>\n",
       "    </tr>\n",
       "    <tr>\n",
       "      <th>4</th>\n",
       "      <td>5</td>\n",
       "      <td>0.000045</td>\n",
       "      <td>0.279654</td>\n",
       "      <td>1.021427</td>\n",
       "      <td>0.316801</td>\n",
       "      <td>1.003347</td>\n",
       "      <td>0.499714</td>\n",
       "      <td>1.001911</td>\n",
       "      <td>0.491134</td>\n",
       "      <td>1.018301</td>\n",
       "    </tr>\n",
       "  </tbody>\n",
       "</table>\n",
       "</div>"
      ],
      "text/plain": [
       "   scenario      pg_1     pg_18      v_18     pg_22      v_22     pg_25  \\\n",
       "0         1  0.000003  0.330055  1.022001  0.393872  1.004441  0.499830   \n",
       "1         2  0.000009  0.317206  1.021846  0.374055  1.004155  0.499824   \n",
       "2         3  0.000019  0.301442  1.021602  0.349890  1.003802  0.499736   \n",
       "3         4  0.000032  0.289911  1.021494  0.332268  1.003556  0.499686   \n",
       "4         5  0.000045  0.279654  1.021427  0.316801  1.003347  0.499714   \n",
       "\n",
       "       v_25     pg_33      v_33  \n",
       "0  1.001381  0.499768  1.016858  \n",
       "1  1.001504  0.499768  1.017303  \n",
       "2  1.001651  0.499273  1.017726  \n",
       "3  1.001771  0.496415  1.018098  \n",
       "4  1.001911  0.491134  1.018301  "
      ]
     },
     "execution_count": 13,
     "metadata": {},
     "output_type": "execute_result"
    }
   ],
   "source": [
    "pg_v_test_solar_wind_60_pct_pred_2 = pd.concat([pg_v_test_solar_wind_60_pct.scenario, y_test_solar_wind_60_pct_pred_2], axis = 1)\n",
    "pg_v_test_solar_wind_60_pct_pred_2.head()"
   ]
  },
  {
   "cell_type": "code",
   "execution_count": 14,
   "metadata": {},
   "outputs": [],
   "source": [
    "pg_v_test_solar_wind_60_pct_pred_2.to_csv('pg_v_test_solar_wind_60_pct_pred_2.csv', index = False, float_format = '%0.20f')"
   ]
  },
  {
   "cell_type": "markdown",
   "metadata": {},
   "source": [
    "##### Using model 3 that was trained using training group 3"
   ]
  },
  {
   "cell_type": "code",
   "execution_count": 15,
   "metadata": {},
   "outputs": [
    {
     "data": {
      "text/html": [
       "<div>\n",
       "<style scoped>\n",
       "    .dataframe tbody tr th:only-of-type {\n",
       "        vertical-align: middle;\n",
       "    }\n",
       "\n",
       "    .dataframe tbody tr th {\n",
       "        vertical-align: top;\n",
       "    }\n",
       "\n",
       "    .dataframe thead th {\n",
       "        text-align: right;\n",
       "    }\n",
       "</style>\n",
       "<table border=\"1\" class=\"dataframe\">\n",
       "  <thead>\n",
       "    <tr style=\"text-align: right;\">\n",
       "      <th></th>\n",
       "      <th>pg_1</th>\n",
       "      <th>pg_18</th>\n",
       "      <th>v_18</th>\n",
       "      <th>pg_22</th>\n",
       "      <th>v_22</th>\n",
       "      <th>pg_25</th>\n",
       "      <th>v_25</th>\n",
       "      <th>pg_33</th>\n",
       "      <th>v_33</th>\n",
       "    </tr>\n",
       "  </thead>\n",
       "  <tbody>\n",
       "    <tr>\n",
       "      <th>0</th>\n",
       "      <td>0.000451</td>\n",
       "      <td>0.329170</td>\n",
       "      <td>1.022288</td>\n",
       "      <td>0.393352</td>\n",
       "      <td>1.004416</td>\n",
       "      <td>0.500105</td>\n",
       "      <td>1.001438</td>\n",
       "      <td>0.500299</td>\n",
       "      <td>1.017043</td>\n",
       "    </tr>\n",
       "    <tr>\n",
       "      <th>1</th>\n",
       "      <td>0.000468</td>\n",
       "      <td>0.316275</td>\n",
       "      <td>1.022152</td>\n",
       "      <td>0.373509</td>\n",
       "      <td>1.004117</td>\n",
       "      <td>0.500113</td>\n",
       "      <td>1.001570</td>\n",
       "      <td>0.500286</td>\n",
       "      <td>1.017504</td>\n",
       "    </tr>\n",
       "    <tr>\n",
       "      <th>2</th>\n",
       "      <td>0.000486</td>\n",
       "      <td>0.300228</td>\n",
       "      <td>1.022026</td>\n",
       "      <td>0.349038</td>\n",
       "      <td>1.003736</td>\n",
       "      <td>0.500121</td>\n",
       "      <td>1.001673</td>\n",
       "      <td>0.500282</td>\n",
       "      <td>1.018070</td>\n",
       "    </tr>\n",
       "    <tr>\n",
       "      <th>3</th>\n",
       "      <td>0.000495</td>\n",
       "      <td>0.288252</td>\n",
       "      <td>1.021827</td>\n",
       "      <td>0.330746</td>\n",
       "      <td>1.003476</td>\n",
       "      <td>0.500129</td>\n",
       "      <td>1.001866</td>\n",
       "      <td>0.499036</td>\n",
       "      <td>1.018382</td>\n",
       "    </tr>\n",
       "    <tr>\n",
       "      <th>4</th>\n",
       "      <td>0.000491</td>\n",
       "      <td>0.277845</td>\n",
       "      <td>1.021774</td>\n",
       "      <td>0.315255</td>\n",
       "      <td>1.003261</td>\n",
       "      <td>0.500158</td>\n",
       "      <td>1.001993</td>\n",
       "      <td>0.493244</td>\n",
       "      <td>1.018675</td>\n",
       "    </tr>\n",
       "  </tbody>\n",
       "</table>\n",
       "</div>"
      ],
      "text/plain": [
       "       pg_1     pg_18      v_18     pg_22      v_22     pg_25      v_25  \\\n",
       "0  0.000451  0.329170  1.022288  0.393352  1.004416  0.500105  1.001438   \n",
       "1  0.000468  0.316275  1.022152  0.373509  1.004117  0.500113  1.001570   \n",
       "2  0.000486  0.300228  1.022026  0.349038  1.003736  0.500121  1.001673   \n",
       "3  0.000495  0.288252  1.021827  0.330746  1.003476  0.500129  1.001866   \n",
       "4  0.000491  0.277845  1.021774  0.315255  1.003261  0.500158  1.001993   \n",
       "\n",
       "      pg_33      v_33  \n",
       "0  0.500299  1.017043  \n",
       "1  0.500286  1.017504  \n",
       "2  0.500282  1.018070  \n",
       "3  0.499036  1.018382  \n",
       "4  0.493244  1.018675  "
      ]
     },
     "execution_count": 15,
     "metadata": {},
     "output_type": "execute_result"
    }
   ],
   "source": [
    "y_test_solar_wind_60_pct_pred_3 = model_3.predict(x_test_solar_wind_60_pct)\n",
    "y_test_solar_wind_60_pct_pred_3 = pd.DataFrame(data = y_test_solar_wind_60_pct_pred_3,\n",
    "                             columns = ['pg_1', 'pg_18', 'v_18', 'pg_22', 'v_22', 'pg_25', 'v_25', 'pg_33', 'v_33'])\n",
    "y_test_solar_wind_60_pct_pred_3.head()"
   ]
  },
  {
   "cell_type": "code",
   "execution_count": 16,
   "metadata": {},
   "outputs": [
    {
     "data": {
      "text/html": [
       "<div>\n",
       "<style scoped>\n",
       "    .dataframe tbody tr th:only-of-type {\n",
       "        vertical-align: middle;\n",
       "    }\n",
       "\n",
       "    .dataframe tbody tr th {\n",
       "        vertical-align: top;\n",
       "    }\n",
       "\n",
       "    .dataframe thead th {\n",
       "        text-align: right;\n",
       "    }\n",
       "</style>\n",
       "<table border=\"1\" class=\"dataframe\">\n",
       "  <thead>\n",
       "    <tr style=\"text-align: right;\">\n",
       "      <th></th>\n",
       "      <th>scenario</th>\n",
       "      <th>pg_1</th>\n",
       "      <th>pg_18</th>\n",
       "      <th>v_18</th>\n",
       "      <th>pg_22</th>\n",
       "      <th>v_22</th>\n",
       "      <th>pg_25</th>\n",
       "      <th>v_25</th>\n",
       "      <th>pg_33</th>\n",
       "      <th>v_33</th>\n",
       "    </tr>\n",
       "  </thead>\n",
       "  <tbody>\n",
       "    <tr>\n",
       "      <th>0</th>\n",
       "      <td>1</td>\n",
       "      <td>0.000451</td>\n",
       "      <td>0.329170</td>\n",
       "      <td>1.022288</td>\n",
       "      <td>0.393352</td>\n",
       "      <td>1.004416</td>\n",
       "      <td>0.500105</td>\n",
       "      <td>1.001438</td>\n",
       "      <td>0.500299</td>\n",
       "      <td>1.017043</td>\n",
       "    </tr>\n",
       "    <tr>\n",
       "      <th>1</th>\n",
       "      <td>2</td>\n",
       "      <td>0.000468</td>\n",
       "      <td>0.316275</td>\n",
       "      <td>1.022152</td>\n",
       "      <td>0.373509</td>\n",
       "      <td>1.004117</td>\n",
       "      <td>0.500113</td>\n",
       "      <td>1.001570</td>\n",
       "      <td>0.500286</td>\n",
       "      <td>1.017504</td>\n",
       "    </tr>\n",
       "    <tr>\n",
       "      <th>2</th>\n",
       "      <td>3</td>\n",
       "      <td>0.000486</td>\n",
       "      <td>0.300228</td>\n",
       "      <td>1.022026</td>\n",
       "      <td>0.349038</td>\n",
       "      <td>1.003736</td>\n",
       "      <td>0.500121</td>\n",
       "      <td>1.001673</td>\n",
       "      <td>0.500282</td>\n",
       "      <td>1.018070</td>\n",
       "    </tr>\n",
       "    <tr>\n",
       "      <th>3</th>\n",
       "      <td>4</td>\n",
       "      <td>0.000495</td>\n",
       "      <td>0.288252</td>\n",
       "      <td>1.021827</td>\n",
       "      <td>0.330746</td>\n",
       "      <td>1.003476</td>\n",
       "      <td>0.500129</td>\n",
       "      <td>1.001866</td>\n",
       "      <td>0.499036</td>\n",
       "      <td>1.018382</td>\n",
       "    </tr>\n",
       "    <tr>\n",
       "      <th>4</th>\n",
       "      <td>5</td>\n",
       "      <td>0.000491</td>\n",
       "      <td>0.277845</td>\n",
       "      <td>1.021774</td>\n",
       "      <td>0.315255</td>\n",
       "      <td>1.003261</td>\n",
       "      <td>0.500158</td>\n",
       "      <td>1.001993</td>\n",
       "      <td>0.493244</td>\n",
       "      <td>1.018675</td>\n",
       "    </tr>\n",
       "  </tbody>\n",
       "</table>\n",
       "</div>"
      ],
      "text/plain": [
       "   scenario      pg_1     pg_18      v_18     pg_22      v_22     pg_25  \\\n",
       "0         1  0.000451  0.329170  1.022288  0.393352  1.004416  0.500105   \n",
       "1         2  0.000468  0.316275  1.022152  0.373509  1.004117  0.500113   \n",
       "2         3  0.000486  0.300228  1.022026  0.349038  1.003736  0.500121   \n",
       "3         4  0.000495  0.288252  1.021827  0.330746  1.003476  0.500129   \n",
       "4         5  0.000491  0.277845  1.021774  0.315255  1.003261  0.500158   \n",
       "\n",
       "       v_25     pg_33      v_33  \n",
       "0  1.001438  0.500299  1.017043  \n",
       "1  1.001570  0.500286  1.017504  \n",
       "2  1.001673  0.500282  1.018070  \n",
       "3  1.001866  0.499036  1.018382  \n",
       "4  1.001993  0.493244  1.018675  "
      ]
     },
     "execution_count": 16,
     "metadata": {},
     "output_type": "execute_result"
    }
   ],
   "source": [
    "pg_v_test_solar_wind_60_pct_pred_3 = pd.concat([pg_v_test_solar_wind_60_pct.scenario, y_test_solar_wind_60_pct_pred_3], axis = 1)\n",
    "pg_v_test_solar_wind_60_pct_pred_3.head()"
   ]
  },
  {
   "cell_type": "code",
   "execution_count": 17,
   "metadata": {},
   "outputs": [],
   "source": [
    "pg_v_test_solar_wind_60_pct_pred_3.to_csv('pg_v_test_solar_wind_60_pct_pred_3.csv', index = False, float_format = '%0.20f')"
   ]
  },
  {
   "cell_type": "markdown",
   "metadata": {},
   "source": [
    "##### RMSE of $P_{G_{1}}$ estimates"
   ]
  },
  {
   "cell_type": "code",
   "execution_count": 18,
   "metadata": {},
   "outputs": [
    {
     "data": {
      "text/plain": [
       "0.005256979217072506"
      ]
     },
     "execution_count": 18,
     "metadata": {},
     "output_type": "execute_result"
    }
   ],
   "source": [
    "mean_squared_error(pg_v_test_solar_wind_60_pct.pg_1, pg_v_test_solar_wind_60_pct_pred_1.pg_1, squared = False)"
   ]
  },
  {
   "cell_type": "code",
   "execution_count": 19,
   "metadata": {},
   "outputs": [
    {
     "data": {
      "text/plain": [
       "0.002318831052094068"
      ]
     },
     "execution_count": 19,
     "metadata": {},
     "output_type": "execute_result"
    }
   ],
   "source": [
    "mean_squared_error(pg_v_test_solar_wind_60_pct.pg_1, pg_v_test_solar_wind_60_pct_pred_2.pg_1, squared = False)"
   ]
  },
  {
   "cell_type": "code",
   "execution_count": 20,
   "metadata": {},
   "outputs": [
    {
     "data": {
      "text/plain": [
       "0.041778514038847955"
      ]
     },
     "execution_count": 20,
     "metadata": {},
     "output_type": "execute_result"
    }
   ],
   "source": [
    "mean_squared_error(pg_v_test_solar_wind_60_pct.pg_1, pg_v_test_solar_wind_60_pct_pred_3.pg_1, squared = False)"
   ]
  },
  {
   "cell_type": "markdown",
   "metadata": {},
   "source": [
    "##### RMSE of $P_{G_{18}}$ estimates"
   ]
  },
  {
   "cell_type": "code",
   "execution_count": 21,
   "metadata": {},
   "outputs": [
    {
     "data": {
      "text/plain": [
       "0.0026716182914625574"
      ]
     },
     "execution_count": 21,
     "metadata": {},
     "output_type": "execute_result"
    }
   ],
   "source": [
    "mean_squared_error(pg_v_test_solar_wind_60_pct.pg_18, pg_v_test_solar_wind_60_pct_pred_1.pg_18, squared = False)"
   ]
  },
  {
   "cell_type": "code",
   "execution_count": 22,
   "metadata": {},
   "outputs": [
    {
     "data": {
      "text/plain": [
       "0.002713743068995811"
      ]
     },
     "execution_count": 22,
     "metadata": {},
     "output_type": "execute_result"
    }
   ],
   "source": [
    "mean_squared_error(pg_v_test_solar_wind_60_pct.pg_18, pg_v_test_solar_wind_60_pct_pred_2.pg_18, squared = False)"
   ]
  },
  {
   "cell_type": "code",
   "execution_count": 23,
   "metadata": {},
   "outputs": [
    {
     "data": {
      "text/plain": [
       "0.0024546116574611344"
      ]
     },
     "execution_count": 23,
     "metadata": {},
     "output_type": "execute_result"
    }
   ],
   "source": [
    "mean_squared_error(pg_v_test_solar_wind_60_pct.pg_18, pg_v_test_solar_wind_60_pct_pred_3.pg_18, squared = False)"
   ]
  },
  {
   "cell_type": "markdown",
   "metadata": {},
   "source": [
    "##### RMSE of $P_{G_{22}}$ estimates"
   ]
  },
  {
   "cell_type": "code",
   "execution_count": 24,
   "metadata": {},
   "outputs": [
    {
     "data": {
      "text/plain": [
       "0.0033709659171397995"
      ]
     },
     "execution_count": 24,
     "metadata": {},
     "output_type": "execute_result"
    }
   ],
   "source": [
    "mean_squared_error(pg_v_test_solar_wind_60_pct.pg_22, pg_v_test_solar_wind_60_pct_pred_1.pg_22, squared = False)"
   ]
  },
  {
   "cell_type": "code",
   "execution_count": 25,
   "metadata": {},
   "outputs": [
    {
     "data": {
      "text/plain": [
       "0.00037043809531240083"
      ]
     },
     "execution_count": 25,
     "metadata": {},
     "output_type": "execute_result"
    }
   ],
   "source": [
    "mean_squared_error(pg_v_test_solar_wind_60_pct.pg_22, pg_v_test_solar_wind_60_pct_pred_2.pg_22, squared = False)"
   ]
  },
  {
   "cell_type": "code",
   "execution_count": 26,
   "metadata": {},
   "outputs": [
    {
     "data": {
      "text/plain": [
       "0.002492297195258536"
      ]
     },
     "execution_count": 26,
     "metadata": {},
     "output_type": "execute_result"
    }
   ],
   "source": [
    "mean_squared_error(pg_v_test_solar_wind_60_pct.pg_22, pg_v_test_solar_wind_60_pct_pred_3.pg_22, squared = False)"
   ]
  },
  {
   "cell_type": "markdown",
   "metadata": {},
   "source": [
    "##### RMSE of $P_{G_{25}}$ estimates"
   ]
  },
  {
   "cell_type": "code",
   "execution_count": 27,
   "metadata": {},
   "outputs": [
    {
     "data": {
      "text/plain": [
       "0.0003031404672137992"
      ]
     },
     "execution_count": 27,
     "metadata": {},
     "output_type": "execute_result"
    }
   ],
   "source": [
    "mean_squared_error(pg_v_test_solar_wind_60_pct.pg_25, pg_v_test_solar_wind_60_pct_pred_1.pg_25, squared = False)"
   ]
  },
  {
   "cell_type": "code",
   "execution_count": 28,
   "metadata": {},
   "outputs": [
    {
     "data": {
      "text/plain": [
       "0.00016082626207316426"
      ]
     },
     "execution_count": 28,
     "metadata": {},
     "output_type": "execute_result"
    }
   ],
   "source": [
    "mean_squared_error(pg_v_test_solar_wind_60_pct.pg_25, pg_v_test_solar_wind_60_pct_pred_2.pg_25, squared = False)"
   ]
  },
  {
   "cell_type": "code",
   "execution_count": 29,
   "metadata": {},
   "outputs": [
    {
     "data": {
      "text/plain": [
       "0.005228886417371056"
      ]
     },
     "execution_count": 29,
     "metadata": {},
     "output_type": "execute_result"
    }
   ],
   "source": [
    "mean_squared_error(pg_v_test_solar_wind_60_pct.pg_25, pg_v_test_solar_wind_60_pct_pred_3.pg_25, squared = False)"
   ]
  },
  {
   "cell_type": "markdown",
   "metadata": {},
   "source": [
    "##### RMSE of $P_{G_{33}}$ estimates"
   ]
  },
  {
   "cell_type": "code",
   "execution_count": 30,
   "metadata": {},
   "outputs": [
    {
     "data": {
      "text/plain": [
       "0.0029715509665354193"
      ]
     },
     "execution_count": 30,
     "metadata": {},
     "output_type": "execute_result"
    }
   ],
   "source": [
    "mean_squared_error(pg_v_test_solar_wind_60_pct.pg_33, pg_v_test_solar_wind_60_pct_pred_1.pg_33, squared = False)"
   ]
  },
  {
   "cell_type": "code",
   "execution_count": 31,
   "metadata": {},
   "outputs": [
    {
     "data": {
      "text/plain": [
       "0.00031444481152452915"
      ]
     },
     "execution_count": 31,
     "metadata": {},
     "output_type": "execute_result"
    }
   ],
   "source": [
    "mean_squared_error(pg_v_test_solar_wind_60_pct.pg_33, pg_v_test_solar_wind_60_pct_pred_2.pg_33, squared = False)"
   ]
  },
  {
   "cell_type": "code",
   "execution_count": 32,
   "metadata": {},
   "outputs": [
    {
     "data": {
      "text/plain": [
       "0.004596388585464828"
      ]
     },
     "execution_count": 32,
     "metadata": {},
     "output_type": "execute_result"
    }
   ],
   "source": [
    "mean_squared_error(pg_v_test_solar_wind_60_pct.pg_33, pg_v_test_solar_wind_60_pct_pred_3.pg_33, squared = False)"
   ]
  },
  {
   "cell_type": "markdown",
   "metadata": {},
   "source": [
    "##### RMSE of $V_{18}$ estimates"
   ]
  },
  {
   "cell_type": "code",
   "execution_count": 33,
   "metadata": {},
   "outputs": [
    {
     "data": {
      "text/plain": [
       "0.0011043988216860206"
      ]
     },
     "execution_count": 33,
     "metadata": {},
     "output_type": "execute_result"
    }
   ],
   "source": [
    "mean_squared_error(pg_v_test_solar_wind_60_pct.v_18, pg_v_test_solar_wind_60_pct_pred_1.v_18, squared = False)"
   ]
  },
  {
   "cell_type": "code",
   "execution_count": 34,
   "metadata": {},
   "outputs": [
    {
     "data": {
      "text/plain": [
       "0.00047880764074529177"
      ]
     },
     "execution_count": 34,
     "metadata": {},
     "output_type": "execute_result"
    }
   ],
   "source": [
    "mean_squared_error(pg_v_test_solar_wind_60_pct.v_18, pg_v_test_solar_wind_60_pct_pred_2.v_18, squared = False)"
   ]
  },
  {
   "cell_type": "code",
   "execution_count": 35,
   "metadata": {},
   "outputs": [
    {
     "data": {
      "text/plain": [
       "0.005201243589893114"
      ]
     },
     "execution_count": 35,
     "metadata": {},
     "output_type": "execute_result"
    }
   ],
   "source": [
    "mean_squared_error(pg_v_test_solar_wind_60_pct.v_18, pg_v_test_solar_wind_60_pct_pred_3.v_18, squared = False)"
   ]
  },
  {
   "cell_type": "markdown",
   "metadata": {},
   "source": [
    "##### RMSE of $V_{22}$ estimates"
   ]
  },
  {
   "cell_type": "code",
   "execution_count": 36,
   "metadata": {},
   "outputs": [
    {
     "data": {
      "text/plain": [
       "0.00040606476030045"
      ]
     },
     "execution_count": 36,
     "metadata": {},
     "output_type": "execute_result"
    }
   ],
   "source": [
    "mean_squared_error(pg_v_test_solar_wind_60_pct.v_22, pg_v_test_solar_wind_60_pct_pred_1.v_22, squared = False)"
   ]
  },
  {
   "cell_type": "code",
   "execution_count": 37,
   "metadata": {},
   "outputs": [
    {
     "data": {
      "text/plain": [
       "0.00015227812346616432"
      ]
     },
     "execution_count": 37,
     "metadata": {},
     "output_type": "execute_result"
    }
   ],
   "source": [
    "mean_squared_error(pg_v_test_solar_wind_60_pct.v_22, pg_v_test_solar_wind_60_pct_pred_2.v_22, squared = False)"
   ]
  },
  {
   "cell_type": "code",
   "execution_count": 38,
   "metadata": {},
   "outputs": [
    {
     "data": {
      "text/plain": [
       "0.00241912719208966"
      ]
     },
     "execution_count": 38,
     "metadata": {},
     "output_type": "execute_result"
    }
   ],
   "source": [
    "mean_squared_error(pg_v_test_solar_wind_60_pct.v_22, pg_v_test_solar_wind_60_pct_pred_3.v_22, squared = False)"
   ]
  },
  {
   "cell_type": "markdown",
   "metadata": {},
   "source": [
    "##### RMSE of $V_{25}$ estimates"
   ]
  },
  {
   "cell_type": "code",
   "execution_count": 39,
   "metadata": {},
   "outputs": [
    {
     "data": {
      "text/plain": [
       "0.0006685450809528835"
      ]
     },
     "execution_count": 39,
     "metadata": {},
     "output_type": "execute_result"
    }
   ],
   "source": [
    "mean_squared_error(pg_v_test_solar_wind_60_pct.v_25, pg_v_test_solar_wind_60_pct_pred_1.v_25, squared = False)"
   ]
  },
  {
   "cell_type": "code",
   "execution_count": 40,
   "metadata": {},
   "outputs": [
    {
     "data": {
      "text/plain": [
       "0.00043152323624688025"
      ]
     },
     "execution_count": 40,
     "metadata": {},
     "output_type": "execute_result"
    }
   ],
   "source": [
    "mean_squared_error(pg_v_test_solar_wind_60_pct.v_25, pg_v_test_solar_wind_60_pct_pred_2.v_25, squared = False)"
   ]
  },
  {
   "cell_type": "code",
   "execution_count": 41,
   "metadata": {},
   "outputs": [
    {
     "data": {
      "text/plain": [
       "0.005906049647646273"
      ]
     },
     "execution_count": 41,
     "metadata": {},
     "output_type": "execute_result"
    }
   ],
   "source": [
    "mean_squared_error(pg_v_test_solar_wind_60_pct.v_25, pg_v_test_solar_wind_60_pct_pred_3.v_25, squared = False)"
   ]
  },
  {
   "cell_type": "markdown",
   "metadata": {},
   "source": [
    "##### RMSE of $V_{33}$ estimates"
   ]
  },
  {
   "cell_type": "code",
   "execution_count": 42,
   "metadata": {},
   "outputs": [
    {
     "data": {
      "text/plain": [
       "0.0009623424401164216"
      ]
     },
     "execution_count": 42,
     "metadata": {},
     "output_type": "execute_result"
    }
   ],
   "source": [
    "mean_squared_error(pg_v_test_solar_wind_60_pct.v_33, pg_v_test_solar_wind_60_pct_pred_1.v_33, squared = False)"
   ]
  },
  {
   "cell_type": "code",
   "execution_count": 43,
   "metadata": {},
   "outputs": [
    {
     "data": {
      "text/plain": [
       "0.0001711496175174497"
      ]
     },
     "execution_count": 43,
     "metadata": {},
     "output_type": "execute_result"
    }
   ],
   "source": [
    "mean_squared_error(pg_v_test_solar_wind_60_pct.v_33, pg_v_test_solar_wind_60_pct_pred_2.v_33, squared = False)"
   ]
  },
  {
   "cell_type": "code",
   "execution_count": 44,
   "metadata": {},
   "outputs": [
    {
     "data": {
      "text/plain": [
       "0.001084692412536399"
      ]
     },
     "execution_count": 44,
     "metadata": {},
     "output_type": "execute_result"
    }
   ],
   "source": [
    "mean_squared_error(pg_v_test_solar_wind_60_pct.v_33, pg_v_test_solar_wind_60_pct_pred_3.v_33, squared = False)"
   ]
  },
  {
   "cell_type": "code",
   "execution_count": null,
   "metadata": {},
   "outputs": [],
   "source": []
  },
  {
   "cell_type": "code",
   "execution_count": null,
   "metadata": {},
   "outputs": [],
   "source": []
  },
  {
   "cell_type": "code",
   "execution_count": null,
   "metadata": {},
   "outputs": [],
   "source": []
  }
 ],
 "metadata": {
  "kernelspec": {
   "display_name": "Python 3",
   "language": "python",
   "name": "python3"
  },
  "language_info": {
   "codemirror_mode": {
    "name": "ipython",
    "version": 3
   },
   "file_extension": ".py",
   "mimetype": "text/x-python",
   "name": "python",
   "nbconvert_exporter": "python",
   "pygments_lexer": "ipython3",
   "version": "3.8.5"
  }
 },
 "nbformat": 4,
 "nbformat_minor": 4
}
