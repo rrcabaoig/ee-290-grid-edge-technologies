{
 "cells": [
  {
   "cell_type": "markdown",
   "metadata": {},
   "source": [
    "### Import libraries"
   ]
  },
  {
   "cell_type": "code",
   "execution_count": 1,
   "metadata": {},
   "outputs": [],
   "source": [
    "import pandas as pd\n",
    "import os\n",
    "from tensorflow.keras.models import load_model\n",
    "from sklearn.metrics import mean_squared_error"
   ]
  },
  {
   "cell_type": "markdown",
   "metadata": {},
   "source": [
    "### Set the data repository as the working directory "
   ]
  },
  {
   "cell_type": "code",
   "execution_count": 2,
   "metadata": {},
   "outputs": [
    {
     "name": "stdout",
     "output_type": "stream",
     "text": [
      "C:\\Users\\Asus\\Documents\\College\\UP - MS EE\\SY 2022-2023 Second Semester (temporary, final files in new laptop)\\EE 290\\Files (NEW Jun 22) FINAL FINAL\\codes\n"
     ]
    }
   ],
   "source": [
    "print(os.path.abspath(os.curdir))"
   ]
  },
  {
   "cell_type": "code",
   "execution_count": 3,
   "metadata": {},
   "outputs": [
    {
     "name": "stdout",
     "output_type": "stream",
     "text": [
      "C:\\Users\\Asus\\Documents\\College\\UP - MS EE\\SY 2022-2023 Second Semester (temporary, final files in new laptop)\\EE 290\\Files (NEW Jun 22) FINAL FINAL\\data\n"
     ]
    }
   ],
   "source": [
    "os.chdir(\"../data\")\n",
    "print(os.path.abspath(os.curdir))"
   ]
  },
  {
   "cell_type": "markdown",
   "metadata": {},
   "source": [
    "### Import the test set (solar and wind inclusion)"
   ]
  },
  {
   "cell_type": "markdown",
   "metadata": {},
   "source": [
    "##### Test set (solar and wind inclusion)"
   ]
  },
  {
   "cell_type": "code",
   "execution_count": 4,
   "metadata": {
    "scrolled": true
   },
   "outputs": [
    {
     "data": {
      "text/html": [
       "<div>\n",
       "<style scoped>\n",
       "    .dataframe tbody tr th:only-of-type {\n",
       "        vertical-align: middle;\n",
       "    }\n",
       "\n",
       "    .dataframe tbody tr th {\n",
       "        vertical-align: top;\n",
       "    }\n",
       "\n",
       "    .dataframe thead th {\n",
       "        text-align: right;\n",
       "    }\n",
       "</style>\n",
       "<table border=\"1\" class=\"dataframe\">\n",
       "  <thead>\n",
       "    <tr style=\"text-align: right;\">\n",
       "      <th></th>\n",
       "      <th>scenario</th>\n",
       "      <th>pd_2</th>\n",
       "      <th>qd_2</th>\n",
       "      <th>pd_3</th>\n",
       "      <th>qd_3</th>\n",
       "      <th>pd_4</th>\n",
       "      <th>qd_4</th>\n",
       "      <th>pd_5</th>\n",
       "      <th>qd_5</th>\n",
       "      <th>pd_6</th>\n",
       "      <th>...</th>\n",
       "      <th>pd_29</th>\n",
       "      <th>qd_29</th>\n",
       "      <th>pd_30</th>\n",
       "      <th>qd_30</th>\n",
       "      <th>pd_31</th>\n",
       "      <th>qd_31</th>\n",
       "      <th>pd_32</th>\n",
       "      <th>qd_32</th>\n",
       "      <th>pd_33</th>\n",
       "      <th>qd_33</th>\n",
       "    </tr>\n",
       "  </thead>\n",
       "  <tbody>\n",
       "    <tr>\n",
       "      <th>0</th>\n",
       "      <td>1</td>\n",
       "      <td>0.034699</td>\n",
       "      <td>0.007573</td>\n",
       "      <td>0.045639</td>\n",
       "      <td>0.018038</td>\n",
       "      <td>0.028569</td>\n",
       "      <td>0.003493</td>\n",
       "      <td>0.031436</td>\n",
       "      <td>0.009529</td>\n",
       "      <td>0.027359</td>\n",
       "      <td>...</td>\n",
       "      <td>0.063776</td>\n",
       "      <td>0.040361</td>\n",
       "      <td>0.101603</td>\n",
       "      <td>0.058396</td>\n",
       "      <td>0.077677</td>\n",
       "      <td>0.030700</td>\n",
       "      <td>0.117351</td>\n",
       "      <td>0.086486</td>\n",
       "      <td>0.024336</td>\n",
       "      <td>0.002183</td>\n",
       "    </tr>\n",
       "    <tr>\n",
       "      <th>1</th>\n",
       "      <td>2</td>\n",
       "      <td>0.034556</td>\n",
       "      <td>0.007371</td>\n",
       "      <td>0.045064</td>\n",
       "      <td>0.017669</td>\n",
       "      <td>0.026869</td>\n",
       "      <td>0.003409</td>\n",
       "      <td>0.030837</td>\n",
       "      <td>0.009231</td>\n",
       "      <td>0.026833</td>\n",
       "      <td>...</td>\n",
       "      <td>0.062670</td>\n",
       "      <td>0.039661</td>\n",
       "      <td>0.099900</td>\n",
       "      <td>0.057418</td>\n",
       "      <td>0.076220</td>\n",
       "      <td>0.029884</td>\n",
       "      <td>0.115035</td>\n",
       "      <td>0.085078</td>\n",
       "      <td>0.024143</td>\n",
       "      <td>0.002166</td>\n",
       "    </tr>\n",
       "    <tr>\n",
       "      <th>2</th>\n",
       "      <td>3</td>\n",
       "      <td>0.034414</td>\n",
       "      <td>0.007166</td>\n",
       "      <td>0.044490</td>\n",
       "      <td>0.017302</td>\n",
       "      <td>0.022580</td>\n",
       "      <td>0.001942</td>\n",
       "      <td>0.030238</td>\n",
       "      <td>0.009051</td>\n",
       "      <td>0.026307</td>\n",
       "      <td>...</td>\n",
       "      <td>0.061563</td>\n",
       "      <td>0.039122</td>\n",
       "      <td>0.098197</td>\n",
       "      <td>0.056177</td>\n",
       "      <td>0.074763</td>\n",
       "      <td>0.029548</td>\n",
       "      <td>0.112719</td>\n",
       "      <td>0.083659</td>\n",
       "      <td>0.023950</td>\n",
       "      <td>0.002149</td>\n",
       "    </tr>\n",
       "    <tr>\n",
       "      <th>3</th>\n",
       "      <td>4</td>\n",
       "      <td>0.034272</td>\n",
       "      <td>0.006959</td>\n",
       "      <td>0.043915</td>\n",
       "      <td>0.017079</td>\n",
       "      <td>0.021249</td>\n",
       "      <td>0.001651</td>\n",
       "      <td>0.029639</td>\n",
       "      <td>0.008872</td>\n",
       "      <td>0.025781</td>\n",
       "      <td>...</td>\n",
       "      <td>0.060457</td>\n",
       "      <td>0.038577</td>\n",
       "      <td>0.096495</td>\n",
       "      <td>0.055202</td>\n",
       "      <td>0.073306</td>\n",
       "      <td>0.028741</td>\n",
       "      <td>0.110403</td>\n",
       "      <td>0.082227</td>\n",
       "      <td>0.023757</td>\n",
       "      <td>0.002131</td>\n",
       "    </tr>\n",
       "    <tr>\n",
       "      <th>4</th>\n",
       "      <td>5</td>\n",
       "      <td>0.034130</td>\n",
       "      <td>0.006750</td>\n",
       "      <td>0.043340</td>\n",
       "      <td>0.016992</td>\n",
       "      <td>0.019919</td>\n",
       "      <td>0.001060</td>\n",
       "      <td>0.029040</td>\n",
       "      <td>0.008693</td>\n",
       "      <td>0.025255</td>\n",
       "      <td>...</td>\n",
       "      <td>0.059350</td>\n",
       "      <td>0.037716</td>\n",
       "      <td>0.094792</td>\n",
       "      <td>0.054482</td>\n",
       "      <td>0.071848</td>\n",
       "      <td>0.028396</td>\n",
       "      <td>0.108087</td>\n",
       "      <td>0.080502</td>\n",
       "      <td>0.023564</td>\n",
       "      <td>0.002114</td>\n",
       "    </tr>\n",
       "  </tbody>\n",
       "</table>\n",
       "<p>5 rows × 65 columns</p>\n",
       "</div>"
      ],
      "text/plain": [
       "   scenario      pd_2      qd_2      pd_3      qd_3      pd_4      qd_4  \\\n",
       "0         1  0.034699  0.007573  0.045639  0.018038  0.028569  0.003493   \n",
       "1         2  0.034556  0.007371  0.045064  0.017669  0.026869  0.003409   \n",
       "2         3  0.034414  0.007166  0.044490  0.017302  0.022580  0.001942   \n",
       "3         4  0.034272  0.006959  0.043915  0.017079  0.021249  0.001651   \n",
       "4         5  0.034130  0.006750  0.043340  0.016992  0.019919  0.001060   \n",
       "\n",
       "       pd_5      qd_5      pd_6  ...     pd_29     qd_29     pd_30     qd_30  \\\n",
       "0  0.031436  0.009529  0.027359  ...  0.063776  0.040361  0.101603  0.058396   \n",
       "1  0.030837  0.009231  0.026833  ...  0.062670  0.039661  0.099900  0.057418   \n",
       "2  0.030238  0.009051  0.026307  ...  0.061563  0.039122  0.098197  0.056177   \n",
       "3  0.029639  0.008872  0.025781  ...  0.060457  0.038577  0.096495  0.055202   \n",
       "4  0.029040  0.008693  0.025255  ...  0.059350  0.037716  0.094792  0.054482   \n",
       "\n",
       "      pd_31     qd_31     pd_32     qd_32     pd_33     qd_33  \n",
       "0  0.077677  0.030700  0.117351  0.086486  0.024336  0.002183  \n",
       "1  0.076220  0.029884  0.115035  0.085078  0.024143  0.002166  \n",
       "2  0.074763  0.029548  0.112719  0.083659  0.023950  0.002149  \n",
       "3  0.073306  0.028741  0.110403  0.082227  0.023757  0.002131  \n",
       "4  0.071848  0.028396  0.108087  0.080502  0.023564  0.002114  \n",
       "\n",
       "[5 rows x 65 columns]"
      ]
     },
     "execution_count": 4,
     "metadata": {},
     "output_type": "execute_result"
    }
   ],
   "source": [
    "pd_qd_test_solar_wind_45_pct = pd.read_csv('pd_qd_test_solar_wind_45_pct.csv')\n",
    "pd_qd_test_solar_wind_45_pct.head()"
   ]
  },
  {
   "cell_type": "code",
   "execution_count": 5,
   "metadata": {},
   "outputs": [
    {
     "data": {
      "text/html": [
       "<div>\n",
       "<style scoped>\n",
       "    .dataframe tbody tr th:only-of-type {\n",
       "        vertical-align: middle;\n",
       "    }\n",
       "\n",
       "    .dataframe tbody tr th {\n",
       "        vertical-align: top;\n",
       "    }\n",
       "\n",
       "    .dataframe thead th {\n",
       "        text-align: right;\n",
       "    }\n",
       "</style>\n",
       "<table border=\"1\" class=\"dataframe\">\n",
       "  <thead>\n",
       "    <tr style=\"text-align: right;\">\n",
       "      <th></th>\n",
       "      <th>scenario</th>\n",
       "      <th>pg_1</th>\n",
       "      <th>pg_18</th>\n",
       "      <th>v_18</th>\n",
       "      <th>pg_22</th>\n",
       "      <th>v_22</th>\n",
       "      <th>pg_25</th>\n",
       "      <th>v_25</th>\n",
       "      <th>pg_33</th>\n",
       "      <th>v_33</th>\n",
       "    </tr>\n",
       "  </thead>\n",
       "  <tbody>\n",
       "    <tr>\n",
       "      <th>0</th>\n",
       "      <td>1</td>\n",
       "      <td>2.704067e-07</td>\n",
       "      <td>0.340860</td>\n",
       "      <td>1.022535</td>\n",
       "      <td>0.410543</td>\n",
       "      <td>1.004683</td>\n",
       "      <td>0.499993</td>\n",
       "      <td>1.001340</td>\n",
       "      <td>0.499991</td>\n",
       "      <td>1.016993</td>\n",
       "    </tr>\n",
       "    <tr>\n",
       "      <th>1</th>\n",
       "      <td>2</td>\n",
       "      <td>5.715829e-07</td>\n",
       "      <td>0.328133</td>\n",
       "      <td>1.022395</td>\n",
       "      <td>0.390855</td>\n",
       "      <td>1.004390</td>\n",
       "      <td>0.499982</td>\n",
       "      <td>1.001468</td>\n",
       "      <td>0.499973</td>\n",
       "      <td>1.017450</td>\n",
       "    </tr>\n",
       "    <tr>\n",
       "      <th>2</th>\n",
       "      <td>3</td>\n",
       "      <td>2.336102e-07</td>\n",
       "      <td>0.313061</td>\n",
       "      <td>1.022189</td>\n",
       "      <td>0.367603</td>\n",
       "      <td>1.004037</td>\n",
       "      <td>0.499991</td>\n",
       "      <td>1.001624</td>\n",
       "      <td>0.499984</td>\n",
       "      <td>1.017910</td>\n",
       "    </tr>\n",
       "    <tr>\n",
       "      <th>3</th>\n",
       "      <td>4</td>\n",
       "      <td>3.052111e-07</td>\n",
       "      <td>0.300664</td>\n",
       "      <td>1.022073</td>\n",
       "      <td>0.348467</td>\n",
       "      <td>1.003754</td>\n",
       "      <td>0.499974</td>\n",
       "      <td>1.001763</td>\n",
       "      <td>0.500000</td>\n",
       "      <td>1.018371</td>\n",
       "    </tr>\n",
       "    <tr>\n",
       "      <th>4</th>\n",
       "      <td>5</td>\n",
       "      <td>2.637911e-07</td>\n",
       "      <td>0.289214</td>\n",
       "      <td>1.021970</td>\n",
       "      <td>0.330980</td>\n",
       "      <td>1.003505</td>\n",
       "      <td>0.499958</td>\n",
       "      <td>1.001898</td>\n",
       "      <td>0.497436</td>\n",
       "      <td>1.018736</td>\n",
       "    </tr>\n",
       "  </tbody>\n",
       "</table>\n",
       "</div>"
      ],
      "text/plain": [
       "   scenario          pg_1     pg_18      v_18     pg_22      v_22     pg_25  \\\n",
       "0         1  2.704067e-07  0.340860  1.022535  0.410543  1.004683  0.499993   \n",
       "1         2  5.715829e-07  0.328133  1.022395  0.390855  1.004390  0.499982   \n",
       "2         3  2.336102e-07  0.313061  1.022189  0.367603  1.004037  0.499991   \n",
       "3         4  3.052111e-07  0.300664  1.022073  0.348467  1.003754  0.499974   \n",
       "4         5  2.637911e-07  0.289214  1.021970  0.330980  1.003505  0.499958   \n",
       "\n",
       "       v_25     pg_33      v_33  \n",
       "0  1.001340  0.499991  1.016993  \n",
       "1  1.001468  0.499973  1.017450  \n",
       "2  1.001624  0.499984  1.017910  \n",
       "3  1.001763  0.500000  1.018371  \n",
       "4  1.001898  0.497436  1.018736  "
      ]
     },
     "execution_count": 5,
     "metadata": {},
     "output_type": "execute_result"
    }
   ],
   "source": [
    "pg_v_test_solar_wind_45_pct = pd.read_csv('pg_v_test_solar_wind_45_pct.csv')\n",
    "pg_v_test_solar_wind_45_pct.head()"
   ]
  },
  {
   "cell_type": "markdown",
   "metadata": {},
   "source": [
    "### Separate the dependent variables (optimal generator setpoints) and the independent variables (non-dispatchable loads)\n",
    "Non-dispatchable loads: $x = (P_{D_{i}},Q_{D_{i}})\\forall i\\in \\Omega_{D}$\n",
    "<br>\n",
    "Optimal generator setpoints: $y = (P_{G_{j}},V_{j})\\forall j\\in \\Omega_{G}$"
   ]
  },
  {
   "cell_type": "markdown",
   "metadata": {},
   "source": [
    "##### Test set (solar and wind inclusion)"
   ]
  },
  {
   "cell_type": "code",
   "execution_count": 6,
   "metadata": {},
   "outputs": [
    {
     "data": {
      "text/html": [
       "<div>\n",
       "<style scoped>\n",
       "    .dataframe tbody tr th:only-of-type {\n",
       "        vertical-align: middle;\n",
       "    }\n",
       "\n",
       "    .dataframe tbody tr th {\n",
       "        vertical-align: top;\n",
       "    }\n",
       "\n",
       "    .dataframe thead th {\n",
       "        text-align: right;\n",
       "    }\n",
       "</style>\n",
       "<table border=\"1\" class=\"dataframe\">\n",
       "  <thead>\n",
       "    <tr style=\"text-align: right;\">\n",
       "      <th></th>\n",
       "      <th>pd_2</th>\n",
       "      <th>qd_2</th>\n",
       "      <th>pd_3</th>\n",
       "      <th>qd_3</th>\n",
       "      <th>pd_4</th>\n",
       "      <th>qd_4</th>\n",
       "      <th>pd_5</th>\n",
       "      <th>qd_5</th>\n",
       "      <th>pd_6</th>\n",
       "      <th>qd_6</th>\n",
       "      <th>...</th>\n",
       "      <th>pd_29</th>\n",
       "      <th>qd_29</th>\n",
       "      <th>pd_30</th>\n",
       "      <th>qd_30</th>\n",
       "      <th>pd_31</th>\n",
       "      <th>qd_31</th>\n",
       "      <th>pd_32</th>\n",
       "      <th>qd_32</th>\n",
       "      <th>pd_33</th>\n",
       "      <th>qd_33</th>\n",
       "    </tr>\n",
       "  </thead>\n",
       "  <tbody>\n",
       "    <tr>\n",
       "      <th>0</th>\n",
       "      <td>0.034699</td>\n",
       "      <td>0.007573</td>\n",
       "      <td>0.045639</td>\n",
       "      <td>0.018038</td>\n",
       "      <td>0.028569</td>\n",
       "      <td>0.003493</td>\n",
       "      <td>0.031436</td>\n",
       "      <td>0.009529</td>\n",
       "      <td>0.027359</td>\n",
       "      <td>0.019239</td>\n",
       "      <td>...</td>\n",
       "      <td>0.063776</td>\n",
       "      <td>0.040361</td>\n",
       "      <td>0.101603</td>\n",
       "      <td>0.058396</td>\n",
       "      <td>0.077677</td>\n",
       "      <td>0.030700</td>\n",
       "      <td>0.117351</td>\n",
       "      <td>0.086486</td>\n",
       "      <td>0.024336</td>\n",
       "      <td>0.002183</td>\n",
       "    </tr>\n",
       "    <tr>\n",
       "      <th>1</th>\n",
       "      <td>0.034556</td>\n",
       "      <td>0.007371</td>\n",
       "      <td>0.045064</td>\n",
       "      <td>0.017669</td>\n",
       "      <td>0.026869</td>\n",
       "      <td>0.003409</td>\n",
       "      <td>0.030837</td>\n",
       "      <td>0.009231</td>\n",
       "      <td>0.026833</td>\n",
       "      <td>0.018800</td>\n",
       "      <td>...</td>\n",
       "      <td>0.062670</td>\n",
       "      <td>0.039661</td>\n",
       "      <td>0.099900</td>\n",
       "      <td>0.057418</td>\n",
       "      <td>0.076220</td>\n",
       "      <td>0.029884</td>\n",
       "      <td>0.115035</td>\n",
       "      <td>0.085078</td>\n",
       "      <td>0.024143</td>\n",
       "      <td>0.002166</td>\n",
       "    </tr>\n",
       "    <tr>\n",
       "      <th>2</th>\n",
       "      <td>0.034414</td>\n",
       "      <td>0.007166</td>\n",
       "      <td>0.044490</td>\n",
       "      <td>0.017302</td>\n",
       "      <td>0.022580</td>\n",
       "      <td>0.001942</td>\n",
       "      <td>0.030238</td>\n",
       "      <td>0.009051</td>\n",
       "      <td>0.026307</td>\n",
       "      <td>0.018499</td>\n",
       "      <td>...</td>\n",
       "      <td>0.061563</td>\n",
       "      <td>0.039122</td>\n",
       "      <td>0.098197</td>\n",
       "      <td>0.056177</td>\n",
       "      <td>0.074763</td>\n",
       "      <td>0.029548</td>\n",
       "      <td>0.112719</td>\n",
       "      <td>0.083659</td>\n",
       "      <td>0.023950</td>\n",
       "      <td>0.002149</td>\n",
       "    </tr>\n",
       "    <tr>\n",
       "      <th>3</th>\n",
       "      <td>0.034272</td>\n",
       "      <td>0.006959</td>\n",
       "      <td>0.043915</td>\n",
       "      <td>0.017079</td>\n",
       "      <td>0.021249</td>\n",
       "      <td>0.001651</td>\n",
       "      <td>0.029639</td>\n",
       "      <td>0.008872</td>\n",
       "      <td>0.025781</td>\n",
       "      <td>0.018130</td>\n",
       "      <td>...</td>\n",
       "      <td>0.060457</td>\n",
       "      <td>0.038577</td>\n",
       "      <td>0.096495</td>\n",
       "      <td>0.055202</td>\n",
       "      <td>0.073306</td>\n",
       "      <td>0.028741</td>\n",
       "      <td>0.110403</td>\n",
       "      <td>0.082227</td>\n",
       "      <td>0.023757</td>\n",
       "      <td>0.002131</td>\n",
       "    </tr>\n",
       "    <tr>\n",
       "      <th>4</th>\n",
       "      <td>0.034130</td>\n",
       "      <td>0.006750</td>\n",
       "      <td>0.043340</td>\n",
       "      <td>0.016992</td>\n",
       "      <td>0.019919</td>\n",
       "      <td>0.001060</td>\n",
       "      <td>0.029040</td>\n",
       "      <td>0.008693</td>\n",
       "      <td>0.025255</td>\n",
       "      <td>0.017825</td>\n",
       "      <td>...</td>\n",
       "      <td>0.059350</td>\n",
       "      <td>0.037716</td>\n",
       "      <td>0.094792</td>\n",
       "      <td>0.054482</td>\n",
       "      <td>0.071848</td>\n",
       "      <td>0.028396</td>\n",
       "      <td>0.108087</td>\n",
       "      <td>0.080502</td>\n",
       "      <td>0.023564</td>\n",
       "      <td>0.002114</td>\n",
       "    </tr>\n",
       "  </tbody>\n",
       "</table>\n",
       "<p>5 rows × 64 columns</p>\n",
       "</div>"
      ],
      "text/plain": [
       "       pd_2      qd_2      pd_3      qd_3      pd_4      qd_4      pd_5  \\\n",
       "0  0.034699  0.007573  0.045639  0.018038  0.028569  0.003493  0.031436   \n",
       "1  0.034556  0.007371  0.045064  0.017669  0.026869  0.003409  0.030837   \n",
       "2  0.034414  0.007166  0.044490  0.017302  0.022580  0.001942  0.030238   \n",
       "3  0.034272  0.006959  0.043915  0.017079  0.021249  0.001651  0.029639   \n",
       "4  0.034130  0.006750  0.043340  0.016992  0.019919  0.001060  0.029040   \n",
       "\n",
       "       qd_5      pd_6      qd_6  ...     pd_29     qd_29     pd_30     qd_30  \\\n",
       "0  0.009529  0.027359  0.019239  ...  0.063776  0.040361  0.101603  0.058396   \n",
       "1  0.009231  0.026833  0.018800  ...  0.062670  0.039661  0.099900  0.057418   \n",
       "2  0.009051  0.026307  0.018499  ...  0.061563  0.039122  0.098197  0.056177   \n",
       "3  0.008872  0.025781  0.018130  ...  0.060457  0.038577  0.096495  0.055202   \n",
       "4  0.008693  0.025255  0.017825  ...  0.059350  0.037716  0.094792  0.054482   \n",
       "\n",
       "      pd_31     qd_31     pd_32     qd_32     pd_33     qd_33  \n",
       "0  0.077677  0.030700  0.117351  0.086486  0.024336  0.002183  \n",
       "1  0.076220  0.029884  0.115035  0.085078  0.024143  0.002166  \n",
       "2  0.074763  0.029548  0.112719  0.083659  0.023950  0.002149  \n",
       "3  0.073306  0.028741  0.110403  0.082227  0.023757  0.002131  \n",
       "4  0.071848  0.028396  0.108087  0.080502  0.023564  0.002114  \n",
       "\n",
       "[5 rows x 64 columns]"
      ]
     },
     "execution_count": 6,
     "metadata": {},
     "output_type": "execute_result"
    }
   ],
   "source": [
    "x_test_solar_wind_45_pct = pd_qd_test_solar_wind_45_pct.loc[:, pd_qd_test_solar_wind_45_pct.columns != 'scenario']\n",
    "x_test_solar_wind_45_pct.head()"
   ]
  },
  {
   "cell_type": "code",
   "execution_count": 7,
   "metadata": {},
   "outputs": [
    {
     "data": {
      "text/html": [
       "<div>\n",
       "<style scoped>\n",
       "    .dataframe tbody tr th:only-of-type {\n",
       "        vertical-align: middle;\n",
       "    }\n",
       "\n",
       "    .dataframe tbody tr th {\n",
       "        vertical-align: top;\n",
       "    }\n",
       "\n",
       "    .dataframe thead th {\n",
       "        text-align: right;\n",
       "    }\n",
       "</style>\n",
       "<table border=\"1\" class=\"dataframe\">\n",
       "  <thead>\n",
       "    <tr style=\"text-align: right;\">\n",
       "      <th></th>\n",
       "      <th>pg_1</th>\n",
       "      <th>pg_18</th>\n",
       "      <th>v_18</th>\n",
       "      <th>pg_22</th>\n",
       "      <th>v_22</th>\n",
       "      <th>pg_25</th>\n",
       "      <th>v_25</th>\n",
       "      <th>pg_33</th>\n",
       "      <th>v_33</th>\n",
       "    </tr>\n",
       "  </thead>\n",
       "  <tbody>\n",
       "    <tr>\n",
       "      <th>0</th>\n",
       "      <td>2.704067e-07</td>\n",
       "      <td>0.340860</td>\n",
       "      <td>1.022535</td>\n",
       "      <td>0.410543</td>\n",
       "      <td>1.004683</td>\n",
       "      <td>0.499993</td>\n",
       "      <td>1.001340</td>\n",
       "      <td>0.499991</td>\n",
       "      <td>1.016993</td>\n",
       "    </tr>\n",
       "    <tr>\n",
       "      <th>1</th>\n",
       "      <td>5.715829e-07</td>\n",
       "      <td>0.328133</td>\n",
       "      <td>1.022395</td>\n",
       "      <td>0.390855</td>\n",
       "      <td>1.004390</td>\n",
       "      <td>0.499982</td>\n",
       "      <td>1.001468</td>\n",
       "      <td>0.499973</td>\n",
       "      <td>1.017450</td>\n",
       "    </tr>\n",
       "    <tr>\n",
       "      <th>2</th>\n",
       "      <td>2.336102e-07</td>\n",
       "      <td>0.313061</td>\n",
       "      <td>1.022189</td>\n",
       "      <td>0.367603</td>\n",
       "      <td>1.004037</td>\n",
       "      <td>0.499991</td>\n",
       "      <td>1.001624</td>\n",
       "      <td>0.499984</td>\n",
       "      <td>1.017910</td>\n",
       "    </tr>\n",
       "    <tr>\n",
       "      <th>3</th>\n",
       "      <td>3.052111e-07</td>\n",
       "      <td>0.300664</td>\n",
       "      <td>1.022073</td>\n",
       "      <td>0.348467</td>\n",
       "      <td>1.003754</td>\n",
       "      <td>0.499974</td>\n",
       "      <td>1.001763</td>\n",
       "      <td>0.500000</td>\n",
       "      <td>1.018371</td>\n",
       "    </tr>\n",
       "    <tr>\n",
       "      <th>4</th>\n",
       "      <td>2.637911e-07</td>\n",
       "      <td>0.289214</td>\n",
       "      <td>1.021970</td>\n",
       "      <td>0.330980</td>\n",
       "      <td>1.003505</td>\n",
       "      <td>0.499958</td>\n",
       "      <td>1.001898</td>\n",
       "      <td>0.497436</td>\n",
       "      <td>1.018736</td>\n",
       "    </tr>\n",
       "  </tbody>\n",
       "</table>\n",
       "</div>"
      ],
      "text/plain": [
       "           pg_1     pg_18      v_18     pg_22      v_22     pg_25      v_25  \\\n",
       "0  2.704067e-07  0.340860  1.022535  0.410543  1.004683  0.499993  1.001340   \n",
       "1  5.715829e-07  0.328133  1.022395  0.390855  1.004390  0.499982  1.001468   \n",
       "2  2.336102e-07  0.313061  1.022189  0.367603  1.004037  0.499991  1.001624   \n",
       "3  3.052111e-07  0.300664  1.022073  0.348467  1.003754  0.499974  1.001763   \n",
       "4  2.637911e-07  0.289214  1.021970  0.330980  1.003505  0.499958  1.001898   \n",
       "\n",
       "      pg_33      v_33  \n",
       "0  0.499991  1.016993  \n",
       "1  0.499973  1.017450  \n",
       "2  0.499984  1.017910  \n",
       "3  0.500000  1.018371  \n",
       "4  0.497436  1.018736  "
      ]
     },
     "execution_count": 7,
     "metadata": {},
     "output_type": "execute_result"
    }
   ],
   "source": [
    "y_test_solar_wind_45_pct = pg_v_test_solar_wind_45_pct.loc[:, pg_v_test_solar_wind_45_pct.columns != 'scenario']\n",
    "y_test_solar_wind_45_pct.head()"
   ]
  },
  {
   "cell_type": "markdown",
   "metadata": {},
   "source": [
    "### Test the trained models on the test set (solar and wind inclusion)"
   ]
  },
  {
   "cell_type": "code",
   "execution_count": 8,
   "metadata": {},
   "outputs": [],
   "source": [
    "model_1 = load_model('model_1.h5')\n",
    "model_2 = load_model('model_2.h5')\n",
    "model_3 = load_model('model_3.h5')"
   ]
  },
  {
   "cell_type": "markdown",
   "metadata": {},
   "source": [
    "##### Using model 1 that was trained using training group 1"
   ]
  },
  {
   "cell_type": "code",
   "execution_count": 9,
   "metadata": {},
   "outputs": [
    {
     "data": {
      "text/html": [
       "<div>\n",
       "<style scoped>\n",
       "    .dataframe tbody tr th:only-of-type {\n",
       "        vertical-align: middle;\n",
       "    }\n",
       "\n",
       "    .dataframe tbody tr th {\n",
       "        vertical-align: top;\n",
       "    }\n",
       "\n",
       "    .dataframe thead th {\n",
       "        text-align: right;\n",
       "    }\n",
       "</style>\n",
       "<table border=\"1\" class=\"dataframe\">\n",
       "  <thead>\n",
       "    <tr style=\"text-align: right;\">\n",
       "      <th></th>\n",
       "      <th>pg_1</th>\n",
       "      <th>pg_18</th>\n",
       "      <th>v_18</th>\n",
       "      <th>pg_22</th>\n",
       "      <th>v_22</th>\n",
       "      <th>pg_25</th>\n",
       "      <th>v_25</th>\n",
       "      <th>pg_33</th>\n",
       "      <th>v_33</th>\n",
       "    </tr>\n",
       "  </thead>\n",
       "  <tbody>\n",
       "    <tr>\n",
       "      <th>0</th>\n",
       "      <td>0.000299</td>\n",
       "      <td>0.330947</td>\n",
       "      <td>1.023007</td>\n",
       "      <td>0.415204</td>\n",
       "      <td>1.004679</td>\n",
       "      <td>0.499998</td>\n",
       "      <td>1.000959</td>\n",
       "      <td>0.499951</td>\n",
       "      <td>1.017985</td>\n",
       "    </tr>\n",
       "    <tr>\n",
       "      <th>1</th>\n",
       "      <td>0.000292</td>\n",
       "      <td>0.318093</td>\n",
       "      <td>1.022867</td>\n",
       "      <td>0.395569</td>\n",
       "      <td>1.004388</td>\n",
       "      <td>0.500010</td>\n",
       "      <td>1.001083</td>\n",
       "      <td>0.499976</td>\n",
       "      <td>1.018447</td>\n",
       "    </tr>\n",
       "    <tr>\n",
       "      <th>2</th>\n",
       "      <td>0.000325</td>\n",
       "      <td>0.302421</td>\n",
       "      <td>1.022638</td>\n",
       "      <td>0.373072</td>\n",
       "      <td>1.004104</td>\n",
       "      <td>0.500025</td>\n",
       "      <td>1.001298</td>\n",
       "      <td>0.499421</td>\n",
       "      <td>1.019019</td>\n",
       "    </tr>\n",
       "    <tr>\n",
       "      <th>3</th>\n",
       "      <td>0.000301</td>\n",
       "      <td>0.292581</td>\n",
       "      <td>1.022508</td>\n",
       "      <td>0.357898</td>\n",
       "      <td>1.003958</td>\n",
       "      <td>0.500021</td>\n",
       "      <td>1.001509</td>\n",
       "      <td>0.495491</td>\n",
       "      <td>1.019393</td>\n",
       "    </tr>\n",
       "    <tr>\n",
       "      <th>4</th>\n",
       "      <td>0.000690</td>\n",
       "      <td>0.283495</td>\n",
       "      <td>1.022467</td>\n",
       "      <td>0.344606</td>\n",
       "      <td>1.003778</td>\n",
       "      <td>0.500007</td>\n",
       "      <td>1.001610</td>\n",
       "      <td>0.486383</td>\n",
       "      <td>1.019526</td>\n",
       "    </tr>\n",
       "  </tbody>\n",
       "</table>\n",
       "</div>"
      ],
      "text/plain": [
       "       pg_1     pg_18      v_18     pg_22      v_22     pg_25      v_25  \\\n",
       "0  0.000299  0.330947  1.023007  0.415204  1.004679  0.499998  1.000959   \n",
       "1  0.000292  0.318093  1.022867  0.395569  1.004388  0.500010  1.001083   \n",
       "2  0.000325  0.302421  1.022638  0.373072  1.004104  0.500025  1.001298   \n",
       "3  0.000301  0.292581  1.022508  0.357898  1.003958  0.500021  1.001509   \n",
       "4  0.000690  0.283495  1.022467  0.344606  1.003778  0.500007  1.001610   \n",
       "\n",
       "      pg_33      v_33  \n",
       "0  0.499951  1.017985  \n",
       "1  0.499976  1.018447  \n",
       "2  0.499421  1.019019  \n",
       "3  0.495491  1.019393  \n",
       "4  0.486383  1.019526  "
      ]
     },
     "execution_count": 9,
     "metadata": {},
     "output_type": "execute_result"
    }
   ],
   "source": [
    "y_test_solar_wind_45_pct_pred_1 = model_1.predict(x_test_solar_wind_45_pct)\n",
    "y_test_solar_wind_45_pct_pred_1 = pd.DataFrame(data = y_test_solar_wind_45_pct_pred_1,\n",
    "                                 columns = ['pg_1', 'pg_18', 'v_18', 'pg_22', 'v_22', 'pg_25', 'v_25', 'pg_33', 'v_33'])\n",
    "y_test_solar_wind_45_pct_pred_1.head()"
   ]
  },
  {
   "cell_type": "code",
   "execution_count": 10,
   "metadata": {},
   "outputs": [
    {
     "data": {
      "text/html": [
       "<div>\n",
       "<style scoped>\n",
       "    .dataframe tbody tr th:only-of-type {\n",
       "        vertical-align: middle;\n",
       "    }\n",
       "\n",
       "    .dataframe tbody tr th {\n",
       "        vertical-align: top;\n",
       "    }\n",
       "\n",
       "    .dataframe thead th {\n",
       "        text-align: right;\n",
       "    }\n",
       "</style>\n",
       "<table border=\"1\" class=\"dataframe\">\n",
       "  <thead>\n",
       "    <tr style=\"text-align: right;\">\n",
       "      <th></th>\n",
       "      <th>scenario</th>\n",
       "      <th>pg_1</th>\n",
       "      <th>pg_18</th>\n",
       "      <th>v_18</th>\n",
       "      <th>pg_22</th>\n",
       "      <th>v_22</th>\n",
       "      <th>pg_25</th>\n",
       "      <th>v_25</th>\n",
       "      <th>pg_33</th>\n",
       "      <th>v_33</th>\n",
       "    </tr>\n",
       "  </thead>\n",
       "  <tbody>\n",
       "    <tr>\n",
       "      <th>0</th>\n",
       "      <td>1</td>\n",
       "      <td>0.000299</td>\n",
       "      <td>0.330947</td>\n",
       "      <td>1.023007</td>\n",
       "      <td>0.415204</td>\n",
       "      <td>1.004679</td>\n",
       "      <td>0.499998</td>\n",
       "      <td>1.000959</td>\n",
       "      <td>0.499951</td>\n",
       "      <td>1.017985</td>\n",
       "    </tr>\n",
       "    <tr>\n",
       "      <th>1</th>\n",
       "      <td>2</td>\n",
       "      <td>0.000292</td>\n",
       "      <td>0.318093</td>\n",
       "      <td>1.022867</td>\n",
       "      <td>0.395569</td>\n",
       "      <td>1.004388</td>\n",
       "      <td>0.500010</td>\n",
       "      <td>1.001083</td>\n",
       "      <td>0.499976</td>\n",
       "      <td>1.018447</td>\n",
       "    </tr>\n",
       "    <tr>\n",
       "      <th>2</th>\n",
       "      <td>3</td>\n",
       "      <td>0.000325</td>\n",
       "      <td>0.302421</td>\n",
       "      <td>1.022638</td>\n",
       "      <td>0.373072</td>\n",
       "      <td>1.004104</td>\n",
       "      <td>0.500025</td>\n",
       "      <td>1.001298</td>\n",
       "      <td>0.499421</td>\n",
       "      <td>1.019019</td>\n",
       "    </tr>\n",
       "    <tr>\n",
       "      <th>3</th>\n",
       "      <td>4</td>\n",
       "      <td>0.000301</td>\n",
       "      <td>0.292581</td>\n",
       "      <td>1.022508</td>\n",
       "      <td>0.357898</td>\n",
       "      <td>1.003958</td>\n",
       "      <td>0.500021</td>\n",
       "      <td>1.001509</td>\n",
       "      <td>0.495491</td>\n",
       "      <td>1.019393</td>\n",
       "    </tr>\n",
       "    <tr>\n",
       "      <th>4</th>\n",
       "      <td>5</td>\n",
       "      <td>0.000690</td>\n",
       "      <td>0.283495</td>\n",
       "      <td>1.022467</td>\n",
       "      <td>0.344606</td>\n",
       "      <td>1.003778</td>\n",
       "      <td>0.500007</td>\n",
       "      <td>1.001610</td>\n",
       "      <td>0.486383</td>\n",
       "      <td>1.019526</td>\n",
       "    </tr>\n",
       "  </tbody>\n",
       "</table>\n",
       "</div>"
      ],
      "text/plain": [
       "   scenario      pg_1     pg_18      v_18     pg_22      v_22     pg_25  \\\n",
       "0         1  0.000299  0.330947  1.023007  0.415204  1.004679  0.499998   \n",
       "1         2  0.000292  0.318093  1.022867  0.395569  1.004388  0.500010   \n",
       "2         3  0.000325  0.302421  1.022638  0.373072  1.004104  0.500025   \n",
       "3         4  0.000301  0.292581  1.022508  0.357898  1.003958  0.500021   \n",
       "4         5  0.000690  0.283495  1.022467  0.344606  1.003778  0.500007   \n",
       "\n",
       "       v_25     pg_33      v_33  \n",
       "0  1.000959  0.499951  1.017985  \n",
       "1  1.001083  0.499976  1.018447  \n",
       "2  1.001298  0.499421  1.019019  \n",
       "3  1.001509  0.495491  1.019393  \n",
       "4  1.001610  0.486383  1.019526  "
      ]
     },
     "execution_count": 10,
     "metadata": {},
     "output_type": "execute_result"
    }
   ],
   "source": [
    "pg_v_test_solar_wind_45_pct_pred_1 = pd.concat([pg_v_test_solar_wind_45_pct.scenario, y_test_solar_wind_45_pct_pred_1], axis = 1)\n",
    "pg_v_test_solar_wind_45_pct_pred_1.head()"
   ]
  },
  {
   "cell_type": "code",
   "execution_count": 11,
   "metadata": {},
   "outputs": [],
   "source": [
    "pg_v_test_solar_wind_45_pct_pred_1.to_csv('pg_v_test_solar_wind_45_pct_pred_1.csv', index = False, float_format = '%0.20f')"
   ]
  },
  {
   "cell_type": "markdown",
   "metadata": {},
   "source": [
    "##### Using model 2 that was trained using training group 2"
   ]
  },
  {
   "cell_type": "code",
   "execution_count": 12,
   "metadata": {},
   "outputs": [
    {
     "data": {
      "text/html": [
       "<div>\n",
       "<style scoped>\n",
       "    .dataframe tbody tr th:only-of-type {\n",
       "        vertical-align: middle;\n",
       "    }\n",
       "\n",
       "    .dataframe tbody tr th {\n",
       "        vertical-align: top;\n",
       "    }\n",
       "\n",
       "    .dataframe thead th {\n",
       "        text-align: right;\n",
       "    }\n",
       "</style>\n",
       "<table border=\"1\" class=\"dataframe\">\n",
       "  <thead>\n",
       "    <tr style=\"text-align: right;\">\n",
       "      <th></th>\n",
       "      <th>pg_1</th>\n",
       "      <th>pg_18</th>\n",
       "      <th>v_18</th>\n",
       "      <th>pg_22</th>\n",
       "      <th>v_22</th>\n",
       "      <th>pg_25</th>\n",
       "      <th>v_25</th>\n",
       "      <th>pg_33</th>\n",
       "      <th>v_33</th>\n",
       "    </tr>\n",
       "  </thead>\n",
       "  <tbody>\n",
       "    <tr>\n",
       "      <th>0</th>\n",
       "      <td>-0.000004</td>\n",
       "      <td>0.341297</td>\n",
       "      <td>1.022321</td>\n",
       "      <td>0.410918</td>\n",
       "      <td>1.004723</td>\n",
       "      <td>0.499839</td>\n",
       "      <td>1.001303</td>\n",
       "      <td>0.499769</td>\n",
       "      <td>1.016825</td>\n",
       "    </tr>\n",
       "    <tr>\n",
       "      <th>1</th>\n",
       "      <td>0.000003</td>\n",
       "      <td>0.328562</td>\n",
       "      <td>1.022171</td>\n",
       "      <td>0.391253</td>\n",
       "      <td>1.004440</td>\n",
       "      <td>0.499834</td>\n",
       "      <td>1.001425</td>\n",
       "      <td>0.499769</td>\n",
       "      <td>1.017270</td>\n",
       "    </tr>\n",
       "    <tr>\n",
       "      <th>2</th>\n",
       "      <td>0.000010</td>\n",
       "      <td>0.313477</td>\n",
       "      <td>1.021953</td>\n",
       "      <td>0.368063</td>\n",
       "      <td>1.004099</td>\n",
       "      <td>0.499826</td>\n",
       "      <td>1.001573</td>\n",
       "      <td>0.499768</td>\n",
       "      <td>1.017715</td>\n",
       "    </tr>\n",
       "    <tr>\n",
       "      <th>3</th>\n",
       "      <td>0.000016</td>\n",
       "      <td>0.301619</td>\n",
       "      <td>1.021823</td>\n",
       "      <td>0.349858</td>\n",
       "      <td>1.003849</td>\n",
       "      <td>0.499781</td>\n",
       "      <td>1.001693</td>\n",
       "      <td>0.498372</td>\n",
       "      <td>1.018089</td>\n",
       "    </tr>\n",
       "    <tr>\n",
       "      <th>4</th>\n",
       "      <td>0.000031</td>\n",
       "      <td>0.290284</td>\n",
       "      <td>1.021729</td>\n",
       "      <td>0.332555</td>\n",
       "      <td>1.003607</td>\n",
       "      <td>0.499621</td>\n",
       "      <td>1.001832</td>\n",
       "      <td>0.495326</td>\n",
       "      <td>1.018437</td>\n",
       "    </tr>\n",
       "  </tbody>\n",
       "</table>\n",
       "</div>"
      ],
      "text/plain": [
       "       pg_1     pg_18      v_18     pg_22      v_22     pg_25      v_25  \\\n",
       "0 -0.000004  0.341297  1.022321  0.410918  1.004723  0.499839  1.001303   \n",
       "1  0.000003  0.328562  1.022171  0.391253  1.004440  0.499834  1.001425   \n",
       "2  0.000010  0.313477  1.021953  0.368063  1.004099  0.499826  1.001573   \n",
       "3  0.000016  0.301619  1.021823  0.349858  1.003849  0.499781  1.001693   \n",
       "4  0.000031  0.290284  1.021729  0.332555  1.003607  0.499621  1.001832   \n",
       "\n",
       "      pg_33      v_33  \n",
       "0  0.499769  1.016825  \n",
       "1  0.499769  1.017270  \n",
       "2  0.499768  1.017715  \n",
       "3  0.498372  1.018089  \n",
       "4  0.495326  1.018437  "
      ]
     },
     "execution_count": 12,
     "metadata": {},
     "output_type": "execute_result"
    }
   ],
   "source": [
    "y_test_solar_wind_45_pct_pred_2 = model_2.predict(x_test_solar_wind_45_pct)\n",
    "y_test_solar_wind_45_pct_pred_2 = pd.DataFrame(data = y_test_solar_wind_45_pct_pred_2,\n",
    "                             columns = ['pg_1', 'pg_18', 'v_18', 'pg_22', 'v_22', 'pg_25', 'v_25', 'pg_33', 'v_33'])\n",
    "y_test_solar_wind_45_pct_pred_2.head()"
   ]
  },
  {
   "cell_type": "code",
   "execution_count": 13,
   "metadata": {},
   "outputs": [
    {
     "data": {
      "text/html": [
       "<div>\n",
       "<style scoped>\n",
       "    .dataframe tbody tr th:only-of-type {\n",
       "        vertical-align: middle;\n",
       "    }\n",
       "\n",
       "    .dataframe tbody tr th {\n",
       "        vertical-align: top;\n",
       "    }\n",
       "\n",
       "    .dataframe thead th {\n",
       "        text-align: right;\n",
       "    }\n",
       "</style>\n",
       "<table border=\"1\" class=\"dataframe\">\n",
       "  <thead>\n",
       "    <tr style=\"text-align: right;\">\n",
       "      <th></th>\n",
       "      <th>scenario</th>\n",
       "      <th>pg_1</th>\n",
       "      <th>pg_18</th>\n",
       "      <th>v_18</th>\n",
       "      <th>pg_22</th>\n",
       "      <th>v_22</th>\n",
       "      <th>pg_25</th>\n",
       "      <th>v_25</th>\n",
       "      <th>pg_33</th>\n",
       "      <th>v_33</th>\n",
       "    </tr>\n",
       "  </thead>\n",
       "  <tbody>\n",
       "    <tr>\n",
       "      <th>0</th>\n",
       "      <td>1</td>\n",
       "      <td>-0.000004</td>\n",
       "      <td>0.341297</td>\n",
       "      <td>1.022321</td>\n",
       "      <td>0.410918</td>\n",
       "      <td>1.004723</td>\n",
       "      <td>0.499839</td>\n",
       "      <td>1.001303</td>\n",
       "      <td>0.499769</td>\n",
       "      <td>1.016825</td>\n",
       "    </tr>\n",
       "    <tr>\n",
       "      <th>1</th>\n",
       "      <td>2</td>\n",
       "      <td>0.000003</td>\n",
       "      <td>0.328562</td>\n",
       "      <td>1.022171</td>\n",
       "      <td>0.391253</td>\n",
       "      <td>1.004440</td>\n",
       "      <td>0.499834</td>\n",
       "      <td>1.001425</td>\n",
       "      <td>0.499769</td>\n",
       "      <td>1.017270</td>\n",
       "    </tr>\n",
       "    <tr>\n",
       "      <th>2</th>\n",
       "      <td>3</td>\n",
       "      <td>0.000010</td>\n",
       "      <td>0.313477</td>\n",
       "      <td>1.021953</td>\n",
       "      <td>0.368063</td>\n",
       "      <td>1.004099</td>\n",
       "      <td>0.499826</td>\n",
       "      <td>1.001573</td>\n",
       "      <td>0.499768</td>\n",
       "      <td>1.017715</td>\n",
       "    </tr>\n",
       "    <tr>\n",
       "      <th>3</th>\n",
       "      <td>4</td>\n",
       "      <td>0.000016</td>\n",
       "      <td>0.301619</td>\n",
       "      <td>1.021823</td>\n",
       "      <td>0.349858</td>\n",
       "      <td>1.003849</td>\n",
       "      <td>0.499781</td>\n",
       "      <td>1.001693</td>\n",
       "      <td>0.498372</td>\n",
       "      <td>1.018089</td>\n",
       "    </tr>\n",
       "    <tr>\n",
       "      <th>4</th>\n",
       "      <td>5</td>\n",
       "      <td>0.000031</td>\n",
       "      <td>0.290284</td>\n",
       "      <td>1.021729</td>\n",
       "      <td>0.332555</td>\n",
       "      <td>1.003607</td>\n",
       "      <td>0.499621</td>\n",
       "      <td>1.001832</td>\n",
       "      <td>0.495326</td>\n",
       "      <td>1.018437</td>\n",
       "    </tr>\n",
       "  </tbody>\n",
       "</table>\n",
       "</div>"
      ],
      "text/plain": [
       "   scenario      pg_1     pg_18      v_18     pg_22      v_22     pg_25  \\\n",
       "0         1 -0.000004  0.341297  1.022321  0.410918  1.004723  0.499839   \n",
       "1         2  0.000003  0.328562  1.022171  0.391253  1.004440  0.499834   \n",
       "2         3  0.000010  0.313477  1.021953  0.368063  1.004099  0.499826   \n",
       "3         4  0.000016  0.301619  1.021823  0.349858  1.003849  0.499781   \n",
       "4         5  0.000031  0.290284  1.021729  0.332555  1.003607  0.499621   \n",
       "\n",
       "       v_25     pg_33      v_33  \n",
       "0  1.001303  0.499769  1.016825  \n",
       "1  1.001425  0.499769  1.017270  \n",
       "2  1.001573  0.499768  1.017715  \n",
       "3  1.001693  0.498372  1.018089  \n",
       "4  1.001832  0.495326  1.018437  "
      ]
     },
     "execution_count": 13,
     "metadata": {},
     "output_type": "execute_result"
    }
   ],
   "source": [
    "pg_v_test_solar_wind_45_pct_pred_2 = pd.concat([pg_v_test_solar_wind_45_pct.scenario, y_test_solar_wind_45_pct_pred_2], axis = 1)\n",
    "pg_v_test_solar_wind_45_pct_pred_2.head()"
   ]
  },
  {
   "cell_type": "code",
   "execution_count": 14,
   "metadata": {},
   "outputs": [],
   "source": [
    "pg_v_test_solar_wind_45_pct_pred_2.to_csv('pg_v_test_solar_wind_45_pct_pred_2.csv', index = False, float_format = '%0.20f')"
   ]
  },
  {
   "cell_type": "markdown",
   "metadata": {},
   "source": [
    "##### Using model 3 that was trained using training group 3"
   ]
  },
  {
   "cell_type": "code",
   "execution_count": 15,
   "metadata": {},
   "outputs": [
    {
     "data": {
      "text/html": [
       "<div>\n",
       "<style scoped>\n",
       "    .dataframe tbody tr th:only-of-type {\n",
       "        vertical-align: middle;\n",
       "    }\n",
       "\n",
       "    .dataframe tbody tr th {\n",
       "        vertical-align: top;\n",
       "    }\n",
       "\n",
       "    .dataframe thead th {\n",
       "        text-align: right;\n",
       "    }\n",
       "</style>\n",
       "<table border=\"1\" class=\"dataframe\">\n",
       "  <thead>\n",
       "    <tr style=\"text-align: right;\">\n",
       "      <th></th>\n",
       "      <th>pg_1</th>\n",
       "      <th>pg_18</th>\n",
       "      <th>v_18</th>\n",
       "      <th>pg_22</th>\n",
       "      <th>v_22</th>\n",
       "      <th>pg_25</th>\n",
       "      <th>v_25</th>\n",
       "      <th>pg_33</th>\n",
       "      <th>v_33</th>\n",
       "    </tr>\n",
       "  </thead>\n",
       "  <tbody>\n",
       "    <tr>\n",
       "      <th>0</th>\n",
       "      <td>0.000436</td>\n",
       "      <td>0.340470</td>\n",
       "      <td>1.022593</td>\n",
       "      <td>0.410382</td>\n",
       "      <td>1.004708</td>\n",
       "      <td>0.500102</td>\n",
       "      <td>1.001354</td>\n",
       "      <td>0.500296</td>\n",
       "      <td>1.017000</td>\n",
       "    </tr>\n",
       "    <tr>\n",
       "      <th>1</th>\n",
       "      <td>0.000452</td>\n",
       "      <td>0.327675</td>\n",
       "      <td>1.022459</td>\n",
       "      <td>0.390718</td>\n",
       "      <td>1.004415</td>\n",
       "      <td>0.500109</td>\n",
       "      <td>1.001487</td>\n",
       "      <td>0.500291</td>\n",
       "      <td>1.017457</td>\n",
       "    </tr>\n",
       "    <tr>\n",
       "      <th>2</th>\n",
       "      <td>0.000471</td>\n",
       "      <td>0.312537</td>\n",
       "      <td>1.022260</td>\n",
       "      <td>0.367513</td>\n",
       "      <td>1.004059</td>\n",
       "      <td>0.500116</td>\n",
       "      <td>1.001644</td>\n",
       "      <td>0.500284</td>\n",
       "      <td>1.017923</td>\n",
       "    </tr>\n",
       "    <tr>\n",
       "      <th>3</th>\n",
       "      <td>0.000484</td>\n",
       "      <td>0.300088</td>\n",
       "      <td>1.022175</td>\n",
       "      <td>0.348465</td>\n",
       "      <td>1.003776</td>\n",
       "      <td>0.500122</td>\n",
       "      <td>1.001766</td>\n",
       "      <td>0.500280</td>\n",
       "      <td>1.018407</td>\n",
       "    </tr>\n",
       "    <tr>\n",
       "      <th>4</th>\n",
       "      <td>0.000494</td>\n",
       "      <td>0.288835</td>\n",
       "      <td>1.022061</td>\n",
       "      <td>0.331449</td>\n",
       "      <td>1.003541</td>\n",
       "      <td>0.500137</td>\n",
       "      <td>1.001914</td>\n",
       "      <td>0.496956</td>\n",
       "      <td>1.018729</td>\n",
       "    </tr>\n",
       "  </tbody>\n",
       "</table>\n",
       "</div>"
      ],
      "text/plain": [
       "       pg_1     pg_18      v_18     pg_22      v_22     pg_25      v_25  \\\n",
       "0  0.000436  0.340470  1.022593  0.410382  1.004708  0.500102  1.001354   \n",
       "1  0.000452  0.327675  1.022459  0.390718  1.004415  0.500109  1.001487   \n",
       "2  0.000471  0.312537  1.022260  0.367513  1.004059  0.500116  1.001644   \n",
       "3  0.000484  0.300088  1.022175  0.348465  1.003776  0.500122  1.001766   \n",
       "4  0.000494  0.288835  1.022061  0.331449  1.003541  0.500137  1.001914   \n",
       "\n",
       "      pg_33      v_33  \n",
       "0  0.500296  1.017000  \n",
       "1  0.500291  1.017457  \n",
       "2  0.500284  1.017923  \n",
       "3  0.500280  1.018407  \n",
       "4  0.496956  1.018729  "
      ]
     },
     "execution_count": 15,
     "metadata": {},
     "output_type": "execute_result"
    }
   ],
   "source": [
    "y_test_solar_wind_45_pct_pred_3 = model_3.predict(x_test_solar_wind_45_pct)\n",
    "y_test_solar_wind_45_pct_pred_3 = pd.DataFrame(data = y_test_solar_wind_45_pct_pred_3,\n",
    "                             columns = ['pg_1', 'pg_18', 'v_18', 'pg_22', 'v_22', 'pg_25', 'v_25', 'pg_33', 'v_33'])\n",
    "y_test_solar_wind_45_pct_pred_3.head()"
   ]
  },
  {
   "cell_type": "code",
   "execution_count": 16,
   "metadata": {},
   "outputs": [
    {
     "data": {
      "text/html": [
       "<div>\n",
       "<style scoped>\n",
       "    .dataframe tbody tr th:only-of-type {\n",
       "        vertical-align: middle;\n",
       "    }\n",
       "\n",
       "    .dataframe tbody tr th {\n",
       "        vertical-align: top;\n",
       "    }\n",
       "\n",
       "    .dataframe thead th {\n",
       "        text-align: right;\n",
       "    }\n",
       "</style>\n",
       "<table border=\"1\" class=\"dataframe\">\n",
       "  <thead>\n",
       "    <tr style=\"text-align: right;\">\n",
       "      <th></th>\n",
       "      <th>scenario</th>\n",
       "      <th>pg_1</th>\n",
       "      <th>pg_18</th>\n",
       "      <th>v_18</th>\n",
       "      <th>pg_22</th>\n",
       "      <th>v_22</th>\n",
       "      <th>pg_25</th>\n",
       "      <th>v_25</th>\n",
       "      <th>pg_33</th>\n",
       "      <th>v_33</th>\n",
       "    </tr>\n",
       "  </thead>\n",
       "  <tbody>\n",
       "    <tr>\n",
       "      <th>0</th>\n",
       "      <td>1</td>\n",
       "      <td>0.000436</td>\n",
       "      <td>0.340470</td>\n",
       "      <td>1.022593</td>\n",
       "      <td>0.410382</td>\n",
       "      <td>1.004708</td>\n",
       "      <td>0.500102</td>\n",
       "      <td>1.001354</td>\n",
       "      <td>0.500296</td>\n",
       "      <td>1.017000</td>\n",
       "    </tr>\n",
       "    <tr>\n",
       "      <th>1</th>\n",
       "      <td>2</td>\n",
       "      <td>0.000452</td>\n",
       "      <td>0.327675</td>\n",
       "      <td>1.022459</td>\n",
       "      <td>0.390718</td>\n",
       "      <td>1.004415</td>\n",
       "      <td>0.500109</td>\n",
       "      <td>1.001487</td>\n",
       "      <td>0.500291</td>\n",
       "      <td>1.017457</td>\n",
       "    </tr>\n",
       "    <tr>\n",
       "      <th>2</th>\n",
       "      <td>3</td>\n",
       "      <td>0.000471</td>\n",
       "      <td>0.312537</td>\n",
       "      <td>1.022260</td>\n",
       "      <td>0.367513</td>\n",
       "      <td>1.004059</td>\n",
       "      <td>0.500116</td>\n",
       "      <td>1.001644</td>\n",
       "      <td>0.500284</td>\n",
       "      <td>1.017923</td>\n",
       "    </tr>\n",
       "    <tr>\n",
       "      <th>3</th>\n",
       "      <td>4</td>\n",
       "      <td>0.000484</td>\n",
       "      <td>0.300088</td>\n",
       "      <td>1.022175</td>\n",
       "      <td>0.348465</td>\n",
       "      <td>1.003776</td>\n",
       "      <td>0.500122</td>\n",
       "      <td>1.001766</td>\n",
       "      <td>0.500280</td>\n",
       "      <td>1.018407</td>\n",
       "    </tr>\n",
       "    <tr>\n",
       "      <th>4</th>\n",
       "      <td>5</td>\n",
       "      <td>0.000494</td>\n",
       "      <td>0.288835</td>\n",
       "      <td>1.022061</td>\n",
       "      <td>0.331449</td>\n",
       "      <td>1.003541</td>\n",
       "      <td>0.500137</td>\n",
       "      <td>1.001914</td>\n",
       "      <td>0.496956</td>\n",
       "      <td>1.018729</td>\n",
       "    </tr>\n",
       "  </tbody>\n",
       "</table>\n",
       "</div>"
      ],
      "text/plain": [
       "   scenario      pg_1     pg_18      v_18     pg_22      v_22     pg_25  \\\n",
       "0         1  0.000436  0.340470  1.022593  0.410382  1.004708  0.500102   \n",
       "1         2  0.000452  0.327675  1.022459  0.390718  1.004415  0.500109   \n",
       "2         3  0.000471  0.312537  1.022260  0.367513  1.004059  0.500116   \n",
       "3         4  0.000484  0.300088  1.022175  0.348465  1.003776  0.500122   \n",
       "4         5  0.000494  0.288835  1.022061  0.331449  1.003541  0.500137   \n",
       "\n",
       "       v_25     pg_33      v_33  \n",
       "0  1.001354  0.500296  1.017000  \n",
       "1  1.001487  0.500291  1.017457  \n",
       "2  1.001644  0.500284  1.017923  \n",
       "3  1.001766  0.500280  1.018407  \n",
       "4  1.001914  0.496956  1.018729  "
      ]
     },
     "execution_count": 16,
     "metadata": {},
     "output_type": "execute_result"
    }
   ],
   "source": [
    "pg_v_test_solar_wind_45_pct_pred_3 = pd.concat([pg_v_test_solar_wind_45_pct.scenario, y_test_solar_wind_45_pct_pred_3], axis = 1)\n",
    "pg_v_test_solar_wind_45_pct_pred_3.head()"
   ]
  },
  {
   "cell_type": "code",
   "execution_count": 17,
   "metadata": {},
   "outputs": [],
   "source": [
    "pg_v_test_solar_wind_45_pct_pred_3.to_csv('pg_v_test_solar_wind_45_pct_pred_3.csv', index = False, float_format = '%0.20f')"
   ]
  },
  {
   "cell_type": "markdown",
   "metadata": {},
   "source": [
    "##### RMSE of $P_{G_{1}}$ estimates"
   ]
  },
  {
   "cell_type": "code",
   "execution_count": 18,
   "metadata": {},
   "outputs": [
    {
     "data": {
      "text/plain": [
       "0.004131739313693626"
      ]
     },
     "execution_count": 18,
     "metadata": {},
     "output_type": "execute_result"
    }
   ],
   "source": [
    "mean_squared_error(pg_v_test_solar_wind_45_pct.pg_1, pg_v_test_solar_wind_45_pct_pred_1.pg_1, squared = False)"
   ]
  },
  {
   "cell_type": "code",
   "execution_count": 19,
   "metadata": {},
   "outputs": [
    {
     "data": {
      "text/plain": [
       "0.0024346025167585068"
      ]
     },
     "execution_count": 19,
     "metadata": {},
     "output_type": "execute_result"
    }
   ],
   "source": [
    "mean_squared_error(pg_v_test_solar_wind_45_pct.pg_1, pg_v_test_solar_wind_45_pct_pred_2.pg_1, squared = False)"
   ]
  },
  {
   "cell_type": "code",
   "execution_count": 20,
   "metadata": {},
   "outputs": [
    {
     "data": {
      "text/plain": [
       "0.044988585037560265"
      ]
     },
     "execution_count": 20,
     "metadata": {},
     "output_type": "execute_result"
    }
   ],
   "source": [
    "mean_squared_error(pg_v_test_solar_wind_45_pct.pg_1, pg_v_test_solar_wind_45_pct_pred_3.pg_1, squared = False)"
   ]
  },
  {
   "cell_type": "markdown",
   "metadata": {},
   "source": [
    "##### RMSE of $P_{G_{18}}$ estimates"
   ]
  },
  {
   "cell_type": "code",
   "execution_count": 21,
   "metadata": {},
   "outputs": [
    {
     "data": {
      "text/plain": [
       "0.0019372578269433493"
      ]
     },
     "execution_count": 21,
     "metadata": {},
     "output_type": "execute_result"
    }
   ],
   "source": [
    "mean_squared_error(pg_v_test_solar_wind_45_pct.pg_18, pg_v_test_solar_wind_45_pct_pred_1.pg_18, squared = False)"
   ]
  },
  {
   "cell_type": "code",
   "execution_count": 22,
   "metadata": {},
   "outputs": [
    {
     "data": {
      "text/plain": [
       "0.002803484457286958"
      ]
     },
     "execution_count": 22,
     "metadata": {},
     "output_type": "execute_result"
    }
   ],
   "source": [
    "mean_squared_error(pg_v_test_solar_wind_45_pct.pg_18, pg_v_test_solar_wind_45_pct_pred_2.pg_18, squared = False)"
   ]
  },
  {
   "cell_type": "code",
   "execution_count": 23,
   "metadata": {},
   "outputs": [
    {
     "data": {
      "text/plain": [
       "0.0025962518902024846"
      ]
     },
     "execution_count": 23,
     "metadata": {},
     "output_type": "execute_result"
    }
   ],
   "source": [
    "mean_squared_error(pg_v_test_solar_wind_45_pct.pg_18, pg_v_test_solar_wind_45_pct_pred_3.pg_18, squared = False)"
   ]
  },
  {
   "cell_type": "markdown",
   "metadata": {},
   "source": [
    "##### RMSE of $P_{G_{22}}$ estimates"
   ]
  },
  {
   "cell_type": "code",
   "execution_count": 24,
   "metadata": {},
   "outputs": [
    {
     "data": {
      "text/plain": [
       "0.0024053124057540768"
      ]
     },
     "execution_count": 24,
     "metadata": {},
     "output_type": "execute_result"
    }
   ],
   "source": [
    "mean_squared_error(pg_v_test_solar_wind_45_pct.pg_22, pg_v_test_solar_wind_45_pct_pred_1.pg_22, squared = False)"
   ]
  },
  {
   "cell_type": "code",
   "execution_count": 25,
   "metadata": {},
   "outputs": [
    {
     "data": {
      "text/plain": [
       "0.00038056550690065223"
      ]
     },
     "execution_count": 25,
     "metadata": {},
     "output_type": "execute_result"
    }
   ],
   "source": [
    "mean_squared_error(pg_v_test_solar_wind_45_pct.pg_22, pg_v_test_solar_wind_45_pct_pred_2.pg_22, squared = False)"
   ]
  },
  {
   "cell_type": "code",
   "execution_count": 26,
   "metadata": {},
   "outputs": [
    {
     "data": {
      "text/plain": [
       "0.0026638203659590507"
      ]
     },
     "execution_count": 26,
     "metadata": {},
     "output_type": "execute_result"
    }
   ],
   "source": [
    "mean_squared_error(pg_v_test_solar_wind_45_pct.pg_22, pg_v_test_solar_wind_45_pct_pred_3.pg_22, squared = False)"
   ]
  },
  {
   "cell_type": "markdown",
   "metadata": {},
   "source": [
    "##### RMSE of $P_{G_{25}}$ estimates"
   ]
  },
  {
   "cell_type": "code",
   "execution_count": 27,
   "metadata": {},
   "outputs": [
    {
     "data": {
      "text/plain": [
       "0.00010885776427362432"
      ]
     },
     "execution_count": 27,
     "metadata": {},
     "output_type": "execute_result"
    }
   ],
   "source": [
    "mean_squared_error(pg_v_test_solar_wind_45_pct.pg_25, pg_v_test_solar_wind_45_pct_pred_1.pg_25, squared = False)"
   ]
  },
  {
   "cell_type": "code",
   "execution_count": 28,
   "metadata": {},
   "outputs": [
    {
     "data": {
      "text/plain": [
       "0.0001536458038259203"
      ]
     },
     "execution_count": 28,
     "metadata": {},
     "output_type": "execute_result"
    }
   ],
   "source": [
    "mean_squared_error(pg_v_test_solar_wind_45_pct.pg_25, pg_v_test_solar_wind_45_pct_pred_2.pg_25, squared = False)"
   ]
  },
  {
   "cell_type": "code",
   "execution_count": 29,
   "metadata": {},
   "outputs": [
    {
     "data": {
      "text/plain": [
       "0.005661927172227479"
      ]
     },
     "execution_count": 29,
     "metadata": {},
     "output_type": "execute_result"
    }
   ],
   "source": [
    "mean_squared_error(pg_v_test_solar_wind_45_pct.pg_25, pg_v_test_solar_wind_45_pct_pred_3.pg_25, squared = False)"
   ]
  },
  {
   "cell_type": "markdown",
   "metadata": {},
   "source": [
    "##### RMSE of $P_{G_{33}}$ estimates"
   ]
  },
  {
   "cell_type": "code",
   "execution_count": 30,
   "metadata": {},
   "outputs": [
    {
     "data": {
      "text/plain": [
       "0.0019803045268953524"
      ]
     },
     "execution_count": 30,
     "metadata": {},
     "output_type": "execute_result"
    }
   ],
   "source": [
    "mean_squared_error(pg_v_test_solar_wind_45_pct.pg_33, pg_v_test_solar_wind_45_pct_pred_1.pg_33, squared = False)"
   ]
  },
  {
   "cell_type": "code",
   "execution_count": 31,
   "metadata": {},
   "outputs": [
    {
     "data": {
      "text/plain": [
       "0.0003111619336120073"
      ]
     },
     "execution_count": 31,
     "metadata": {},
     "output_type": "execute_result"
    }
   ],
   "source": [
    "mean_squared_error(pg_v_test_solar_wind_45_pct.pg_33, pg_v_test_solar_wind_45_pct_pred_2.pg_33, squared = False)"
   ]
  },
  {
   "cell_type": "code",
   "execution_count": 32,
   "metadata": {},
   "outputs": [
    {
     "data": {
      "text/plain": [
       "0.0049178989639441315"
      ]
     },
     "execution_count": 32,
     "metadata": {},
     "output_type": "execute_result"
    }
   ],
   "source": [
    "mean_squared_error(pg_v_test_solar_wind_45_pct.pg_33, pg_v_test_solar_wind_45_pct_pred_3.pg_33, squared = False)"
   ]
  },
  {
   "cell_type": "markdown",
   "metadata": {},
   "source": [
    "##### RMSE of $V_{18}$ estimates"
   ]
  },
  {
   "cell_type": "code",
   "execution_count": 33,
   "metadata": {},
   "outputs": [
    {
     "data": {
      "text/plain": [
       "0.0008491389191304605"
      ]
     },
     "execution_count": 33,
     "metadata": {},
     "output_type": "execute_result"
    }
   ],
   "source": [
    "mean_squared_error(pg_v_test_solar_wind_45_pct.v_18, pg_v_test_solar_wind_45_pct_pred_1.v_18, squared = False)"
   ]
  },
  {
   "cell_type": "code",
   "execution_count": 34,
   "metadata": {},
   "outputs": [
    {
     "data": {
      "text/plain": [
       "0.0005108811418438065"
      ]
     },
     "execution_count": 34,
     "metadata": {},
     "output_type": "execute_result"
    }
   ],
   "source": [
    "mean_squared_error(pg_v_test_solar_wind_45_pct.v_18, pg_v_test_solar_wind_45_pct_pred_2.v_18, squared = False)"
   ]
  },
  {
   "cell_type": "code",
   "execution_count": 35,
   "metadata": {},
   "outputs": [
    {
     "data": {
      "text/plain": [
       "0.005699819553599235"
      ]
     },
     "execution_count": 35,
     "metadata": {},
     "output_type": "execute_result"
    }
   ],
   "source": [
    "mean_squared_error(pg_v_test_solar_wind_45_pct.v_18, pg_v_test_solar_wind_45_pct_pred_3.v_18, squared = False)"
   ]
  },
  {
   "cell_type": "markdown",
   "metadata": {},
   "source": [
    "##### RMSE of $V_{22}$ estimates"
   ]
  },
  {
   "cell_type": "code",
   "execution_count": 36,
   "metadata": {},
   "outputs": [
    {
     "data": {
      "text/plain": [
       "0.0003186210702204376"
      ]
     },
     "execution_count": 36,
     "metadata": {},
     "output_type": "execute_result"
    }
   ],
   "source": [
    "mean_squared_error(pg_v_test_solar_wind_45_pct.v_22, pg_v_test_solar_wind_45_pct_pred_1.v_22, squared = False)"
   ]
  },
  {
   "cell_type": "code",
   "execution_count": 37,
   "metadata": {},
   "outputs": [
    {
     "data": {
      "text/plain": [
       "0.0001616747330190258"
      ]
     },
     "execution_count": 37,
     "metadata": {},
     "output_type": "execute_result"
    }
   ],
   "source": [
    "mean_squared_error(pg_v_test_solar_wind_45_pct.v_22, pg_v_test_solar_wind_45_pct_pred_2.v_22, squared = False)"
   ]
  },
  {
   "cell_type": "code",
   "execution_count": 38,
   "metadata": {},
   "outputs": [
    {
     "data": {
      "text/plain": [
       "0.0025957279937287767"
      ]
     },
     "execution_count": 38,
     "metadata": {},
     "output_type": "execute_result"
    }
   ],
   "source": [
    "mean_squared_error(pg_v_test_solar_wind_45_pct.v_22, pg_v_test_solar_wind_45_pct_pred_3.v_22, squared = False)"
   ]
  },
  {
   "cell_type": "markdown",
   "metadata": {},
   "source": [
    "##### RMSE of $V_{25}$ estimates"
   ]
  },
  {
   "cell_type": "code",
   "execution_count": 39,
   "metadata": {},
   "outputs": [
    {
     "data": {
      "text/plain": [
       "0.00041659205559242235"
      ]
     },
     "execution_count": 39,
     "metadata": {},
     "output_type": "execute_result"
    }
   ],
   "source": [
    "mean_squared_error(pg_v_test_solar_wind_45_pct.v_25, pg_v_test_solar_wind_45_pct_pred_1.v_25, squared = False)"
   ]
  },
  {
   "cell_type": "code",
   "execution_count": 40,
   "metadata": {},
   "outputs": [
    {
     "data": {
      "text/plain": [
       "0.00047222240592793586"
      ]
     },
     "execution_count": 40,
     "metadata": {},
     "output_type": "execute_result"
    }
   ],
   "source": [
    "mean_squared_error(pg_v_test_solar_wind_45_pct.v_25, pg_v_test_solar_wind_45_pct_pred_2.v_25, squared = False)"
   ]
  },
  {
   "cell_type": "code",
   "execution_count": 41,
   "metadata": {},
   "outputs": [
    {
     "data": {
      "text/plain": [
       "0.0064049104525385255"
      ]
     },
     "execution_count": 41,
     "metadata": {},
     "output_type": "execute_result"
    }
   ],
   "source": [
    "mean_squared_error(pg_v_test_solar_wind_45_pct.v_25, pg_v_test_solar_wind_45_pct_pred_3.v_25, squared = False)"
   ]
  },
  {
   "cell_type": "markdown",
   "metadata": {},
   "source": [
    "##### RMSE of $V_{33}$ estimates"
   ]
  },
  {
   "cell_type": "code",
   "execution_count": 42,
   "metadata": {},
   "outputs": [
    {
     "data": {
      "text/plain": [
       "0.0007035616717975735"
      ]
     },
     "execution_count": 42,
     "metadata": {},
     "output_type": "execute_result"
    }
   ],
   "source": [
    "mean_squared_error(pg_v_test_solar_wind_45_pct.v_33, pg_v_test_solar_wind_45_pct_pred_1.v_33, squared = False)"
   ]
  },
  {
   "cell_type": "code",
   "execution_count": 43,
   "metadata": {},
   "outputs": [
    {
     "data": {
      "text/plain": [
       "0.00017792819454777104"
      ]
     },
     "execution_count": 43,
     "metadata": {},
     "output_type": "execute_result"
    }
   ],
   "source": [
    "mean_squared_error(pg_v_test_solar_wind_45_pct.v_33, pg_v_test_solar_wind_45_pct_pred_2.v_33, squared = False)"
   ]
  },
  {
   "cell_type": "code",
   "execution_count": 44,
   "metadata": {},
   "outputs": [
    {
     "data": {
      "text/plain": [
       "0.0012121992954921064"
      ]
     },
     "execution_count": 44,
     "metadata": {},
     "output_type": "execute_result"
    }
   ],
   "source": [
    "mean_squared_error(pg_v_test_solar_wind_45_pct.v_33, pg_v_test_solar_wind_45_pct_pred_3.v_33, squared = False)"
   ]
  },
  {
   "cell_type": "code",
   "execution_count": null,
   "metadata": {},
   "outputs": [],
   "source": []
  },
  {
   "cell_type": "code",
   "execution_count": null,
   "metadata": {},
   "outputs": [],
   "source": []
  },
  {
   "cell_type": "code",
   "execution_count": null,
   "metadata": {},
   "outputs": [],
   "source": []
  }
 ],
 "metadata": {
  "kernelspec": {
   "display_name": "Python 3",
   "language": "python",
   "name": "python3"
  },
  "language_info": {
   "codemirror_mode": {
    "name": "ipython",
    "version": 3
   },
   "file_extension": ".py",
   "mimetype": "text/x-python",
   "name": "python",
   "nbconvert_exporter": "python",
   "pygments_lexer": "ipython3",
   "version": "3.8.5"
  }
 },
 "nbformat": 4,
 "nbformat_minor": 4
}
