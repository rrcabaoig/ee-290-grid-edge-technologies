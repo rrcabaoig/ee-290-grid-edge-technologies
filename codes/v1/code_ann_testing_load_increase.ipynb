{
 "cells": [
  {
   "cell_type": "markdown",
   "metadata": {},
   "source": [
    "### Import libraries"
   ]
  },
  {
   "cell_type": "code",
   "execution_count": 1,
   "metadata": {},
   "outputs": [],
   "source": [
    "import pandas as pd\n",
    "import os\n",
    "from tensorflow.keras.models import load_model\n",
    "from sklearn.metrics import mean_squared_error"
   ]
  },
  {
   "cell_type": "markdown",
   "metadata": {},
   "source": [
    "### Set the data repository as the working directory "
   ]
  },
  {
   "cell_type": "code",
   "execution_count": 2,
   "metadata": {},
   "outputs": [
    {
     "name": "stdout",
     "output_type": "stream",
     "text": [
      "C:\\Users\\Asus\\Documents\\College\\UP - MS EE\\SY 2022-2023 Second Semester (temporary, final files in new laptop)\\EE 290\\Files (NEW May 31) TG 1 2 3\\codes\n"
     ]
    }
   ],
   "source": [
    "print(os.path.abspath(os.curdir))"
   ]
  },
  {
   "cell_type": "code",
   "execution_count": 3,
   "metadata": {},
   "outputs": [
    {
     "name": "stdout",
     "output_type": "stream",
     "text": [
      "C:\\Users\\Asus\\Documents\\College\\UP - MS EE\\SY 2022-2023 Second Semester (temporary, final files in new laptop)\\EE 290\\Files (NEW May 31) TG 1 2 3\\data\n"
     ]
    }
   ],
   "source": [
    "os.chdir(\"../data\")\n",
    "print(os.path.abspath(os.curdir))"
   ]
  },
  {
   "cell_type": "markdown",
   "metadata": {},
   "source": [
    "### Import the test set (increase in load)"
   ]
  },
  {
   "cell_type": "markdown",
   "metadata": {},
   "source": [
    "##### Test set (increase in load)"
   ]
  },
  {
   "cell_type": "code",
   "execution_count": 4,
   "metadata": {
    "scrolled": true
   },
   "outputs": [
    {
     "data": {
      "text/html": [
       "<div>\n",
       "<style scoped>\n",
       "    .dataframe tbody tr th:only-of-type {\n",
       "        vertical-align: middle;\n",
       "    }\n",
       "\n",
       "    .dataframe tbody tr th {\n",
       "        vertical-align: top;\n",
       "    }\n",
       "\n",
       "    .dataframe thead th {\n",
       "        text-align: right;\n",
       "    }\n",
       "</style>\n",
       "<table border=\"1\" class=\"dataframe\">\n",
       "  <thead>\n",
       "    <tr style=\"text-align: right;\">\n",
       "      <th></th>\n",
       "      <th>scenario</th>\n",
       "      <th>pd_2</th>\n",
       "      <th>qd_2</th>\n",
       "      <th>pd_3</th>\n",
       "      <th>qd_3</th>\n",
       "      <th>pd_4</th>\n",
       "      <th>qd_4</th>\n",
       "      <th>pd_5</th>\n",
       "      <th>qd_5</th>\n",
       "      <th>pd_6</th>\n",
       "      <th>...</th>\n",
       "      <th>pd_29</th>\n",
       "      <th>qd_29</th>\n",
       "      <th>pd_30</th>\n",
       "      <th>qd_30</th>\n",
       "      <th>pd_31</th>\n",
       "      <th>qd_31</th>\n",
       "      <th>pd_32</th>\n",
       "      <th>qd_32</th>\n",
       "      <th>pd_33</th>\n",
       "      <th>qd_33</th>\n",
       "    </tr>\n",
       "  </thead>\n",
       "  <tbody>\n",
       "    <tr>\n",
       "      <th>0</th>\n",
       "      <td>1</td>\n",
       "      <td>0.102095</td>\n",
       "      <td>0.021776</td>\n",
       "      <td>0.089378</td>\n",
       "      <td>0.004000</td>\n",
       "      <td>0.117751</td>\n",
       "      <td>0.058026</td>\n",
       "      <td>0.058975</td>\n",
       "      <td>0.032789</td>\n",
       "      <td>0.058938</td>\n",
       "      <td>...</td>\n",
       "      <td>0.118753</td>\n",
       "      <td>0.087211</td>\n",
       "      <td>0.197275</td>\n",
       "      <td>0.112329</td>\n",
       "      <td>0.147804</td>\n",
       "      <td>0.044803</td>\n",
       "      <td>0.213795</td>\n",
       "      <td>0.089132</td>\n",
       "      <td>0.061060</td>\n",
       "      <td>0.030773</td>\n",
       "    </tr>\n",
       "    <tr>\n",
       "      <th>1</th>\n",
       "      <td>2</td>\n",
       "      <td>0.098302</td>\n",
       "      <td>0.017799</td>\n",
       "      <td>0.089865</td>\n",
       "      <td>0.065295</td>\n",
       "      <td>0.117826</td>\n",
       "      <td>0.067090</td>\n",
       "      <td>0.060564</td>\n",
       "      <td>0.021982</td>\n",
       "      <td>0.060701</td>\n",
       "      <td>...</td>\n",
       "      <td>0.120286</td>\n",
       "      <td>0.071373</td>\n",
       "      <td>0.200025</td>\n",
       "      <td>0.138059</td>\n",
       "      <td>0.149505</td>\n",
       "      <td>0.092262</td>\n",
       "      <td>0.209256</td>\n",
       "      <td>0.040249</td>\n",
       "      <td>0.060760</td>\n",
       "      <td>0.037496</td>\n",
       "    </tr>\n",
       "    <tr>\n",
       "      <th>2</th>\n",
       "      <td>3</td>\n",
       "      <td>0.102045</td>\n",
       "      <td>0.053405</td>\n",
       "      <td>0.091226</td>\n",
       "      <td>0.017547</td>\n",
       "      <td>0.118231</td>\n",
       "      <td>0.067638</td>\n",
       "      <td>0.059846</td>\n",
       "      <td>0.012462</td>\n",
       "      <td>0.061008</td>\n",
       "      <td>...</td>\n",
       "      <td>0.119919</td>\n",
       "      <td>0.082146</td>\n",
       "      <td>0.203486</td>\n",
       "      <td>0.090325</td>\n",
       "      <td>0.147832</td>\n",
       "      <td>0.070759</td>\n",
       "      <td>0.211334</td>\n",
       "      <td>0.054787</td>\n",
       "      <td>0.059075</td>\n",
       "      <td>0.018565</td>\n",
       "    </tr>\n",
       "    <tr>\n",
       "      <th>3</th>\n",
       "      <td>4</td>\n",
       "      <td>0.098905</td>\n",
       "      <td>0.048181</td>\n",
       "      <td>0.089883</td>\n",
       "      <td>0.059231</td>\n",
       "      <td>0.122257</td>\n",
       "      <td>0.086289</td>\n",
       "      <td>0.059353</td>\n",
       "      <td>0.032839</td>\n",
       "      <td>0.058532</td>\n",
       "      <td>...</td>\n",
       "      <td>0.122064</td>\n",
       "      <td>0.085835</td>\n",
       "      <td>0.200333</td>\n",
       "      <td>0.075987</td>\n",
       "      <td>0.148417</td>\n",
       "      <td>0.088458</td>\n",
       "      <td>0.210222</td>\n",
       "      <td>0.128625</td>\n",
       "      <td>0.059598</td>\n",
       "      <td>0.037873</td>\n",
       "    </tr>\n",
       "    <tr>\n",
       "      <th>4</th>\n",
       "      <td>5</td>\n",
       "      <td>0.099208</td>\n",
       "      <td>0.056224</td>\n",
       "      <td>0.089409</td>\n",
       "      <td>0.061711</td>\n",
       "      <td>0.120511</td>\n",
       "      <td>0.066026</td>\n",
       "      <td>0.059441</td>\n",
       "      <td>0.032405</td>\n",
       "      <td>0.059714</td>\n",
       "      <td>...</td>\n",
       "      <td>0.119327</td>\n",
       "      <td>0.087632</td>\n",
       "      <td>0.198470</td>\n",
       "      <td>0.106042</td>\n",
       "      <td>0.147544</td>\n",
       "      <td>0.100686</td>\n",
       "      <td>0.208752</td>\n",
       "      <td>0.088297</td>\n",
       "      <td>0.061241</td>\n",
       "      <td>0.005494</td>\n",
       "    </tr>\n",
       "  </tbody>\n",
       "</table>\n",
       "<p>5 rows × 65 columns</p>\n",
       "</div>"
      ],
      "text/plain": [
       "   scenario      pd_2      qd_2      pd_3      qd_3      pd_4      qd_4  \\\n",
       "0         1  0.102095  0.021776  0.089378  0.004000  0.117751  0.058026   \n",
       "1         2  0.098302  0.017799  0.089865  0.065295  0.117826  0.067090   \n",
       "2         3  0.102045  0.053405  0.091226  0.017547  0.118231  0.067638   \n",
       "3         4  0.098905  0.048181  0.089883  0.059231  0.122257  0.086289   \n",
       "4         5  0.099208  0.056224  0.089409  0.061711  0.120511  0.066026   \n",
       "\n",
       "       pd_5      qd_5      pd_6  ...     pd_29     qd_29     pd_30     qd_30  \\\n",
       "0  0.058975  0.032789  0.058938  ...  0.118753  0.087211  0.197275  0.112329   \n",
       "1  0.060564  0.021982  0.060701  ...  0.120286  0.071373  0.200025  0.138059   \n",
       "2  0.059846  0.012462  0.061008  ...  0.119919  0.082146  0.203486  0.090325   \n",
       "3  0.059353  0.032839  0.058532  ...  0.122064  0.085835  0.200333  0.075987   \n",
       "4  0.059441  0.032405  0.059714  ...  0.119327  0.087632  0.198470  0.106042   \n",
       "\n",
       "      pd_31     qd_31     pd_32     qd_32     pd_33     qd_33  \n",
       "0  0.147804  0.044803  0.213795  0.089132  0.061060  0.030773  \n",
       "1  0.149505  0.092262  0.209256  0.040249  0.060760  0.037496  \n",
       "2  0.147832  0.070759  0.211334  0.054787  0.059075  0.018565  \n",
       "3  0.148417  0.088458  0.210222  0.128625  0.059598  0.037873  \n",
       "4  0.147544  0.100686  0.208752  0.088297  0.061241  0.005494  \n",
       "\n",
       "[5 rows x 65 columns]"
      ]
     },
     "execution_count": 4,
     "metadata": {},
     "output_type": "execute_result"
    }
   ],
   "source": [
    "pd_qd_test_load_increase = pd.read_csv('pd_qd_test_load_increase.csv')\n",
    "pd_qd_test_load_increase.head()"
   ]
  },
  {
   "cell_type": "code",
   "execution_count": 5,
   "metadata": {},
   "outputs": [
    {
     "data": {
      "text/html": [
       "<div>\n",
       "<style scoped>\n",
       "    .dataframe tbody tr th:only-of-type {\n",
       "        vertical-align: middle;\n",
       "    }\n",
       "\n",
       "    .dataframe tbody tr th {\n",
       "        vertical-align: top;\n",
       "    }\n",
       "\n",
       "    .dataframe thead th {\n",
       "        text-align: right;\n",
       "    }\n",
       "</style>\n",
       "<table border=\"1\" class=\"dataframe\">\n",
       "  <thead>\n",
       "    <tr style=\"text-align: right;\">\n",
       "      <th></th>\n",
       "      <th>scenario</th>\n",
       "      <th>pg_1</th>\n",
       "      <th>pg_18</th>\n",
       "      <th>v_18</th>\n",
       "      <th>pg_22</th>\n",
       "      <th>v_22</th>\n",
       "      <th>pg_25</th>\n",
       "      <th>v_25</th>\n",
       "      <th>pg_33</th>\n",
       "      <th>v_33</th>\n",
       "    </tr>\n",
       "  </thead>\n",
       "  <tbody>\n",
       "    <tr>\n",
       "      <th>0</th>\n",
       "      <td>1</td>\n",
       "      <td>1.763048</td>\n",
       "      <td>0.499980</td>\n",
       "      <td>0.995820</td>\n",
       "      <td>0.499975</td>\n",
       "      <td>1.003092</td>\n",
       "      <td>0.499979</td>\n",
       "      <td>0.988517</td>\n",
       "      <td>0.499981</td>\n",
       "      <td>0.986707</td>\n",
       "    </tr>\n",
       "    <tr>\n",
       "      <th>1</th>\n",
       "      <td>2</td>\n",
       "      <td>1.737040</td>\n",
       "      <td>0.499980</td>\n",
       "      <td>0.995817</td>\n",
       "      <td>0.499975</td>\n",
       "      <td>1.002406</td>\n",
       "      <td>0.499979</td>\n",
       "      <td>0.987031</td>\n",
       "      <td>0.499982</td>\n",
       "      <td>0.986740</td>\n",
       "    </tr>\n",
       "    <tr>\n",
       "      <th>2</th>\n",
       "      <td>3</td>\n",
       "      <td>1.764525</td>\n",
       "      <td>0.499980</td>\n",
       "      <td>0.993074</td>\n",
       "      <td>0.499976</td>\n",
       "      <td>1.001879</td>\n",
       "      <td>0.499979</td>\n",
       "      <td>0.986218</td>\n",
       "      <td>0.499982</td>\n",
       "      <td>0.986738</td>\n",
       "    </tr>\n",
       "    <tr>\n",
       "      <th>3</th>\n",
       "      <td>4</td>\n",
       "      <td>1.757166</td>\n",
       "      <td>0.499975</td>\n",
       "      <td>0.992044</td>\n",
       "      <td>0.499971</td>\n",
       "      <td>1.002813</td>\n",
       "      <td>0.499974</td>\n",
       "      <td>0.984583</td>\n",
       "      <td>0.499978</td>\n",
       "      <td>0.983328</td>\n",
       "    </tr>\n",
       "    <tr>\n",
       "      <th>4</th>\n",
       "      <td>5</td>\n",
       "      <td>1.749419</td>\n",
       "      <td>0.499975</td>\n",
       "      <td>0.994683</td>\n",
       "      <td>0.499971</td>\n",
       "      <td>1.001771</td>\n",
       "      <td>0.499974</td>\n",
       "      <td>0.985633</td>\n",
       "      <td>0.499978</td>\n",
       "      <td>0.986264</td>\n",
       "    </tr>\n",
       "  </tbody>\n",
       "</table>\n",
       "</div>"
      ],
      "text/plain": [
       "   scenario      pg_1     pg_18      v_18     pg_22      v_22     pg_25  \\\n",
       "0         1  1.763048  0.499980  0.995820  0.499975  1.003092  0.499979   \n",
       "1         2  1.737040  0.499980  0.995817  0.499975  1.002406  0.499979   \n",
       "2         3  1.764525  0.499980  0.993074  0.499976  1.001879  0.499979   \n",
       "3         4  1.757166  0.499975  0.992044  0.499971  1.002813  0.499974   \n",
       "4         5  1.749419  0.499975  0.994683  0.499971  1.001771  0.499974   \n",
       "\n",
       "       v_25     pg_33      v_33  \n",
       "0  0.988517  0.499981  0.986707  \n",
       "1  0.987031  0.499982  0.986740  \n",
       "2  0.986218  0.499982  0.986738  \n",
       "3  0.984583  0.499978  0.983328  \n",
       "4  0.985633  0.499978  0.986264  "
      ]
     },
     "execution_count": 5,
     "metadata": {},
     "output_type": "execute_result"
    }
   ],
   "source": [
    "pg_v_test_load_increase = pd.read_csv('pg_v_test_load_increase.csv')\n",
    "pg_v_test_load_increase.head()"
   ]
  },
  {
   "cell_type": "markdown",
   "metadata": {},
   "source": [
    "### Separate the dependent variables (optimal generator setpoints) and the independent variables (non-dispatchable loads)\n",
    "Non-dispatchable loads: $x = (P_{D_{i}},Q_{D_{i}})\\forall i\\in \\Omega_{D}$\n",
    "<br>\n",
    "Optimal generator setpoints: $y = (P_{G_{j}},V_{j})\\forall j\\in \\Omega_{G}$"
   ]
  },
  {
   "cell_type": "markdown",
   "metadata": {},
   "source": [
    "##### Test set (increase in load)"
   ]
  },
  {
   "cell_type": "code",
   "execution_count": 6,
   "metadata": {},
   "outputs": [
    {
     "data": {
      "text/html": [
       "<div>\n",
       "<style scoped>\n",
       "    .dataframe tbody tr th:only-of-type {\n",
       "        vertical-align: middle;\n",
       "    }\n",
       "\n",
       "    .dataframe tbody tr th {\n",
       "        vertical-align: top;\n",
       "    }\n",
       "\n",
       "    .dataframe thead th {\n",
       "        text-align: right;\n",
       "    }\n",
       "</style>\n",
       "<table border=\"1\" class=\"dataframe\">\n",
       "  <thead>\n",
       "    <tr style=\"text-align: right;\">\n",
       "      <th></th>\n",
       "      <th>pd_2</th>\n",
       "      <th>qd_2</th>\n",
       "      <th>pd_3</th>\n",
       "      <th>qd_3</th>\n",
       "      <th>pd_4</th>\n",
       "      <th>qd_4</th>\n",
       "      <th>pd_5</th>\n",
       "      <th>qd_5</th>\n",
       "      <th>pd_6</th>\n",
       "      <th>qd_6</th>\n",
       "      <th>...</th>\n",
       "      <th>pd_29</th>\n",
       "      <th>qd_29</th>\n",
       "      <th>pd_30</th>\n",
       "      <th>qd_30</th>\n",
       "      <th>pd_31</th>\n",
       "      <th>qd_31</th>\n",
       "      <th>pd_32</th>\n",
       "      <th>qd_32</th>\n",
       "      <th>pd_33</th>\n",
       "      <th>qd_33</th>\n",
       "    </tr>\n",
       "  </thead>\n",
       "  <tbody>\n",
       "    <tr>\n",
       "      <th>0</th>\n",
       "      <td>0.102095</td>\n",
       "      <td>0.021776</td>\n",
       "      <td>0.089378</td>\n",
       "      <td>0.004000</td>\n",
       "      <td>0.117751</td>\n",
       "      <td>0.058026</td>\n",
       "      <td>0.058975</td>\n",
       "      <td>0.032789</td>\n",
       "      <td>0.058938</td>\n",
       "      <td>0.028712</td>\n",
       "      <td>...</td>\n",
       "      <td>0.118753</td>\n",
       "      <td>0.087211</td>\n",
       "      <td>0.197275</td>\n",
       "      <td>0.112329</td>\n",
       "      <td>0.147804</td>\n",
       "      <td>0.044803</td>\n",
       "      <td>0.213795</td>\n",
       "      <td>0.089132</td>\n",
       "      <td>0.061060</td>\n",
       "      <td>0.030773</td>\n",
       "    </tr>\n",
       "    <tr>\n",
       "      <th>1</th>\n",
       "      <td>0.098302</td>\n",
       "      <td>0.017799</td>\n",
       "      <td>0.089865</td>\n",
       "      <td>0.065295</td>\n",
       "      <td>0.117826</td>\n",
       "      <td>0.067090</td>\n",
       "      <td>0.060564</td>\n",
       "      <td>0.021982</td>\n",
       "      <td>0.060701</td>\n",
       "      <td>0.027302</td>\n",
       "      <td>...</td>\n",
       "      <td>0.120286</td>\n",
       "      <td>0.071373</td>\n",
       "      <td>0.200025</td>\n",
       "      <td>0.138059</td>\n",
       "      <td>0.149505</td>\n",
       "      <td>0.092262</td>\n",
       "      <td>0.209256</td>\n",
       "      <td>0.040249</td>\n",
       "      <td>0.060760</td>\n",
       "      <td>0.037496</td>\n",
       "    </tr>\n",
       "    <tr>\n",
       "      <th>2</th>\n",
       "      <td>0.102045</td>\n",
       "      <td>0.053405</td>\n",
       "      <td>0.091226</td>\n",
       "      <td>0.017547</td>\n",
       "      <td>0.118231</td>\n",
       "      <td>0.067638</td>\n",
       "      <td>0.059846</td>\n",
       "      <td>0.012462</td>\n",
       "      <td>0.061008</td>\n",
       "      <td>0.017794</td>\n",
       "      <td>...</td>\n",
       "      <td>0.119919</td>\n",
       "      <td>0.082146</td>\n",
       "      <td>0.203486</td>\n",
       "      <td>0.090325</td>\n",
       "      <td>0.147832</td>\n",
       "      <td>0.070759</td>\n",
       "      <td>0.211334</td>\n",
       "      <td>0.054787</td>\n",
       "      <td>0.059075</td>\n",
       "      <td>0.018565</td>\n",
       "    </tr>\n",
       "    <tr>\n",
       "      <th>3</th>\n",
       "      <td>0.098905</td>\n",
       "      <td>0.048181</td>\n",
       "      <td>0.089883</td>\n",
       "      <td>0.059231</td>\n",
       "      <td>0.122257</td>\n",
       "      <td>0.086289</td>\n",
       "      <td>0.059353</td>\n",
       "      <td>0.032839</td>\n",
       "      <td>0.058532</td>\n",
       "      <td>0.028844</td>\n",
       "      <td>...</td>\n",
       "      <td>0.122064</td>\n",
       "      <td>0.085835</td>\n",
       "      <td>0.200333</td>\n",
       "      <td>0.075987</td>\n",
       "      <td>0.148417</td>\n",
       "      <td>0.088458</td>\n",
       "      <td>0.210222</td>\n",
       "      <td>0.128625</td>\n",
       "      <td>0.059598</td>\n",
       "      <td>0.037873</td>\n",
       "    </tr>\n",
       "    <tr>\n",
       "      <th>4</th>\n",
       "      <td>0.099208</td>\n",
       "      <td>0.056224</td>\n",
       "      <td>0.089409</td>\n",
       "      <td>0.061711</td>\n",
       "      <td>0.120511</td>\n",
       "      <td>0.066026</td>\n",
       "      <td>0.059441</td>\n",
       "      <td>0.032405</td>\n",
       "      <td>0.059714</td>\n",
       "      <td>0.012434</td>\n",
       "      <td>...</td>\n",
       "      <td>0.119327</td>\n",
       "      <td>0.087632</td>\n",
       "      <td>0.198470</td>\n",
       "      <td>0.106042</td>\n",
       "      <td>0.147544</td>\n",
       "      <td>0.100686</td>\n",
       "      <td>0.208752</td>\n",
       "      <td>0.088297</td>\n",
       "      <td>0.061241</td>\n",
       "      <td>0.005494</td>\n",
       "    </tr>\n",
       "  </tbody>\n",
       "</table>\n",
       "<p>5 rows × 64 columns</p>\n",
       "</div>"
      ],
      "text/plain": [
       "       pd_2      qd_2      pd_3      qd_3      pd_4      qd_4      pd_5  \\\n",
       "0  0.102095  0.021776  0.089378  0.004000  0.117751  0.058026  0.058975   \n",
       "1  0.098302  0.017799  0.089865  0.065295  0.117826  0.067090  0.060564   \n",
       "2  0.102045  0.053405  0.091226  0.017547  0.118231  0.067638  0.059846   \n",
       "3  0.098905  0.048181  0.089883  0.059231  0.122257  0.086289  0.059353   \n",
       "4  0.099208  0.056224  0.089409  0.061711  0.120511  0.066026  0.059441   \n",
       "\n",
       "       qd_5      pd_6      qd_6  ...     pd_29     qd_29     pd_30     qd_30  \\\n",
       "0  0.032789  0.058938  0.028712  ...  0.118753  0.087211  0.197275  0.112329   \n",
       "1  0.021982  0.060701  0.027302  ...  0.120286  0.071373  0.200025  0.138059   \n",
       "2  0.012462  0.061008  0.017794  ...  0.119919  0.082146  0.203486  0.090325   \n",
       "3  0.032839  0.058532  0.028844  ...  0.122064  0.085835  0.200333  0.075987   \n",
       "4  0.032405  0.059714  0.012434  ...  0.119327  0.087632  0.198470  0.106042   \n",
       "\n",
       "      pd_31     qd_31     pd_32     qd_32     pd_33     qd_33  \n",
       "0  0.147804  0.044803  0.213795  0.089132  0.061060  0.030773  \n",
       "1  0.149505  0.092262  0.209256  0.040249  0.060760  0.037496  \n",
       "2  0.147832  0.070759  0.211334  0.054787  0.059075  0.018565  \n",
       "3  0.148417  0.088458  0.210222  0.128625  0.059598  0.037873  \n",
       "4  0.147544  0.100686  0.208752  0.088297  0.061241  0.005494  \n",
       "\n",
       "[5 rows x 64 columns]"
      ]
     },
     "execution_count": 6,
     "metadata": {},
     "output_type": "execute_result"
    }
   ],
   "source": [
    "x_test_load_increase = pd_qd_test_load_increase.loc[:, pd_qd_test_load_increase.columns != 'scenario']\n",
    "x_test_load_increase.head()"
   ]
  },
  {
   "cell_type": "code",
   "execution_count": 7,
   "metadata": {},
   "outputs": [
    {
     "data": {
      "text/html": [
       "<div>\n",
       "<style scoped>\n",
       "    .dataframe tbody tr th:only-of-type {\n",
       "        vertical-align: middle;\n",
       "    }\n",
       "\n",
       "    .dataframe tbody tr th {\n",
       "        vertical-align: top;\n",
       "    }\n",
       "\n",
       "    .dataframe thead th {\n",
       "        text-align: right;\n",
       "    }\n",
       "</style>\n",
       "<table border=\"1\" class=\"dataframe\">\n",
       "  <thead>\n",
       "    <tr style=\"text-align: right;\">\n",
       "      <th></th>\n",
       "      <th>pg_1</th>\n",
       "      <th>pg_18</th>\n",
       "      <th>v_18</th>\n",
       "      <th>pg_22</th>\n",
       "      <th>v_22</th>\n",
       "      <th>pg_25</th>\n",
       "      <th>v_25</th>\n",
       "      <th>pg_33</th>\n",
       "      <th>v_33</th>\n",
       "    </tr>\n",
       "  </thead>\n",
       "  <tbody>\n",
       "    <tr>\n",
       "      <th>0</th>\n",
       "      <td>1.763048</td>\n",
       "      <td>0.499980</td>\n",
       "      <td>0.995820</td>\n",
       "      <td>0.499975</td>\n",
       "      <td>1.003092</td>\n",
       "      <td>0.499979</td>\n",
       "      <td>0.988517</td>\n",
       "      <td>0.499981</td>\n",
       "      <td>0.986707</td>\n",
       "    </tr>\n",
       "    <tr>\n",
       "      <th>1</th>\n",
       "      <td>1.737040</td>\n",
       "      <td>0.499980</td>\n",
       "      <td>0.995817</td>\n",
       "      <td>0.499975</td>\n",
       "      <td>1.002406</td>\n",
       "      <td>0.499979</td>\n",
       "      <td>0.987031</td>\n",
       "      <td>0.499982</td>\n",
       "      <td>0.986740</td>\n",
       "    </tr>\n",
       "    <tr>\n",
       "      <th>2</th>\n",
       "      <td>1.764525</td>\n",
       "      <td>0.499980</td>\n",
       "      <td>0.993074</td>\n",
       "      <td>0.499976</td>\n",
       "      <td>1.001879</td>\n",
       "      <td>0.499979</td>\n",
       "      <td>0.986218</td>\n",
       "      <td>0.499982</td>\n",
       "      <td>0.986738</td>\n",
       "    </tr>\n",
       "    <tr>\n",
       "      <th>3</th>\n",
       "      <td>1.757166</td>\n",
       "      <td>0.499975</td>\n",
       "      <td>0.992044</td>\n",
       "      <td>0.499971</td>\n",
       "      <td>1.002813</td>\n",
       "      <td>0.499974</td>\n",
       "      <td>0.984583</td>\n",
       "      <td>0.499978</td>\n",
       "      <td>0.983328</td>\n",
       "    </tr>\n",
       "    <tr>\n",
       "      <th>4</th>\n",
       "      <td>1.749419</td>\n",
       "      <td>0.499975</td>\n",
       "      <td>0.994683</td>\n",
       "      <td>0.499971</td>\n",
       "      <td>1.001771</td>\n",
       "      <td>0.499974</td>\n",
       "      <td>0.985633</td>\n",
       "      <td>0.499978</td>\n",
       "      <td>0.986264</td>\n",
       "    </tr>\n",
       "  </tbody>\n",
       "</table>\n",
       "</div>"
      ],
      "text/plain": [
       "       pg_1     pg_18      v_18     pg_22      v_22     pg_25      v_25  \\\n",
       "0  1.763048  0.499980  0.995820  0.499975  1.003092  0.499979  0.988517   \n",
       "1  1.737040  0.499980  0.995817  0.499975  1.002406  0.499979  0.987031   \n",
       "2  1.764525  0.499980  0.993074  0.499976  1.001879  0.499979  0.986218   \n",
       "3  1.757166  0.499975  0.992044  0.499971  1.002813  0.499974  0.984583   \n",
       "4  1.749419  0.499975  0.994683  0.499971  1.001771  0.499974  0.985633   \n",
       "\n",
       "      pg_33      v_33  \n",
       "0  0.499981  0.986707  \n",
       "1  0.499982  0.986740  \n",
       "2  0.499982  0.986738  \n",
       "3  0.499978  0.983328  \n",
       "4  0.499978  0.986264  "
      ]
     },
     "execution_count": 7,
     "metadata": {},
     "output_type": "execute_result"
    }
   ],
   "source": [
    "y_test_load_increase = pg_v_test_load_increase.loc[:, pg_v_test_load_increase.columns != 'scenario']\n",
    "y_test_load_increase.head()"
   ]
  },
  {
   "cell_type": "markdown",
   "metadata": {},
   "source": [
    "### Test the trained models on the test set (increase in load)"
   ]
  },
  {
   "cell_type": "code",
   "execution_count": 8,
   "metadata": {},
   "outputs": [],
   "source": [
    "model_1 = load_model('model_1.h5')\n",
    "model_2 = load_model('model_2.h5')\n",
    "model_3 = load_model('model_3.h5')"
   ]
  },
  {
   "cell_type": "markdown",
   "metadata": {},
   "source": [
    "##### Using model 1 that was trained using training group 1"
   ]
  },
  {
   "cell_type": "code",
   "execution_count": 9,
   "metadata": {},
   "outputs": [
    {
     "data": {
      "text/html": [
       "<div>\n",
       "<style scoped>\n",
       "    .dataframe tbody tr th:only-of-type {\n",
       "        vertical-align: middle;\n",
       "    }\n",
       "\n",
       "    .dataframe tbody tr th {\n",
       "        vertical-align: top;\n",
       "    }\n",
       "\n",
       "    .dataframe thead th {\n",
       "        text-align: right;\n",
       "    }\n",
       "</style>\n",
       "<table border=\"1\" class=\"dataframe\">\n",
       "  <thead>\n",
       "    <tr style=\"text-align: right;\">\n",
       "      <th></th>\n",
       "      <th>pg_1</th>\n",
       "      <th>pg_18</th>\n",
       "      <th>v_18</th>\n",
       "      <th>pg_22</th>\n",
       "      <th>v_22</th>\n",
       "      <th>pg_25</th>\n",
       "      <th>v_25</th>\n",
       "      <th>pg_33</th>\n",
       "      <th>v_33</th>\n",
       "    </tr>\n",
       "  </thead>\n",
       "  <tbody>\n",
       "    <tr>\n",
       "      <th>0</th>\n",
       "      <td>1.758103</td>\n",
       "      <td>0.503435</td>\n",
       "      <td>0.994450</td>\n",
       "      <td>0.498228</td>\n",
       "      <td>1.001049</td>\n",
       "      <td>0.498079</td>\n",
       "      <td>0.989166</td>\n",
       "      <td>0.500742</td>\n",
       "      <td>0.983483</td>\n",
       "    </tr>\n",
       "    <tr>\n",
       "      <th>1</th>\n",
       "      <td>1.730381</td>\n",
       "      <td>0.502246</td>\n",
       "      <td>0.995173</td>\n",
       "      <td>0.499606</td>\n",
       "      <td>1.001341</td>\n",
       "      <td>0.499537</td>\n",
       "      <td>0.988894</td>\n",
       "      <td>0.500680</td>\n",
       "      <td>0.985199</td>\n",
       "    </tr>\n",
       "    <tr>\n",
       "      <th>2</th>\n",
       "      <td>1.756925</td>\n",
       "      <td>0.502944</td>\n",
       "      <td>0.992318</td>\n",
       "      <td>0.498320</td>\n",
       "      <td>1.000921</td>\n",
       "      <td>0.496838</td>\n",
       "      <td>0.986820</td>\n",
       "      <td>0.500379</td>\n",
       "      <td>0.982871</td>\n",
       "    </tr>\n",
       "    <tr>\n",
       "      <th>3</th>\n",
       "      <td>1.749948</td>\n",
       "      <td>0.500576</td>\n",
       "      <td>0.992066</td>\n",
       "      <td>0.497719</td>\n",
       "      <td>1.002545</td>\n",
       "      <td>0.495299</td>\n",
       "      <td>0.981771</td>\n",
       "      <td>0.499674</td>\n",
       "      <td>0.980809</td>\n",
       "    </tr>\n",
       "    <tr>\n",
       "      <th>4</th>\n",
       "      <td>1.744508</td>\n",
       "      <td>0.501333</td>\n",
       "      <td>0.993760</td>\n",
       "      <td>0.498580</td>\n",
       "      <td>1.001633</td>\n",
       "      <td>0.497185</td>\n",
       "      <td>0.985005</td>\n",
       "      <td>0.499587</td>\n",
       "      <td>0.983420</td>\n",
       "    </tr>\n",
       "  </tbody>\n",
       "</table>\n",
       "</div>"
      ],
      "text/plain": [
       "       pg_1     pg_18      v_18     pg_22      v_22     pg_25      v_25  \\\n",
       "0  1.758103  0.503435  0.994450  0.498228  1.001049  0.498079  0.989166   \n",
       "1  1.730381  0.502246  0.995173  0.499606  1.001341  0.499537  0.988894   \n",
       "2  1.756925  0.502944  0.992318  0.498320  1.000921  0.496838  0.986820   \n",
       "3  1.749948  0.500576  0.992066  0.497719  1.002545  0.495299  0.981771   \n",
       "4  1.744508  0.501333  0.993760  0.498580  1.001633  0.497185  0.985005   \n",
       "\n",
       "      pg_33      v_33  \n",
       "0  0.500742  0.983483  \n",
       "1  0.500680  0.985199  \n",
       "2  0.500379  0.982871  \n",
       "3  0.499674  0.980809  \n",
       "4  0.499587  0.983420  "
      ]
     },
     "execution_count": 9,
     "metadata": {},
     "output_type": "execute_result"
    }
   ],
   "source": [
    "y_test_load_increase_pred_1 = model_1.predict(x_test_load_increase)\n",
    "y_test_load_increase_pred_1 = pd.DataFrame(data = y_test_load_increase_pred_1,\n",
    "                                 columns = ['pg_1', 'pg_18', 'v_18', 'pg_22', 'v_22', 'pg_25', 'v_25', 'pg_33', 'v_33'])\n",
    "y_test_load_increase_pred_1.head()"
   ]
  },
  {
   "cell_type": "code",
   "execution_count": 10,
   "metadata": {},
   "outputs": [
    {
     "data": {
      "text/html": [
       "<div>\n",
       "<style scoped>\n",
       "    .dataframe tbody tr th:only-of-type {\n",
       "        vertical-align: middle;\n",
       "    }\n",
       "\n",
       "    .dataframe tbody tr th {\n",
       "        vertical-align: top;\n",
       "    }\n",
       "\n",
       "    .dataframe thead th {\n",
       "        text-align: right;\n",
       "    }\n",
       "</style>\n",
       "<table border=\"1\" class=\"dataframe\">\n",
       "  <thead>\n",
       "    <tr style=\"text-align: right;\">\n",
       "      <th></th>\n",
       "      <th>scenario</th>\n",
       "      <th>pg_1</th>\n",
       "      <th>pg_18</th>\n",
       "      <th>v_18</th>\n",
       "      <th>pg_22</th>\n",
       "      <th>v_22</th>\n",
       "      <th>pg_25</th>\n",
       "      <th>v_25</th>\n",
       "      <th>pg_33</th>\n",
       "      <th>v_33</th>\n",
       "    </tr>\n",
       "  </thead>\n",
       "  <tbody>\n",
       "    <tr>\n",
       "      <th>0</th>\n",
       "      <td>1</td>\n",
       "      <td>1.758103</td>\n",
       "      <td>0.503435</td>\n",
       "      <td>0.994450</td>\n",
       "      <td>0.498228</td>\n",
       "      <td>1.001049</td>\n",
       "      <td>0.498079</td>\n",
       "      <td>0.989166</td>\n",
       "      <td>0.500742</td>\n",
       "      <td>0.983483</td>\n",
       "    </tr>\n",
       "    <tr>\n",
       "      <th>1</th>\n",
       "      <td>2</td>\n",
       "      <td>1.730381</td>\n",
       "      <td>0.502246</td>\n",
       "      <td>0.995173</td>\n",
       "      <td>0.499606</td>\n",
       "      <td>1.001341</td>\n",
       "      <td>0.499537</td>\n",
       "      <td>0.988894</td>\n",
       "      <td>0.500680</td>\n",
       "      <td>0.985199</td>\n",
       "    </tr>\n",
       "    <tr>\n",
       "      <th>2</th>\n",
       "      <td>3</td>\n",
       "      <td>1.756925</td>\n",
       "      <td>0.502944</td>\n",
       "      <td>0.992318</td>\n",
       "      <td>0.498320</td>\n",
       "      <td>1.000921</td>\n",
       "      <td>0.496838</td>\n",
       "      <td>0.986820</td>\n",
       "      <td>0.500379</td>\n",
       "      <td>0.982871</td>\n",
       "    </tr>\n",
       "    <tr>\n",
       "      <th>3</th>\n",
       "      <td>4</td>\n",
       "      <td>1.749948</td>\n",
       "      <td>0.500576</td>\n",
       "      <td>0.992066</td>\n",
       "      <td>0.497719</td>\n",
       "      <td>1.002545</td>\n",
       "      <td>0.495299</td>\n",
       "      <td>0.981771</td>\n",
       "      <td>0.499674</td>\n",
       "      <td>0.980809</td>\n",
       "    </tr>\n",
       "    <tr>\n",
       "      <th>4</th>\n",
       "      <td>5</td>\n",
       "      <td>1.744508</td>\n",
       "      <td>0.501333</td>\n",
       "      <td>0.993760</td>\n",
       "      <td>0.498580</td>\n",
       "      <td>1.001633</td>\n",
       "      <td>0.497185</td>\n",
       "      <td>0.985005</td>\n",
       "      <td>0.499587</td>\n",
       "      <td>0.983420</td>\n",
       "    </tr>\n",
       "  </tbody>\n",
       "</table>\n",
       "</div>"
      ],
      "text/plain": [
       "   scenario      pg_1     pg_18      v_18     pg_22      v_22     pg_25  \\\n",
       "0         1  1.758103  0.503435  0.994450  0.498228  1.001049  0.498079   \n",
       "1         2  1.730381  0.502246  0.995173  0.499606  1.001341  0.499537   \n",
       "2         3  1.756925  0.502944  0.992318  0.498320  1.000921  0.496838   \n",
       "3         4  1.749948  0.500576  0.992066  0.497719  1.002545  0.495299   \n",
       "4         5  1.744508  0.501333  0.993760  0.498580  1.001633  0.497185   \n",
       "\n",
       "       v_25     pg_33      v_33  \n",
       "0  0.989166  0.500742  0.983483  \n",
       "1  0.988894  0.500680  0.985199  \n",
       "2  0.986820  0.500379  0.982871  \n",
       "3  0.981771  0.499674  0.980809  \n",
       "4  0.985005  0.499587  0.983420  "
      ]
     },
     "execution_count": 10,
     "metadata": {},
     "output_type": "execute_result"
    }
   ],
   "source": [
    "pg_v_test_load_increase_pred_1 = pd.concat([pg_v_test_load_increase.scenario, y_test_load_increase_pred_1], axis = 1)\n",
    "pg_v_test_load_increase_pred_1.head()"
   ]
  },
  {
   "cell_type": "code",
   "execution_count": 11,
   "metadata": {},
   "outputs": [],
   "source": [
    "pg_v_test_load_increase_pred_1.to_csv('pg_v_test_load_increase_pred_1.csv', index = False, float_format = '%0.20f')"
   ]
  },
  {
   "cell_type": "markdown",
   "metadata": {},
   "source": [
    "##### Using model 2 that was trained using training group 2"
   ]
  },
  {
   "cell_type": "code",
   "execution_count": 12,
   "metadata": {},
   "outputs": [
    {
     "data": {
      "text/html": [
       "<div>\n",
       "<style scoped>\n",
       "    .dataframe tbody tr th:only-of-type {\n",
       "        vertical-align: middle;\n",
       "    }\n",
       "\n",
       "    .dataframe tbody tr th {\n",
       "        vertical-align: top;\n",
       "    }\n",
       "\n",
       "    .dataframe thead th {\n",
       "        text-align: right;\n",
       "    }\n",
       "</style>\n",
       "<table border=\"1\" class=\"dataframe\">\n",
       "  <thead>\n",
       "    <tr style=\"text-align: right;\">\n",
       "      <th></th>\n",
       "      <th>pg_1</th>\n",
       "      <th>pg_18</th>\n",
       "      <th>v_18</th>\n",
       "      <th>pg_22</th>\n",
       "      <th>v_22</th>\n",
       "      <th>pg_25</th>\n",
       "      <th>v_25</th>\n",
       "      <th>pg_33</th>\n",
       "      <th>v_33</th>\n",
       "    </tr>\n",
       "  </thead>\n",
       "  <tbody>\n",
       "    <tr>\n",
       "      <th>0</th>\n",
       "      <td>1.748833</td>\n",
       "      <td>0.459137</td>\n",
       "      <td>0.956699</td>\n",
       "      <td>0.549907</td>\n",
       "      <td>1.006145</td>\n",
       "      <td>0.477175</td>\n",
       "      <td>1.007524</td>\n",
       "      <td>0.465455</td>\n",
       "      <td>0.962834</td>\n",
       "    </tr>\n",
       "    <tr>\n",
       "      <th>1</th>\n",
       "      <td>1.715277</td>\n",
       "      <td>0.470319</td>\n",
       "      <td>0.954082</td>\n",
       "      <td>0.550982</td>\n",
       "      <td>1.003842</td>\n",
       "      <td>0.472772</td>\n",
       "      <td>1.012039</td>\n",
       "      <td>0.464849</td>\n",
       "      <td>0.963172</td>\n",
       "    </tr>\n",
       "    <tr>\n",
       "      <th>2</th>\n",
       "      <td>1.733594</td>\n",
       "      <td>0.468135</td>\n",
       "      <td>0.953403</td>\n",
       "      <td>0.548101</td>\n",
       "      <td>0.999925</td>\n",
       "      <td>0.468751</td>\n",
       "      <td>1.016086</td>\n",
       "      <td>0.467243</td>\n",
       "      <td>0.965595</td>\n",
       "    </tr>\n",
       "    <tr>\n",
       "      <th>3</th>\n",
       "      <td>1.736339</td>\n",
       "      <td>0.462264</td>\n",
       "      <td>0.955321</td>\n",
       "      <td>0.543926</td>\n",
       "      <td>1.000333</td>\n",
       "      <td>0.471739</td>\n",
       "      <td>1.014394</td>\n",
       "      <td>0.470404</td>\n",
       "      <td>0.965489</td>\n",
       "    </tr>\n",
       "    <tr>\n",
       "      <th>4</th>\n",
       "      <td>1.734857</td>\n",
       "      <td>0.456640</td>\n",
       "      <td>0.959846</td>\n",
       "      <td>0.542011</td>\n",
       "      <td>1.000623</td>\n",
       "      <td>0.473534</td>\n",
       "      <td>1.010645</td>\n",
       "      <td>0.472095</td>\n",
       "      <td>0.969233</td>\n",
       "    </tr>\n",
       "  </tbody>\n",
       "</table>\n",
       "</div>"
      ],
      "text/plain": [
       "       pg_1     pg_18      v_18     pg_22      v_22     pg_25      v_25  \\\n",
       "0  1.748833  0.459137  0.956699  0.549907  1.006145  0.477175  1.007524   \n",
       "1  1.715277  0.470319  0.954082  0.550982  1.003842  0.472772  1.012039   \n",
       "2  1.733594  0.468135  0.953403  0.548101  0.999925  0.468751  1.016086   \n",
       "3  1.736339  0.462264  0.955321  0.543926  1.000333  0.471739  1.014394   \n",
       "4  1.734857  0.456640  0.959846  0.542011  1.000623  0.473534  1.010645   \n",
       "\n",
       "      pg_33      v_33  \n",
       "0  0.465455  0.962834  \n",
       "1  0.464849  0.963172  \n",
       "2  0.467243  0.965595  \n",
       "3  0.470404  0.965489  \n",
       "4  0.472095  0.969233  "
      ]
     },
     "execution_count": 12,
     "metadata": {},
     "output_type": "execute_result"
    }
   ],
   "source": [
    "y_test_load_increase_pred_2 = model_2.predict(x_test_load_increase)\n",
    "y_test_load_increase_pred_2 = pd.DataFrame(data = y_test_load_increase_pred_2,\n",
    "                             columns = ['pg_1', 'pg_18', 'v_18', 'pg_22', 'v_22', 'pg_25', 'v_25', 'pg_33', 'v_33'])\n",
    "y_test_load_increase_pred_2.head()"
   ]
  },
  {
   "cell_type": "code",
   "execution_count": 13,
   "metadata": {},
   "outputs": [
    {
     "data": {
      "text/html": [
       "<div>\n",
       "<style scoped>\n",
       "    .dataframe tbody tr th:only-of-type {\n",
       "        vertical-align: middle;\n",
       "    }\n",
       "\n",
       "    .dataframe tbody tr th {\n",
       "        vertical-align: top;\n",
       "    }\n",
       "\n",
       "    .dataframe thead th {\n",
       "        text-align: right;\n",
       "    }\n",
       "</style>\n",
       "<table border=\"1\" class=\"dataframe\">\n",
       "  <thead>\n",
       "    <tr style=\"text-align: right;\">\n",
       "      <th></th>\n",
       "      <th>scenario</th>\n",
       "      <th>pg_1</th>\n",
       "      <th>pg_18</th>\n",
       "      <th>v_18</th>\n",
       "      <th>pg_22</th>\n",
       "      <th>v_22</th>\n",
       "      <th>pg_25</th>\n",
       "      <th>v_25</th>\n",
       "      <th>pg_33</th>\n",
       "      <th>v_33</th>\n",
       "    </tr>\n",
       "  </thead>\n",
       "  <tbody>\n",
       "    <tr>\n",
       "      <th>0</th>\n",
       "      <td>1</td>\n",
       "      <td>1.748833</td>\n",
       "      <td>0.459137</td>\n",
       "      <td>0.956699</td>\n",
       "      <td>0.549907</td>\n",
       "      <td>1.006145</td>\n",
       "      <td>0.477175</td>\n",
       "      <td>1.007524</td>\n",
       "      <td>0.465455</td>\n",
       "      <td>0.962834</td>\n",
       "    </tr>\n",
       "    <tr>\n",
       "      <th>1</th>\n",
       "      <td>2</td>\n",
       "      <td>1.715277</td>\n",
       "      <td>0.470319</td>\n",
       "      <td>0.954082</td>\n",
       "      <td>0.550982</td>\n",
       "      <td>1.003842</td>\n",
       "      <td>0.472772</td>\n",
       "      <td>1.012039</td>\n",
       "      <td>0.464849</td>\n",
       "      <td>0.963172</td>\n",
       "    </tr>\n",
       "    <tr>\n",
       "      <th>2</th>\n",
       "      <td>3</td>\n",
       "      <td>1.733594</td>\n",
       "      <td>0.468135</td>\n",
       "      <td>0.953403</td>\n",
       "      <td>0.548101</td>\n",
       "      <td>0.999925</td>\n",
       "      <td>0.468751</td>\n",
       "      <td>1.016086</td>\n",
       "      <td>0.467243</td>\n",
       "      <td>0.965595</td>\n",
       "    </tr>\n",
       "    <tr>\n",
       "      <th>3</th>\n",
       "      <td>4</td>\n",
       "      <td>1.736339</td>\n",
       "      <td>0.462264</td>\n",
       "      <td>0.955321</td>\n",
       "      <td>0.543926</td>\n",
       "      <td>1.000333</td>\n",
       "      <td>0.471739</td>\n",
       "      <td>1.014394</td>\n",
       "      <td>0.470404</td>\n",
       "      <td>0.965489</td>\n",
       "    </tr>\n",
       "    <tr>\n",
       "      <th>4</th>\n",
       "      <td>5</td>\n",
       "      <td>1.734857</td>\n",
       "      <td>0.456640</td>\n",
       "      <td>0.959846</td>\n",
       "      <td>0.542011</td>\n",
       "      <td>1.000623</td>\n",
       "      <td>0.473534</td>\n",
       "      <td>1.010645</td>\n",
       "      <td>0.472095</td>\n",
       "      <td>0.969233</td>\n",
       "    </tr>\n",
       "  </tbody>\n",
       "</table>\n",
       "</div>"
      ],
      "text/plain": [
       "   scenario      pg_1     pg_18      v_18     pg_22      v_22     pg_25  \\\n",
       "0         1  1.748833  0.459137  0.956699  0.549907  1.006145  0.477175   \n",
       "1         2  1.715277  0.470319  0.954082  0.550982  1.003842  0.472772   \n",
       "2         3  1.733594  0.468135  0.953403  0.548101  0.999925  0.468751   \n",
       "3         4  1.736339  0.462264  0.955321  0.543926  1.000333  0.471739   \n",
       "4         5  1.734857  0.456640  0.959846  0.542011  1.000623  0.473534   \n",
       "\n",
       "       v_25     pg_33      v_33  \n",
       "0  1.007524  0.465455  0.962834  \n",
       "1  1.012039  0.464849  0.963172  \n",
       "2  1.016086  0.467243  0.965595  \n",
       "3  1.014394  0.470404  0.965489  \n",
       "4  1.010645  0.472095  0.969233  "
      ]
     },
     "execution_count": 13,
     "metadata": {},
     "output_type": "execute_result"
    }
   ],
   "source": [
    "pg_v_test_load_increase_pred_2 = pd.concat([pg_v_test_load_increase.scenario, y_test_load_increase_pred_2], axis = 1)\n",
    "pg_v_test_load_increase_pred_2.head()"
   ]
  },
  {
   "cell_type": "code",
   "execution_count": 14,
   "metadata": {},
   "outputs": [],
   "source": [
    "pg_v_test_load_increase_pred_2.to_csv('pg_v_test_load_increase_pred_2.csv', index = False, float_format = '%0.20f')"
   ]
  },
  {
   "cell_type": "markdown",
   "metadata": {},
   "source": [
    "##### Using model 3 that was trained using training group 3"
   ]
  },
  {
   "cell_type": "code",
   "execution_count": 15,
   "metadata": {},
   "outputs": [
    {
     "data": {
      "text/html": [
       "<div>\n",
       "<style scoped>\n",
       "    .dataframe tbody tr th:only-of-type {\n",
       "        vertical-align: middle;\n",
       "    }\n",
       "\n",
       "    .dataframe tbody tr th {\n",
       "        vertical-align: top;\n",
       "    }\n",
       "\n",
       "    .dataframe thead th {\n",
       "        text-align: right;\n",
       "    }\n",
       "</style>\n",
       "<table border=\"1\" class=\"dataframe\">\n",
       "  <thead>\n",
       "    <tr style=\"text-align: right;\">\n",
       "      <th></th>\n",
       "      <th>pg_1</th>\n",
       "      <th>pg_18</th>\n",
       "      <th>v_18</th>\n",
       "      <th>pg_22</th>\n",
       "      <th>v_22</th>\n",
       "      <th>pg_25</th>\n",
       "      <th>v_25</th>\n",
       "      <th>pg_33</th>\n",
       "      <th>v_33</th>\n",
       "    </tr>\n",
       "  </thead>\n",
       "  <tbody>\n",
       "    <tr>\n",
       "      <th>0</th>\n",
       "      <td>1.478901</td>\n",
       "      <td>0.500282</td>\n",
       "      <td>1.106831</td>\n",
       "      <td>0.458472</td>\n",
       "      <td>0.969530</td>\n",
       "      <td>0.569854</td>\n",
       "      <td>0.910408</td>\n",
       "      <td>0.483546</td>\n",
       "      <td>0.956185</td>\n",
       "    </tr>\n",
       "    <tr>\n",
       "      <th>1</th>\n",
       "      <td>1.475747</td>\n",
       "      <td>0.496499</td>\n",
       "      <td>1.122425</td>\n",
       "      <td>0.459337</td>\n",
       "      <td>0.964005</td>\n",
       "      <td>0.575832</td>\n",
       "      <td>0.906824</td>\n",
       "      <td>0.484286</td>\n",
       "      <td>0.948981</td>\n",
       "    </tr>\n",
       "    <tr>\n",
       "      <th>2</th>\n",
       "      <td>1.507088</td>\n",
       "      <td>0.500255</td>\n",
       "      <td>1.120456</td>\n",
       "      <td>0.460823</td>\n",
       "      <td>0.962268</td>\n",
       "      <td>0.576094</td>\n",
       "      <td>0.904024</td>\n",
       "      <td>0.483789</td>\n",
       "      <td>0.956595</td>\n",
       "    </tr>\n",
       "    <tr>\n",
       "      <th>3</th>\n",
       "      <td>1.502123</td>\n",
       "      <td>0.501022</td>\n",
       "      <td>1.119619</td>\n",
       "      <td>0.459621</td>\n",
       "      <td>0.962419</td>\n",
       "      <td>0.576697</td>\n",
       "      <td>0.906796</td>\n",
       "      <td>0.476924</td>\n",
       "      <td>0.944342</td>\n",
       "    </tr>\n",
       "    <tr>\n",
       "      <th>4</th>\n",
       "      <td>1.483196</td>\n",
       "      <td>0.500567</td>\n",
       "      <td>1.123713</td>\n",
       "      <td>0.456131</td>\n",
       "      <td>0.960796</td>\n",
       "      <td>0.572214</td>\n",
       "      <td>0.905903</td>\n",
       "      <td>0.480459</td>\n",
       "      <td>0.949211</td>\n",
       "    </tr>\n",
       "  </tbody>\n",
       "</table>\n",
       "</div>"
      ],
      "text/plain": [
       "       pg_1     pg_18      v_18     pg_22      v_22     pg_25      v_25  \\\n",
       "0  1.478901  0.500282  1.106831  0.458472  0.969530  0.569854  0.910408   \n",
       "1  1.475747  0.496499  1.122425  0.459337  0.964005  0.575832  0.906824   \n",
       "2  1.507088  0.500255  1.120456  0.460823  0.962268  0.576094  0.904024   \n",
       "3  1.502123  0.501022  1.119619  0.459621  0.962419  0.576697  0.906796   \n",
       "4  1.483196  0.500567  1.123713  0.456131  0.960796  0.572214  0.905903   \n",
       "\n",
       "      pg_33      v_33  \n",
       "0  0.483546  0.956185  \n",
       "1  0.484286  0.948981  \n",
       "2  0.483789  0.956595  \n",
       "3  0.476924  0.944342  \n",
       "4  0.480459  0.949211  "
      ]
     },
     "execution_count": 15,
     "metadata": {},
     "output_type": "execute_result"
    }
   ],
   "source": [
    "y_test_load_increase_pred_3 = model_3.predict(x_test_load_increase)\n",
    "y_test_load_increase_pred_3 = pd.DataFrame(data = y_test_load_increase_pred_3,\n",
    "                             columns = ['pg_1', 'pg_18', 'v_18', 'pg_22', 'v_22', 'pg_25', 'v_25', 'pg_33', 'v_33'])\n",
    "y_test_load_increase_pred_3.head()"
   ]
  },
  {
   "cell_type": "code",
   "execution_count": 16,
   "metadata": {},
   "outputs": [
    {
     "data": {
      "text/html": [
       "<div>\n",
       "<style scoped>\n",
       "    .dataframe tbody tr th:only-of-type {\n",
       "        vertical-align: middle;\n",
       "    }\n",
       "\n",
       "    .dataframe tbody tr th {\n",
       "        vertical-align: top;\n",
       "    }\n",
       "\n",
       "    .dataframe thead th {\n",
       "        text-align: right;\n",
       "    }\n",
       "</style>\n",
       "<table border=\"1\" class=\"dataframe\">\n",
       "  <thead>\n",
       "    <tr style=\"text-align: right;\">\n",
       "      <th></th>\n",
       "      <th>scenario</th>\n",
       "      <th>pg_1</th>\n",
       "      <th>pg_18</th>\n",
       "      <th>v_18</th>\n",
       "      <th>pg_22</th>\n",
       "      <th>v_22</th>\n",
       "      <th>pg_25</th>\n",
       "      <th>v_25</th>\n",
       "      <th>pg_33</th>\n",
       "      <th>v_33</th>\n",
       "    </tr>\n",
       "  </thead>\n",
       "  <tbody>\n",
       "    <tr>\n",
       "      <th>0</th>\n",
       "      <td>1</td>\n",
       "      <td>1.478901</td>\n",
       "      <td>0.500282</td>\n",
       "      <td>1.106831</td>\n",
       "      <td>0.458472</td>\n",
       "      <td>0.969530</td>\n",
       "      <td>0.569854</td>\n",
       "      <td>0.910408</td>\n",
       "      <td>0.483546</td>\n",
       "      <td>0.956185</td>\n",
       "    </tr>\n",
       "    <tr>\n",
       "      <th>1</th>\n",
       "      <td>2</td>\n",
       "      <td>1.475747</td>\n",
       "      <td>0.496499</td>\n",
       "      <td>1.122425</td>\n",
       "      <td>0.459337</td>\n",
       "      <td>0.964005</td>\n",
       "      <td>0.575832</td>\n",
       "      <td>0.906824</td>\n",
       "      <td>0.484286</td>\n",
       "      <td>0.948981</td>\n",
       "    </tr>\n",
       "    <tr>\n",
       "      <th>2</th>\n",
       "      <td>3</td>\n",
       "      <td>1.507088</td>\n",
       "      <td>0.500255</td>\n",
       "      <td>1.120456</td>\n",
       "      <td>0.460823</td>\n",
       "      <td>0.962268</td>\n",
       "      <td>0.576094</td>\n",
       "      <td>0.904024</td>\n",
       "      <td>0.483789</td>\n",
       "      <td>0.956595</td>\n",
       "    </tr>\n",
       "    <tr>\n",
       "      <th>3</th>\n",
       "      <td>4</td>\n",
       "      <td>1.502123</td>\n",
       "      <td>0.501022</td>\n",
       "      <td>1.119619</td>\n",
       "      <td>0.459621</td>\n",
       "      <td>0.962419</td>\n",
       "      <td>0.576697</td>\n",
       "      <td>0.906796</td>\n",
       "      <td>0.476924</td>\n",
       "      <td>0.944342</td>\n",
       "    </tr>\n",
       "    <tr>\n",
       "      <th>4</th>\n",
       "      <td>5</td>\n",
       "      <td>1.483196</td>\n",
       "      <td>0.500567</td>\n",
       "      <td>1.123713</td>\n",
       "      <td>0.456131</td>\n",
       "      <td>0.960796</td>\n",
       "      <td>0.572214</td>\n",
       "      <td>0.905903</td>\n",
       "      <td>0.480459</td>\n",
       "      <td>0.949211</td>\n",
       "    </tr>\n",
       "  </tbody>\n",
       "</table>\n",
       "</div>"
      ],
      "text/plain": [
       "   scenario      pg_1     pg_18      v_18     pg_22      v_22     pg_25  \\\n",
       "0         1  1.478901  0.500282  1.106831  0.458472  0.969530  0.569854   \n",
       "1         2  1.475747  0.496499  1.122425  0.459337  0.964005  0.575832   \n",
       "2         3  1.507088  0.500255  1.120456  0.460823  0.962268  0.576094   \n",
       "3         4  1.502123  0.501022  1.119619  0.459621  0.962419  0.576697   \n",
       "4         5  1.483196  0.500567  1.123713  0.456131  0.960796  0.572214   \n",
       "\n",
       "       v_25     pg_33      v_33  \n",
       "0  0.910408  0.483546  0.956185  \n",
       "1  0.906824  0.484286  0.948981  \n",
       "2  0.904024  0.483789  0.956595  \n",
       "3  0.906796  0.476924  0.944342  \n",
       "4  0.905903  0.480459  0.949211  "
      ]
     },
     "execution_count": 16,
     "metadata": {},
     "output_type": "execute_result"
    }
   ],
   "source": [
    "pg_v_test_load_increase_pred_3 = pd.concat([pg_v_test_load_increase.scenario, y_test_load_increase_pred_3], axis = 1)\n",
    "pg_v_test_load_increase_pred_3.head()"
   ]
  },
  {
   "cell_type": "code",
   "execution_count": 17,
   "metadata": {},
   "outputs": [],
   "source": [
    "pg_v_test_load_increase_pred_3.to_csv('pg_v_test_load_increase_pred_3.csv', index = False, float_format = '%0.20f')"
   ]
  },
  {
   "cell_type": "markdown",
   "metadata": {},
   "source": [
    "##### RMSE of $P_{G_{1}}$ estimates"
   ]
  },
  {
   "cell_type": "code",
   "execution_count": 18,
   "metadata": {},
   "outputs": [
    {
     "data": {
      "text/plain": [
       "0.006560151143506911"
      ]
     },
     "execution_count": 18,
     "metadata": {},
     "output_type": "execute_result"
    }
   ],
   "source": [
    "mean_squared_error(pg_v_test_load_increase.pg_1, pg_v_test_load_increase_pred_1.pg_1, squared = False)"
   ]
  },
  {
   "cell_type": "code",
   "execution_count": 19,
   "metadata": {},
   "outputs": [
    {
     "data": {
      "text/plain": [
       "0.020355202883741826"
      ]
     },
     "execution_count": 19,
     "metadata": {},
     "output_type": "execute_result"
    }
   ],
   "source": [
    "mean_squared_error(pg_v_test_load_increase.pg_1, pg_v_test_load_increase_pred_2.pg_1, squared = False)"
   ]
  },
  {
   "cell_type": "code",
   "execution_count": 20,
   "metadata": {},
   "outputs": [
    {
     "data": {
      "text/plain": [
       "0.2677271599693111"
      ]
     },
     "execution_count": 20,
     "metadata": {},
     "output_type": "execute_result"
    }
   ],
   "source": [
    "mean_squared_error(pg_v_test_load_increase.pg_1, pg_v_test_load_increase_pred_3.pg_1, squared = False)"
   ]
  },
  {
   "cell_type": "markdown",
   "metadata": {},
   "source": [
    "##### RMSE of $P_{G_{18}}$ estimates"
   ]
  },
  {
   "cell_type": "code",
   "execution_count": 21,
   "metadata": {},
   "outputs": [
    {
     "data": {
      "text/plain": [
       "0.002389220468878652"
      ]
     },
     "execution_count": 21,
     "metadata": {},
     "output_type": "execute_result"
    }
   ],
   "source": [
    "mean_squared_error(pg_v_test_load_increase.pg_18, pg_v_test_load_increase_pred_1.pg_18, squared = False)"
   ]
  },
  {
   "cell_type": "code",
   "execution_count": 22,
   "metadata": {},
   "outputs": [
    {
     "data": {
      "text/plain": [
       "0.04131787219800429"
      ]
     },
     "execution_count": 22,
     "metadata": {},
     "output_type": "execute_result"
    }
   ],
   "source": [
    "mean_squared_error(pg_v_test_load_increase.pg_18, pg_v_test_load_increase_pred_2.pg_18, squared = False)"
   ]
  },
  {
   "cell_type": "code",
   "execution_count": 23,
   "metadata": {},
   "outputs": [
    {
     "data": {
      "text/plain": [
       "0.003716763705923139"
      ]
     },
     "execution_count": 23,
     "metadata": {},
     "output_type": "execute_result"
    }
   ],
   "source": [
    "mean_squared_error(pg_v_test_load_increase.pg_18, pg_v_test_load_increase_pred_3.pg_18, squared = False)"
   ]
  },
  {
   "cell_type": "markdown",
   "metadata": {},
   "source": [
    "##### RMSE of $P_{G_{22}}$ estimates"
   ]
  },
  {
   "cell_type": "code",
   "execution_count": 24,
   "metadata": {},
   "outputs": [
    {
     "data": {
      "text/plain": [
       "0.001712785449170211"
      ]
     },
     "execution_count": 24,
     "metadata": {},
     "output_type": "execute_result"
    }
   ],
   "source": [
    "mean_squared_error(pg_v_test_load_increase.pg_22, pg_v_test_load_increase_pred_1.pg_22, squared = False)"
   ]
  },
  {
   "cell_type": "code",
   "execution_count": 25,
   "metadata": {},
   "outputs": [
    {
     "data": {
      "text/plain": [
       "0.04638994385573285"
      ]
     },
     "execution_count": 25,
     "metadata": {},
     "output_type": "execute_result"
    }
   ],
   "source": [
    "mean_squared_error(pg_v_test_load_increase.pg_22, pg_v_test_load_increase_pred_2.pg_22, squared = False)"
   ]
  },
  {
   "cell_type": "code",
   "execution_count": 26,
   "metadata": {},
   "outputs": [
    {
     "data": {
      "text/plain": [
       "0.04316938592455001"
      ]
     },
     "execution_count": 26,
     "metadata": {},
     "output_type": "execute_result"
    }
   ],
   "source": [
    "mean_squared_error(pg_v_test_load_increase.pg_22, pg_v_test_load_increase_pred_3.pg_22, squared = False)"
   ]
  },
  {
   "cell_type": "markdown",
   "metadata": {},
   "source": [
    "##### RMSE of $P_{G_{25}}$ estimates"
   ]
  },
  {
   "cell_type": "code",
   "execution_count": 27,
   "metadata": {},
   "outputs": [
    {
     "data": {
      "text/plain": [
       "0.0029019283005457756"
      ]
     },
     "execution_count": 27,
     "metadata": {},
     "output_type": "execute_result"
    }
   ],
   "source": [
    "mean_squared_error(pg_v_test_load_increase.pg_25, pg_v_test_load_increase_pred_1.pg_25, squared = False)"
   ]
  },
  {
   "cell_type": "code",
   "execution_count": 28,
   "metadata": {},
   "outputs": [
    {
     "data": {
      "text/plain": [
       "0.026560823532253724"
      ]
     },
     "execution_count": 28,
     "metadata": {},
     "output_type": "execute_result"
    }
   ],
   "source": [
    "mean_squared_error(pg_v_test_load_increase.pg_25, pg_v_test_load_increase_pred_2.pg_25, squared = False)"
   ]
  },
  {
   "cell_type": "code",
   "execution_count": 29,
   "metadata": {},
   "outputs": [
    {
     "data": {
      "text/plain": [
       "0.07318991769017699"
      ]
     },
     "execution_count": 29,
     "metadata": {},
     "output_type": "execute_result"
    }
   ],
   "source": [
    "mean_squared_error(pg_v_test_load_increase.pg_25, pg_v_test_load_increase_pred_3.pg_25, squared = False)"
   ]
  },
  {
   "cell_type": "markdown",
   "metadata": {},
   "source": [
    "##### RMSE of $P_{G_{33}}$ estimates"
   ]
  },
  {
   "cell_type": "code",
   "execution_count": 30,
   "metadata": {},
   "outputs": [
    {
     "data": {
      "text/plain": [
       "0.0006493996014509167"
      ]
     },
     "execution_count": 30,
     "metadata": {},
     "output_type": "execute_result"
    }
   ],
   "source": [
    "mean_squared_error(pg_v_test_load_increase.pg_33, pg_v_test_load_increase_pred_1.pg_33, squared = False)"
   ]
  },
  {
   "cell_type": "code",
   "execution_count": 31,
   "metadata": {},
   "outputs": [
    {
     "data": {
      "text/plain": [
       "0.03095289313791558"
      ]
     },
     "execution_count": 31,
     "metadata": {},
     "output_type": "execute_result"
    }
   ],
   "source": [
    "mean_squared_error(pg_v_test_load_increase.pg_33, pg_v_test_load_increase_pred_2.pg_33, squared = False)"
   ]
  },
  {
   "cell_type": "code",
   "execution_count": 32,
   "metadata": {},
   "outputs": [
    {
     "data": {
      "text/plain": [
       "0.01831094261554384"
      ]
     },
     "execution_count": 32,
     "metadata": {},
     "output_type": "execute_result"
    }
   ],
   "source": [
    "mean_squared_error(pg_v_test_load_increase.pg_33, pg_v_test_load_increase_pred_3.pg_33, squared = False)"
   ]
  },
  {
   "cell_type": "markdown",
   "metadata": {},
   "source": [
    "##### RMSE of $V_{18}$ estimates"
   ]
  },
  {
   "cell_type": "code",
   "execution_count": 33,
   "metadata": {},
   "outputs": [
    {
     "data": {
      "text/plain": [
       "0.0009225563754412099"
      ]
     },
     "execution_count": 33,
     "metadata": {},
     "output_type": "execute_result"
    }
   ],
   "source": [
    "mean_squared_error(pg_v_test_load_increase.v_18, pg_v_test_load_increase_pred_1.v_18, squared = False)"
   ]
  },
  {
   "cell_type": "code",
   "execution_count": 34,
   "metadata": {},
   "outputs": [
    {
     "data": {
      "text/plain": [
       "0.03731348756478039"
      ]
     },
     "execution_count": 34,
     "metadata": {},
     "output_type": "execute_result"
    }
   ],
   "source": [
    "mean_squared_error(pg_v_test_load_increase.v_18, pg_v_test_load_increase_pred_2.v_18, squared = False)"
   ]
  },
  {
   "cell_type": "code",
   "execution_count": 35,
   "metadata": {},
   "outputs": [
    {
     "data": {
      "text/plain": [
       "0.12519826997871764"
      ]
     },
     "execution_count": 35,
     "metadata": {},
     "output_type": "execute_result"
    }
   ],
   "source": [
    "mean_squared_error(pg_v_test_load_increase.v_18, pg_v_test_load_increase_pred_3.v_18, squared = False)"
   ]
  },
  {
   "cell_type": "markdown",
   "metadata": {},
   "source": [
    "##### RMSE of $V_{22}$ estimates"
   ]
  },
  {
   "cell_type": "code",
   "execution_count": 36,
   "metadata": {},
   "outputs": [
    {
     "data": {
      "text/plain": [
       "0.0008104027477252237"
      ]
     },
     "execution_count": 36,
     "metadata": {},
     "output_type": "execute_result"
    }
   ],
   "source": [
    "mean_squared_error(pg_v_test_load_increase.v_22, pg_v_test_load_increase_pred_1.v_22, squared = False)"
   ]
  },
  {
   "cell_type": "code",
   "execution_count": 37,
   "metadata": {},
   "outputs": [
    {
     "data": {
      "text/plain": [
       "0.002388218899661204"
      ]
     },
     "execution_count": 37,
     "metadata": {},
     "output_type": "execute_result"
    }
   ],
   "source": [
    "mean_squared_error(pg_v_test_load_increase.v_22, pg_v_test_load_increase_pred_2.v_22, squared = False)"
   ]
  },
  {
   "cell_type": "code",
   "execution_count": 38,
   "metadata": {},
   "outputs": [
    {
     "data": {
      "text/plain": [
       "0.038624342621339784"
      ]
     },
     "execution_count": 38,
     "metadata": {},
     "output_type": "execute_result"
    }
   ],
   "source": [
    "mean_squared_error(pg_v_test_load_increase.v_22, pg_v_test_load_increase_pred_3.v_22, squared = False)"
   ]
  },
  {
   "cell_type": "markdown",
   "metadata": {},
   "source": [
    "##### RMSE of $V_{25}$ estimates"
   ]
  },
  {
   "cell_type": "code",
   "execution_count": 39,
   "metadata": {},
   "outputs": [
    {
     "data": {
      "text/plain": [
       "0.0015860674262320443"
      ]
     },
     "execution_count": 39,
     "metadata": {},
     "output_type": "execute_result"
    }
   ],
   "source": [
    "mean_squared_error(pg_v_test_load_increase.v_25, pg_v_test_load_increase_pred_1.v_25, squared = False)"
   ]
  },
  {
   "cell_type": "code",
   "execution_count": 40,
   "metadata": {},
   "outputs": [
    {
     "data": {
      "text/plain": [
       "0.024934435465051703"
      ]
     },
     "execution_count": 40,
     "metadata": {},
     "output_type": "execute_result"
    }
   ],
   "source": [
    "mean_squared_error(pg_v_test_load_increase.v_25, pg_v_test_load_increase_pred_2.v_25, squared = False)"
   ]
  },
  {
   "cell_type": "code",
   "execution_count": 41,
   "metadata": {},
   "outputs": [
    {
     "data": {
      "text/plain": [
       "0.08019297171527454"
      ]
     },
     "execution_count": 41,
     "metadata": {},
     "output_type": "execute_result"
    }
   ],
   "source": [
    "mean_squared_error(pg_v_test_load_increase.v_25, pg_v_test_load_increase_pred_3.v_25, squared = False)"
   ]
  },
  {
   "cell_type": "markdown",
   "metadata": {},
   "source": [
    "##### RMSE of $V_{33}$ estimates"
   ]
  },
  {
   "cell_type": "code",
   "execution_count": 42,
   "metadata": {},
   "outputs": [
    {
     "data": {
      "text/plain": [
       "0.0032416480568183905"
      ]
     },
     "execution_count": 42,
     "metadata": {},
     "output_type": "execute_result"
    }
   ],
   "source": [
    "mean_squared_error(pg_v_test_load_increase.v_33, pg_v_test_load_increase_pred_1.v_33, squared = False)"
   ]
  },
  {
   "cell_type": "code",
   "execution_count": 43,
   "metadata": {},
   "outputs": [
    {
     "data": {
      "text/plain": [
       "0.02004224383179839"
      ]
     },
     "execution_count": 43,
     "metadata": {},
     "output_type": "execute_result"
    }
   ],
   "source": [
    "mean_squared_error(pg_v_test_load_increase.v_33, pg_v_test_load_increase_pred_2.v_33, squared = False)"
   ]
  },
  {
   "cell_type": "code",
   "execution_count": 44,
   "metadata": {},
   "outputs": [
    {
     "data": {
      "text/plain": [
       "0.03188647362540422"
      ]
     },
     "execution_count": 44,
     "metadata": {},
     "output_type": "execute_result"
    }
   ],
   "source": [
    "mean_squared_error(pg_v_test_load_increase.v_33, pg_v_test_load_increase_pred_3.v_33, squared = False)"
   ]
  },
  {
   "cell_type": "code",
   "execution_count": null,
   "metadata": {},
   "outputs": [],
   "source": []
  },
  {
   "cell_type": "code",
   "execution_count": null,
   "metadata": {},
   "outputs": [],
   "source": []
  },
  {
   "cell_type": "code",
   "execution_count": null,
   "metadata": {},
   "outputs": [],
   "source": []
  }
 ],
 "metadata": {
  "kernelspec": {
   "display_name": "Python 3",
   "language": "python",
   "name": "python3"
  },
  "language_info": {
   "codemirror_mode": {
    "name": "ipython",
    "version": 3
   },
   "file_extension": ".py",
   "mimetype": "text/x-python",
   "name": "python",
   "nbconvert_exporter": "python",
   "pygments_lexer": "ipython3",
   "version": "3.8.5"
  }
 },
 "nbformat": 4,
 "nbformat_minor": 4
}
